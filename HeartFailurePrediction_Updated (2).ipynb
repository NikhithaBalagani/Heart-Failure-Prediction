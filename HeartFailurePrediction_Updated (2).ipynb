{
  "nbformat": 4,
  "nbformat_minor": 0,
  "metadata": {
    "colab": {
      "provenance": []
    },
    "kernelspec": {
      "name": "python3",
      "display_name": "Python 3"
    },
    "language_info": {
      "name": "python"
    }
  },
  "cells": [
    {
      "cell_type": "code",
      "execution_count": 83,
      "metadata": {
        "id": "TgqCmhGiVxN7"
      },
      "outputs": [],
      "source": [
        "# manipulation data\n",
        "import pandas as pd\n",
        "import numpy as np\n",
        "\n",
        "#visualiation data\n",
        "import matplotlib.pyplot as plt\n",
        "import seaborn as sns \n",
        "import matplotlib\n",
        "import plotly.graph_objects as go\n",
        "import plotly.express as px\n",
        "\n",
        "#default theme\n",
        "sns.set(context='notebook', style='darkgrid', palette='colorblind', font='sans-serif', font_scale=1, rc=None)\n",
        "matplotlib.rcParams['figure.figsize'] =[8,8]\n",
        "matplotlib.rcParams.update({'font.size': 15})\n",
        "matplotlib.rcParams['font.family'] = 'sans-serif'"
      ]
    },
    {
      "cell_type": "code",
      "source": [
        "train = pd.read_csv('heartdataset.csv')\n",
        "train.head(6)"
      ],
      "metadata": {
        "colab": {
          "base_uri": "https://localhost:8080/",
          "height": 238
        },
        "id": "eV6hWG_-WCa0",
        "outputId": "730e1a68-99ef-43df-ee71-10de2713b409"
      },
      "execution_count": 84,
      "outputs": [
        {
          "output_type": "execute_result",
          "data": {
            "text/plain": [
              "    age  anaemia  creatinine_phosphokinase  diabetes  ejection_fraction  \\\n",
              "0  75.0        0                       582         0                 20   \n",
              "1  55.0        0                      7861         0                 38   \n",
              "2  65.0        0                       146         0                 20   \n",
              "3  50.0        1                       111         0                 20   \n",
              "4  65.0        1                       160         1                 20   \n",
              "5  90.0        1                        47         0                 40   \n",
              "\n",
              "   high_blood_pressure  platelets  serum_creatinine  serum_sodium  sex  \\\n",
              "0                    1  265000.00               1.9           130    1   \n",
              "1                    0  263358.03               1.1           136    1   \n",
              "2                    0  162000.00               1.3           129    1   \n",
              "3                    0  210000.00               1.9           137    1   \n",
              "4                    0  327000.00               2.7           116    0   \n",
              "5                    1  204000.00               2.1           132    1   \n",
              "\n",
              "   smoking  time  DEATH_EVENT  \n",
              "0        0     4            1  \n",
              "1        0     6            1  \n",
              "2        1     7            1  \n",
              "3        0     7            1  \n",
              "4        0     8            1  \n",
              "5        1     8            1  "
            ],
            "text/html": [
              "\n",
              "  <div id=\"df-9f579d04-5a43-4803-852a-6ae6b8022d21\">\n",
              "    <div class=\"colab-df-container\">\n",
              "      <div>\n",
              "<style scoped>\n",
              "    .dataframe tbody tr th:only-of-type {\n",
              "        vertical-align: middle;\n",
              "    }\n",
              "\n",
              "    .dataframe tbody tr th {\n",
              "        vertical-align: top;\n",
              "    }\n",
              "\n",
              "    .dataframe thead th {\n",
              "        text-align: right;\n",
              "    }\n",
              "</style>\n",
              "<table border=\"1\" class=\"dataframe\">\n",
              "  <thead>\n",
              "    <tr style=\"text-align: right;\">\n",
              "      <th></th>\n",
              "      <th>age</th>\n",
              "      <th>anaemia</th>\n",
              "      <th>creatinine_phosphokinase</th>\n",
              "      <th>diabetes</th>\n",
              "      <th>ejection_fraction</th>\n",
              "      <th>high_blood_pressure</th>\n",
              "      <th>platelets</th>\n",
              "      <th>serum_creatinine</th>\n",
              "      <th>serum_sodium</th>\n",
              "      <th>sex</th>\n",
              "      <th>smoking</th>\n",
              "      <th>time</th>\n",
              "      <th>DEATH_EVENT</th>\n",
              "    </tr>\n",
              "  </thead>\n",
              "  <tbody>\n",
              "    <tr>\n",
              "      <th>0</th>\n",
              "      <td>75.0</td>\n",
              "      <td>0</td>\n",
              "      <td>582</td>\n",
              "      <td>0</td>\n",
              "      <td>20</td>\n",
              "      <td>1</td>\n",
              "      <td>265000.00</td>\n",
              "      <td>1.9</td>\n",
              "      <td>130</td>\n",
              "      <td>1</td>\n",
              "      <td>0</td>\n",
              "      <td>4</td>\n",
              "      <td>1</td>\n",
              "    </tr>\n",
              "    <tr>\n",
              "      <th>1</th>\n",
              "      <td>55.0</td>\n",
              "      <td>0</td>\n",
              "      <td>7861</td>\n",
              "      <td>0</td>\n",
              "      <td>38</td>\n",
              "      <td>0</td>\n",
              "      <td>263358.03</td>\n",
              "      <td>1.1</td>\n",
              "      <td>136</td>\n",
              "      <td>1</td>\n",
              "      <td>0</td>\n",
              "      <td>6</td>\n",
              "      <td>1</td>\n",
              "    </tr>\n",
              "    <tr>\n",
              "      <th>2</th>\n",
              "      <td>65.0</td>\n",
              "      <td>0</td>\n",
              "      <td>146</td>\n",
              "      <td>0</td>\n",
              "      <td>20</td>\n",
              "      <td>0</td>\n",
              "      <td>162000.00</td>\n",
              "      <td>1.3</td>\n",
              "      <td>129</td>\n",
              "      <td>1</td>\n",
              "      <td>1</td>\n",
              "      <td>7</td>\n",
              "      <td>1</td>\n",
              "    </tr>\n",
              "    <tr>\n",
              "      <th>3</th>\n",
              "      <td>50.0</td>\n",
              "      <td>1</td>\n",
              "      <td>111</td>\n",
              "      <td>0</td>\n",
              "      <td>20</td>\n",
              "      <td>0</td>\n",
              "      <td>210000.00</td>\n",
              "      <td>1.9</td>\n",
              "      <td>137</td>\n",
              "      <td>1</td>\n",
              "      <td>0</td>\n",
              "      <td>7</td>\n",
              "      <td>1</td>\n",
              "    </tr>\n",
              "    <tr>\n",
              "      <th>4</th>\n",
              "      <td>65.0</td>\n",
              "      <td>1</td>\n",
              "      <td>160</td>\n",
              "      <td>1</td>\n",
              "      <td>20</td>\n",
              "      <td>0</td>\n",
              "      <td>327000.00</td>\n",
              "      <td>2.7</td>\n",
              "      <td>116</td>\n",
              "      <td>0</td>\n",
              "      <td>0</td>\n",
              "      <td>8</td>\n",
              "      <td>1</td>\n",
              "    </tr>\n",
              "    <tr>\n",
              "      <th>5</th>\n",
              "      <td>90.0</td>\n",
              "      <td>1</td>\n",
              "      <td>47</td>\n",
              "      <td>0</td>\n",
              "      <td>40</td>\n",
              "      <td>1</td>\n",
              "      <td>204000.00</td>\n",
              "      <td>2.1</td>\n",
              "      <td>132</td>\n",
              "      <td>1</td>\n",
              "      <td>1</td>\n",
              "      <td>8</td>\n",
              "      <td>1</td>\n",
              "    </tr>\n",
              "  </tbody>\n",
              "</table>\n",
              "</div>\n",
              "      <button class=\"colab-df-convert\" onclick=\"convertToInteractive('df-9f579d04-5a43-4803-852a-6ae6b8022d21')\"\n",
              "              title=\"Convert this dataframe to an interactive table.\"\n",
              "              style=\"display:none;\">\n",
              "        \n",
              "  <svg xmlns=\"http://www.w3.org/2000/svg\" height=\"24px\"viewBox=\"0 0 24 24\"\n",
              "       width=\"24px\">\n",
              "    <path d=\"M0 0h24v24H0V0z\" fill=\"none\"/>\n",
              "    <path d=\"M18.56 5.44l.94 2.06.94-2.06 2.06-.94-2.06-.94-.94-2.06-.94 2.06-2.06.94zm-11 1L8.5 8.5l.94-2.06 2.06-.94-2.06-.94L8.5 2.5l-.94 2.06-2.06.94zm10 10l.94 2.06.94-2.06 2.06-.94-2.06-.94-.94-2.06-.94 2.06-2.06.94z\"/><path d=\"M17.41 7.96l-1.37-1.37c-.4-.4-.92-.59-1.43-.59-.52 0-1.04.2-1.43.59L10.3 9.45l-7.72 7.72c-.78.78-.78 2.05 0 2.83L4 21.41c.39.39.9.59 1.41.59.51 0 1.02-.2 1.41-.59l7.78-7.78 2.81-2.81c.8-.78.8-2.07 0-2.86zM5.41 20L4 18.59l7.72-7.72 1.47 1.35L5.41 20z\"/>\n",
              "  </svg>\n",
              "      </button>\n",
              "      \n",
              "  <style>\n",
              "    .colab-df-container {\n",
              "      display:flex;\n",
              "      flex-wrap:wrap;\n",
              "      gap: 12px;\n",
              "    }\n",
              "\n",
              "    .colab-df-convert {\n",
              "      background-color: #E8F0FE;\n",
              "      border: none;\n",
              "      border-radius: 50%;\n",
              "      cursor: pointer;\n",
              "      display: none;\n",
              "      fill: #1967D2;\n",
              "      height: 32px;\n",
              "      padding: 0 0 0 0;\n",
              "      width: 32px;\n",
              "    }\n",
              "\n",
              "    .colab-df-convert:hover {\n",
              "      background-color: #E2EBFA;\n",
              "      box-shadow: 0px 1px 2px rgba(60, 64, 67, 0.3), 0px 1px 3px 1px rgba(60, 64, 67, 0.15);\n",
              "      fill: #174EA6;\n",
              "    }\n",
              "\n",
              "    [theme=dark] .colab-df-convert {\n",
              "      background-color: #3B4455;\n",
              "      fill: #D2E3FC;\n",
              "    }\n",
              "\n",
              "    [theme=dark] .colab-df-convert:hover {\n",
              "      background-color: #434B5C;\n",
              "      box-shadow: 0px 1px 3px 1px rgba(0, 0, 0, 0.15);\n",
              "      filter: drop-shadow(0px 1px 2px rgba(0, 0, 0, 0.3));\n",
              "      fill: #FFFFFF;\n",
              "    }\n",
              "  </style>\n",
              "\n",
              "      <script>\n",
              "        const buttonEl =\n",
              "          document.querySelector('#df-9f579d04-5a43-4803-852a-6ae6b8022d21 button.colab-df-convert');\n",
              "        buttonEl.style.display =\n",
              "          google.colab.kernel.accessAllowed ? 'block' : 'none';\n",
              "\n",
              "        async function convertToInteractive(key) {\n",
              "          const element = document.querySelector('#df-9f579d04-5a43-4803-852a-6ae6b8022d21');\n",
              "          const dataTable =\n",
              "            await google.colab.kernel.invokeFunction('convertToInteractive',\n",
              "                                                     [key], {});\n",
              "          if (!dataTable) return;\n",
              "\n",
              "          const docLinkHtml = 'Like what you see? Visit the ' +\n",
              "            '<a target=\"_blank\" href=https://colab.research.google.com/notebooks/data_table.ipynb>data table notebook</a>'\n",
              "            + ' to learn more about interactive tables.';\n",
              "          element.innerHTML = '';\n",
              "          dataTable['output_type'] = 'display_data';\n",
              "          await google.colab.output.renderOutput(dataTable, element);\n",
              "          const docLink = document.createElement('div');\n",
              "          docLink.innerHTML = docLinkHtml;\n",
              "          element.appendChild(docLink);\n",
              "        }\n",
              "      </script>\n",
              "    </div>\n",
              "  </div>\n",
              "  "
            ]
          },
          "metadata": {},
          "execution_count": 84
        }
      ]
    },
    {
      "cell_type": "code",
      "source": [
        "train.info()"
      ],
      "metadata": {
        "colab": {
          "base_uri": "https://localhost:8080/"
        },
        "id": "PWkCF56wWGJ8",
        "outputId": "9ff3c9c3-ef08-4a64-ff7b-630a92d0f9ef"
      },
      "execution_count": 85,
      "outputs": [
        {
          "output_type": "stream",
          "name": "stdout",
          "text": [
            "<class 'pandas.core.frame.DataFrame'>\n",
            "RangeIndex: 299 entries, 0 to 298\n",
            "Data columns (total 13 columns):\n",
            " #   Column                    Non-Null Count  Dtype  \n",
            "---  ------                    --------------  -----  \n",
            " 0   age                       299 non-null    float64\n",
            " 1   anaemia                   299 non-null    int64  \n",
            " 2   creatinine_phosphokinase  299 non-null    int64  \n",
            " 3   diabetes                  299 non-null    int64  \n",
            " 4   ejection_fraction         299 non-null    int64  \n",
            " 5   high_blood_pressure       299 non-null    int64  \n",
            " 6   platelets                 299 non-null    float64\n",
            " 7   serum_creatinine          299 non-null    float64\n",
            " 8   serum_sodium              299 non-null    int64  \n",
            " 9   sex                       299 non-null    int64  \n",
            " 10  smoking                   299 non-null    int64  \n",
            " 11  time                      299 non-null    int64  \n",
            " 12  DEATH_EVENT               299 non-null    int64  \n",
            "dtypes: float64(3), int64(10)\n",
            "memory usage: 30.5 KB\n"
          ]
        }
      ]
    },
    {
      "cell_type": "code",
      "source": [
        "train.dtypes.value_counts().plot.pie(explode=[0.1,0.1],autopct='%1.1f%%',shadow=True)\n",
        "plt.title('type of our data');"
      ],
      "metadata": {
        "colab": {
          "base_uri": "https://localhost:8080/",
          "height": 482
        },
        "id": "IykbmXYsWaxy",
        "outputId": "49744edd-d69b-4f57-c716-f58922a0c62c"
      },
      "execution_count": 86,
      "outputs": [
        {
          "output_type": "display_data",
          "data": {
            "text/plain": [
              "<Figure size 576x576 with 1 Axes>"
            ],
            "image/png": "[encoded data removed]"
          },
          "metadata": {}
        }
      ]
    },
    {
      "cell_type": "code",
      "source": [
        "train.columns"
      ],
      "metadata": {
        "colab": {
          "base_uri": "https://localhost:8080/"
        },
        "id": "3Pz4QqEgWdb3",
        "outputId": "87bd45d8-301a-4477-a61b-5913a261b2ed"
      },
      "execution_count": 87,
      "outputs": [
        {
          "output_type": "execute_result",
          "data": {
            "text/plain": [
              "Index(['age', 'anaemia', 'creatinine_phosphokinase', 'diabetes',\n",
              "       'ejection_fraction', 'high_blood_pressure', 'platelets',\n",
              "       'serum_creatinine', 'serum_sodium', 'sex', 'smoking', 'time',\n",
              "       'DEATH_EVENT'],\n",
              "      dtype='object')"
            ]
          },
          "metadata": {},
          "execution_count": 87
        }
      ]
    },
    {
      "cell_type": "code",
      "source": [
        "train.describe()"
      ],
      "metadata": {
        "colab": {
          "base_uri": "https://localhost:8080/",
          "height": 300
        },
        "id": "B1MZ88BuWi7l",
        "outputId": "6d3bce5c-3959-4579-bbcd-a1f66cc120ff"
      },
      "execution_count": 88,
      "outputs": [
        {
          "output_type": "execute_result",
          "data": {
            "text/plain": [
              "              age     anaemia  creatinine_phosphokinase    diabetes  \\\n",
              "count  299.000000  299.000000                299.000000  299.000000   \n",
              "mean    60.833893    0.431438                581.839465    0.418060   \n",
              "std     11.894809    0.496107                970.287881    0.494067   \n",
              "min     40.000000    0.000000                 23.000000    0.000000   \n",
              "25%     51.000000    0.000000                116.500000    0.000000   \n",
              "50%     60.000000    0.000000                250.000000    0.000000   \n",
              "75%     70.000000    1.000000                582.000000    1.000000   \n",
              "max     95.000000    1.000000               7861.000000    1.000000   \n",
              "\n",
              "       ejection_fraction  high_blood_pressure      platelets  \\\n",
              "count         299.000000           299.000000     299.000000   \n",
              "mean           38.083612             0.351171  263358.029264   \n",
              "std            11.834841             0.478136   97804.236869   \n",
              "min            14.000000             0.000000   25100.000000   \n",
              "25%            30.000000             0.000000  212500.000000   \n",
              "50%            38.000000             0.000000  262000.000000   \n",
              "75%            45.000000             1.000000  303500.000000   \n",
              "max            80.000000             1.000000  850000.000000   \n",
              "\n",
              "       serum_creatinine  serum_sodium         sex    smoking        time  \\\n",
              "count         299.00000    299.000000  299.000000  299.00000  299.000000   \n",
              "mean            1.39388    136.625418    0.648829    0.32107  130.260870   \n",
              "std             1.03451      4.412477    0.478136    0.46767   77.614208   \n",
              "min             0.50000    113.000000    0.000000    0.00000    4.000000   \n",
              "25%             0.90000    134.000000    0.000000    0.00000   73.000000   \n",
              "50%             1.10000    137.000000    1.000000    0.00000  115.000000   \n",
              "75%             1.40000    140.000000    1.000000    1.00000  203.000000   \n",
              "max             9.40000    148.000000    1.000000    1.00000  285.000000   \n",
              "\n",
              "       DEATH_EVENT  \n",
              "count    299.00000  \n",
              "mean       0.32107  \n",
              "std        0.46767  \n",
              "min        0.00000  \n",
              "25%        0.00000  \n",
              "50%        0.00000  \n",
              "75%        1.00000  \n",
              "max        1.00000  "
            ],
            "text/html": [
              "\n",
              "  <div id=\"df-2407ffca-078d-468f-bc48-4a7f8e4a8991\">\n",
              "    <div class=\"colab-df-container\">\n",
              "      <div>\n",
              "<style scoped>\n",
              "    .dataframe tbody tr th:only-of-type {\n",
              "        vertical-align: middle;\n",
              "    }\n",
              "\n",
              "    .dataframe tbody tr th {\n",
              "        vertical-align: top;\n",
              "    }\n",
              "\n",
              "    .dataframe thead th {\n",
              "        text-align: right;\n",
              "    }\n",
              "</style>\n",
              "<table border=\"1\" class=\"dataframe\">\n",
              "  <thead>\n",
              "    <tr style=\"text-align: right;\">\n",
              "      <th></th>\n",
              "      <th>age</th>\n",
              "      <th>anaemia</th>\n",
              "      <th>creatinine_phosphokinase</th>\n",
              "      <th>diabetes</th>\n",
              "      <th>ejection_fraction</th>\n",
              "      <th>high_blood_pressure</th>\n",
              "      <th>platelets</th>\n",
              "      <th>serum_creatinine</th>\n",
              "      <th>serum_sodium</th>\n",
              "      <th>sex</th>\n",
              "      <th>smoking</th>\n",
              "      <th>time</th>\n",
              "      <th>DEATH_EVENT</th>\n",
              "    </tr>\n",
              "  </thead>\n",
              "  <tbody>\n",
              "    <tr>\n",
              "      <th>count</th>\n",
              "      <td>299.000000</td>\n",
              "      <td>299.000000</td>\n",
              "      <td>299.000000</td>\n",
              "      <td>299.000000</td>\n",
              "      <td>299.000000</td>\n",
              "      <td>299.000000</td>\n",
              "      <td>299.000000</td>\n",
              "      <td>299.00000</td>\n",
              "      <td>299.000000</td>\n",
              "      <td>299.000000</td>\n",
              "      <td>299.00000</td>\n",
              "      <td>299.000000</td>\n",
              "      <td>299.00000</td>\n",
              "    </tr>\n",
              "    <tr>\n",
              "      <th>mean</th>\n",
              "      <td>60.833893</td>\n",
              "      <td>0.431438</td>\n",
              "      <td>581.839465</td>\n",
              "      <td>0.418060</td>\n",
              "      <td>38.083612</td>\n",
              "      <td>0.351171</td>\n",
              "      <td>263358.029264</td>\n",
              "      <td>1.39388</td>\n",
              "      <td>136.625418</td>\n",
              "      <td>0.648829</td>\n",
              "      <td>0.32107</td>\n",
              "      <td>130.260870</td>\n",
              "      <td>0.32107</td>\n",
              "    </tr>\n",
              "    <tr>\n",
              "      <th>std</th>\n",
              "      <td>11.894809</td>\n",
              "      <td>0.496107</td>\n",
              "      <td>970.287881</td>\n",
              "      <td>0.494067</td>\n",
              "      <td>11.834841</td>\n",
              "      <td>0.478136</td>\n",
              "      <td>97804.236869</td>\n",
              "      <td>1.03451</td>\n",
              "      <td>4.412477</td>\n",
              "      <td>0.478136</td>\n",
              "      <td>0.46767</td>\n",
              "      <td>77.614208</td>\n",
              "      <td>0.46767</td>\n",
              "    </tr>\n",
              "    <tr>\n",
              "      <th>min</th>\n",
              "      <td>40.000000</td>\n",
              "      <td>0.000000</td>\n",
              "      <td>23.000000</td>\n",
              "      <td>0.000000</td>\n",
              "      <td>14.000000</td>\n",
              "      <td>0.000000</td>\n",
              "      <td>25100.000000</td>\n",
              "      <td>0.50000</td>\n",
              "      <td>113.000000</td>\n",
              "      <td>0.000000</td>\n",
              "      <td>0.00000</td>\n",
              "      <td>4.000000</td>\n",
              "      <td>0.00000</td>\n",
              "    </tr>\n",
              "    <tr>\n",
              "      <th>25%</th>\n",
              "      <td>51.000000</td>\n",
              "      <td>0.000000</td>\n",
              "      <td>116.500000</td>\n",
              "      <td>0.000000</td>\n",
              "      <td>30.000000</td>\n",
              "      <td>0.000000</td>\n",
              "      <td>212500.000000</td>\n",
              "      <td>0.90000</td>\n",
              "      <td>134.000000</td>\n",
              "      <td>0.000000</td>\n",
              "      <td>0.00000</td>\n",
              "      <td>73.000000</td>\n",
              "      <td>0.00000</td>\n",
              "    </tr>\n",
              "    <tr>\n",
              "      <th>50%</th>\n",
              "      <td>60.000000</td>\n",
              "      <td>0.000000</td>\n",
              "      <td>250.000000</td>\n",
              "      <td>0.000000</td>\n",
              "      <td>38.000000</td>\n",
              "      <td>0.000000</td>\n",
              "      <td>262000.000000</td>\n",
              "      <td>1.10000</td>\n",
              "      <td>137.000000</td>\n",
              "      <td>1.000000</td>\n",
              "      <td>0.00000</td>\n",
              "      <td>115.000000</td>\n",
              "      <td>0.00000</td>\n",
              "    </tr>\n",
              "    <tr>\n",
              "      <th>75%</th>\n",
              "      <td>70.000000</td>\n",
              "      <td>1.000000</td>\n",
              "      <td>582.000000</td>\n",
              "      <td>1.000000</td>\n",
              "      <td>45.000000</td>\n",
              "      <td>1.000000</td>\n",
              "      <td>303500.000000</td>\n",
              "      <td>1.40000</td>\n",
              "      <td>140.000000</td>\n",
              "      <td>1.000000</td>\n",
              "      <td>1.00000</td>\n",
              "      <td>203.000000</td>\n",
              "      <td>1.00000</td>\n",
              "    </tr>\n",
              "    <tr>\n",
              "      <th>max</th>\n",
              "      <td>95.000000</td>\n",
              "      <td>1.000000</td>\n",
              "      <td>7861.000000</td>\n",
              "      <td>1.000000</td>\n",
              "      <td>80.000000</td>\n",
              "      <td>1.000000</td>\n",
              "      <td>850000.000000</td>\n",
              "      <td>9.40000</td>\n",
              "      <td>148.000000</td>\n",
              "      <td>1.000000</td>\n",
              "      <td>1.00000</td>\n",
              "      <td>285.000000</td>\n",
              "      <td>1.00000</td>\n",
              "    </tr>\n",
              "  </tbody>\n",
              "</table>\n",
              "</div>\n",
              "      <button class=\"colab-df-convert\" onclick=\"convertToInteractive('df-2407ffca-078d-468f-bc48-4a7f8e4a8991')\"\n",
              "              title=\"Convert this dataframe to an interactive table.\"\n",
              "              style=\"display:none;\">\n",
              "        \n",
              "  <svg xmlns=\"http://www.w3.org/2000/svg\" height=\"24px\"viewBox=\"0 0 24 24\"\n",
              "       width=\"24px\">\n",
              "    <path d=\"M0 0h24v24H0V0z\" fill=\"none\"/>\n",
              "    <path d=\"M18.56 5.44l.94 2.06.94-2.06 2.06-.94-2.06-.94-.94-2.06-.94 2.06-2.06.94zm-11 1L8.5 8.5l.94-2.06 2.06-.94-2.06-.94L8.5 2.5l-.94 2.06-2.06.94zm10 10l.94 2.06.94-2.06 2.06-.94-2.06-.94-.94-2.06-.94 2.06-2.06.94z\"/><path d=\"M17.41 7.96l-1.37-1.37c-.4-.4-.92-.59-1.43-.59-.52 0-1.04.2-1.43.59L10.3 9.45l-7.72 7.72c-.78.78-.78 2.05 0 2.83L4 21.41c.39.39.9.59 1.41.59.51 0 1.02-.2 1.41-.59l7.78-7.78 2.81-2.81c.8-.78.8-2.07 0-2.86zM5.41 20L4 18.59l7.72-7.72 1.47 1.35L5.41 20z\"/>\n",
              "  </svg>\n",
              "      </button>\n",
              "      \n",
              "  <style>\n",
              "    .colab-df-container {\n",
              "      display:flex;\n",
              "      flex-wrap:wrap;\n",
              "      gap: 12px;\n",
              "    }\n",
              "\n",
              "    .colab-df-convert {\n",
              "      background-color: #E8F0FE;\n",
              "      border: none;\n",
              "      border-radius: 50%;\n",
              "      cursor: pointer;\n",
              "      display: none;\n",
              "      fill: #1967D2;\n",
              "      height: 32px;\n",
              "      padding: 0 0 0 0;\n",
              "      width: 32px;\n",
              "    }\n",
              "\n",
              "    .colab-df-convert:hover {\n",
              "      background-color: #E2EBFA;\n",
              "      box-shadow: 0px 1px 2px rgba(60, 64, 67, 0.3), 0px 1px 3px 1px rgba(60, 64, 67, 0.15);\n",
              "      fill: #174EA6;\n",
              "    }\n",
              "\n",
              "    [theme=dark] .colab-df-convert {\n",
              "      background-color: #3B4455;\n",
              "      fill: #D2E3FC;\n",
              "    }\n",
              "\n",
              "    [theme=dark] .colab-df-convert:hover {\n",
              "      background-color: #434B5C;\n",
              "      box-shadow: 0px 1px 3px 1px rgba(0, 0, 0, 0.15);\n",
              "      filter: drop-shadow(0px 1px 2px rgba(0, 0, 0, 0.3));\n",
              "      fill: #FFFFFF;\n",
              "    }\n",
              "  </style>\n",
              "\n",
              "      <script>\n",
              "        const buttonEl =\n",
              "          document.querySelector('#df-2407ffca-078d-468f-bc48-4a7f8e4a8991 button.colab-df-convert');\n",
              "        buttonEl.style.display =\n",
              "          google.colab.kernel.accessAllowed ? 'block' : 'none';\n",
              "\n",
              "        async function convertToInteractive(key) {\n",
              "          const element = document.querySelector('#df-2407ffca-078d-468f-bc48-4a7f8e4a8991');\n",
              "          const dataTable =\n",
              "            await google.colab.kernel.invokeFunction('convertToInteractive',\n",
              "                                                     [key], {});\n",
              "          if (!dataTable) return;\n",
              "\n",
              "          const docLinkHtml = 'Like what you see? Visit the ' +\n",
              "            '<a target=\"_blank\" href=https://colab.research.google.com/notebooks/data_table.ipynb>data table notebook</a>'\n",
              "            + ' to learn more about interactive tables.';\n",
              "          element.innerHTML = '';\n",
              "          dataTable['output_type'] = 'display_data';\n",
              "          await google.colab.output.renderOutput(dataTable, element);\n",
              "          const docLink = document.createElement('div');\n",
              "          docLink.innerHTML = docLinkHtml;\n",
              "          element.appendChild(docLink);\n",
              "        }\n",
              "      </script>\n",
              "    </div>\n",
              "  </div>\n",
              "  "
            ]
          },
          "metadata": {},
          "execution_count": 88
        }
      ]
    },
    {
      "cell_type": "code",
      "source": [
        "train.isnull().sum()"
      ],
      "metadata": {
        "colab": {
          "base_uri": "https://localhost:8080/"
        },
        "id": "AVRW30TvWkth",
        "outputId": "40687097-5495-4327-fa64-e494dbafa8dd"
      },
      "execution_count": 89,
      "outputs": [
        {
          "output_type": "execute_result",
          "data": {
            "text/plain": [
              "age                         0\n",
              "anaemia                     0\n",
              "creatinine_phosphokinase    0\n",
              "diabetes                    0\n",
              "ejection_fraction           0\n",
              "high_blood_pressure         0\n",
              "platelets                   0\n",
              "serum_creatinine            0\n",
              "serum_sodium                0\n",
              "sex                         0\n",
              "smoking                     0\n",
              "time                        0\n",
              "DEATH_EVENT                 0\n",
              "dtype: int64"
            ]
          },
          "metadata": {},
          "execution_count": 89
        }
      ]
    },
    {
      "cell_type": "code",
      "source": [
        "train.hist(figsize=(15,15),edgecolor='black');"
      ],
      "metadata": {
        "colab": {
          "base_uri": "https://localhost:8080/",
          "height": 882
        },
        "id": "8UC_o3_VWnsG",
        "outputId": "4762fb27-d8bf-4e3c-ee55-0df2e113a637"
      },
      "execution_count": 90,
      "outputs": [
        {
          "output_type": "display_data",
          "data": {
            "text/plain": [
              "<Figure size 1080x1080 with 16 Axes>"
            ],
            "image/png": "[encoded data removed]"
          },
          "metadata": {}
        }
      ]
    },
    {
      "cell_type": "code",
      "source": [
        "train.DEATH_EVENT.value_counts().plot.pie(explode=[0.1,0.1],autopct='%1.1f%%',shadow=True)\n",
        "plt.title('the % of deaths')"
      ],
      "metadata": {
        "colab": {
          "base_uri": "https://localhost:8080/",
          "height": 499
        },
        "id": "Y4P2aBkeWqAn",
        "outputId": "702287f8-b6cf-4f82-fce8-735c993b1682"
      },
      "execution_count": 91,
      "outputs": [
        {
          "output_type": "execute_result",
          "data": {
            "text/plain": [
              "Text(0.5, 1.0, 'the % of deaths')"
            ]
          },
          "metadata": {},
          "execution_count": 91
        },
        {
          "output_type": "display_data",
          "data": {
            "text/plain": [
              "<Figure size 576x576 with 1 Axes>"
            ],
            "image/png": "[encoded data removed]"
          },
          "metadata": {}
        }
      ]
    },
    {
      "cell_type": "code",
      "source": [
        "plt.figure(figsize=(20,6))\n",
        "sns.countplot(x='age',data=train)\n",
        "plt.xticks(rotation=90)\n",
        "plt.title('the ages of our persone')"
      ],
      "metadata": {
        "colab": {
          "base_uri": "https://localhost:8080/",
          "height": 455
        },
        "id": "r6n2Re0NWtz5",
        "outputId": "52e00a94-e7ed-4586-e666-e9afc0d59288"
      },
      "execution_count": 92,
      "outputs": [
        {
          "output_type": "execute_result",
          "data": {
            "text/plain": [
              "Text(0.5, 1.0, 'the ages of our persone')"
            ]
          },
          "metadata": {},
          "execution_count": 92
        },
        {
          "output_type": "display_data",
          "data": {
            "text/plain": [
              "<Figure size 1440x432 with 1 Axes>"
            ],
            "image/png": "[encoded data removed]"
          },
          "metadata": {}
        }
      ]
    },
    {
      "cell_type": "code",
      "source": [
        "\n",
        "# Distribution of Age\n",
        "\n",
        "\n",
        "fig = go.Figure()\n",
        "fig.add_trace(go.Histogram(\n",
        "    x = train['age'],\n",
        "    xbins=dict( # bins used for histogram\n",
        "        start=40,\n",
        "        end=95,\n",
        "        size=2\n",
        "    ),\n",
        "    marker_color='#e8ab60',\n",
        "    opacity=1\n",
        "))\n",
        "\n",
        "fig.update_layout(\n",
        "    title_text='Distribution of Age',\n",
        "    xaxis_title_text='AGE',\n",
        "    yaxis_title_text='COUNT', \n",
        "    bargap=0.05, # gap between bars of adjacent location coordinates\n",
        "    xaxis =  {'showgrid': False },\n",
        "    yaxis = {'showgrid': False },\n",
        "    template = 'presentation'\n",
        ")\n",
        "\n",
        "fig.show()"
      ],
      "metadata": {
        "colab": {
          "base_uri": "https://localhost:8080/",
          "height": 542
        },
        "id": "ELlWQFy6WwUD",
        "outputId": "fd0381f4-fcf3-4d1a-af5e-cbd5fab647a0"
      },
      "execution_count": 93,
      "outputs": [
        {
          "output_type": "display_data",
          "data": {
            "text/html": [
              "<html>\n",
              "<head><meta charset=\"utf-8\" /></head>\n",
              "<body>\n",
              "    <div>            <script src=\"https://cdnjs.cloudflare.com/ajax/libs/mathjax/2.7.5/MathJax.js?config=TeX-AMS-MML_SVG\"></script><script type=\"text/javascript\">if (window.MathJax) {MathJax.Hub.Config({SVG: {font: \"STIX-Web\"}});}</script>                <script type=\"text/javascript\">window.PlotlyConfig = {MathJaxConfig: 'local'};</script>\n",
              "        <script src=\"https://cdn.plot.ly/plotly-2.8.3.min.js\"></script>                <div id=\"a252c0b2-ae3d-4f96-8e43-f70063f86679\" class=\"plotly-graph-div\" style=\"height:525px; width:100%;\"></div>            <script type=\"text/javascript\">                                    window.PLOTLYENV=window.PLOTLYENV || {};                                    if (document.getElementById(\"a252c0b2-ae3d-4f96-8e43-f70063f86679\")) {                    Plotly.newPlot(                        \"a252c0b2-ae3d-4f96-8e43-f70063f86679\",                        [{\"marker\":{\"color\":\"#e8ab60\"},\"opacity\":1,\"x\":[75.0,55.0,65.0,50.0,65.0,90.0,75.0,60.0,65.0,80.0,75.0,62.0,45.0,50.0,49.0,82.0,87.0,45.0,70.0,48.0,65.0,65.0,68.0,53.0,75.0,80.0,95.0,70.0,58.0,82.0,94.0,85.0,50.0,50.0,65.0,69.0,90.0,82.0,60.0,60.0,70.0,50.0,70.0,72.0,60.0,50.0,51.0,60.0,80.0,57.0,68.0,53.0,60.0,70.0,60.0,95.0,70.0,60.0,49.0,72.0,45.0,50.0,55.0,45.0,45.0,60.0,42.0,72.0,70.0,65.0,41.0,58.0,85.0,65.0,69.0,60.0,70.0,42.0,75.0,55.0,70.0,67.0,60.0,79.0,59.0,51.0,55.0,65.0,44.0,57.0,70.0,60.0,42.0,60.0,58.0,58.0,63.0,70.0,60.0,63.0,65.0,75.0,80.0,42.0,60.0,72.0,55.0,45.0,63.0,45.0,85.0,55.0,50.0,70.0,60.0,58.0,60.0,85.0,65.0,86.0,60.0,66.0,60.0,60.0,60.0,43.0,46.0,58.0,61.0,53.0,53.0,60.0,46.0,63.0,81.0,75.0,65.0,68.0,62.0,50.0,80.0,46.0,50.0,61.0,72.0,50.0,52.0,64.0,75.0,60.0,72.0,62.0,50.0,50.0,65.0,60.0,52.0,50.0,85.0,59.0,66.0,45.0,63.0,50.0,45.0,80.0,53.0,59.0,65.0,70.0,51.0,52.0,70.0,50.0,65.0,60.0,69.0,49.0,63.0,55.0,40.0,59.0,65.0,75.0,58.0,60.667,50.0,60.0,60.667,40.0,80.0,64.0,50.0,73.0,45.0,77.0,45.0,65.0,50.0,60.0,63.0,45.0,70.0,60.0,78.0,50.0,40.0,85.0,60.0,49.0,70.0,50.0,78.0,48.0,65.0,73.0,70.0,54.0,68.0,55.0,73.0,65.0,42.0,47.0,58.0,75.0,58.0,55.0,65.0,72.0,60.0,70.0,40.0,53.0,53.0,77.0,75.0,70.0,65.0,55.0,70.0,65.0,40.0,73.0,54.0,61.0,55.0,64.0,40.0,53.0,50.0,55.0,50.0,70.0,53.0,52.0,65.0,58.0,45.0,53.0,55.0,62.0,65.0,68.0,61.0,50.0,55.0,56.0,45.0,40.0,44.0,51.0,67.0,42.0,60.0,45.0,70.0,70.0,50.0,55.0,70.0,70.0,42.0,65.0,50.0,55.0,60.0,45.0,65.0,90.0,45.0,60.0,52.0,63.0,62.0,55.0,45.0,45.0,50.0],\"xbins\":{\"end\":95,\"size\":2,\"start\":40},\"type\":\"histogram\"}],                        {\"template\":{\"data\":{\"pie\":[{\"automargin\":true,\"type\":\"pie\"}],\"scatter3d\":[{\"line\":{\"width\":3},\"marker\":{\"size\":9},\"type\":\"scatter3d\"}],\"scattergeo\":[{\"line\":{\"width\":3},\"marker\":{\"size\":9},\"type\":\"scattergeo\"}],\"scattergl\":[{\"line\":{\"width\":3},\"marker\":{\"size\":9},\"type\":\"scattergl\"}],\"scatterpolargl\":[{\"line\":{\"width\":3},\"marker\":{\"size\":9},\"type\":\"scatterpolargl\"}],\"scatterpolar\":[{\"line\":{\"width\":3},\"marker\":{\"size\":9},\"type\":\"scatterpolar\"}],\"scatter\":[{\"line\":{\"width\":3},\"marker\":{\"size\":9},\"type\":\"scatter\"}],\"scatterternary\":[{\"line\":{\"width\":3},\"marker\":{\"size\":9},\"type\":\"scatterternary\"}],\"table\":[{\"cells\":{\"height\":30},\"header\":{\"height\":36},\"type\":\"table\"}]},\"layout\":{\"font\":{\"size\":18},\"xaxis\":{\"title\":{\"standoff\":15}},\"yaxis\":{\"title\":{\"standoff\":15}}}},\"title\":{\"text\":\"Distribution of Age\"},\"xaxis\":{\"title\":{\"text\":\"AGE\"},\"showgrid\":false},\"yaxis\":{\"title\":{\"text\":\"COUNT\"},\"showgrid\":false},\"bargap\":0.05},                        {\"responsive\": true}                    ).then(function(){\n",
              "                            \n",
              "var gd = document.getElementById('a252c0b2-ae3d-4f96-8e43-f70063f86679');\n",
              "var x = new MutationObserver(function (mutations, observer) {{\n",
              "        var display = window.getComputedStyle(gd).display;\n",
              "        if (!display || display === 'none') {{\n",
              "            console.log([gd, 'removed!']);\n",
              "            Plotly.purge(gd);\n",
              "            observer.disconnect();\n",
              "        }}\n",
              "}});\n",
              "\n",
              "// Listen for the removal of the full notebook cells\n",
              "var notebookContainer = gd.closest('#notebook-container');\n",
              "if (notebookContainer) {{\n",
              "    x.observe(notebookContainer, {childList: true});\n",
              "}}\n",
              "\n",
              "// Listen for the clearing of the current output cell\n",
              "var outputEl = gd.closest('.output');\n",
              "if (outputEl) {{\n",
              "    x.observe(outputEl, {childList: true});\n",
              "}}\n",
              "\n",
              "                        })                };                            </script>        </div>\n",
              "</body>\n",
              "</html>"
            ]
          },
          "metadata": {}
        }
      ]
    },
    {
      "cell_type": "code",
      "source": [
        "# Distribution of AGE Vs DEATH_EVENT\n",
        "\n",
        "fig = px.histogram(train, x=\"age\", color=\"DEATH_EVENT\", marginal=\"violin\", hover_data=train.columns, \n",
        "                   title =\"Distribution of AGE Vs DEATH_EVENT\", \n",
        "                   labels={\"age\": \"AGE\"},\n",
        "                   template=\"plotly\",\n",
        "                   \n",
        "                   \n",
        "                  )\n",
        "fig.show()"
      ],
      "metadata": {
        "colab": {
          "base_uri": "https://localhost:8080/",
          "height": 542
        },
        "id": "ZBLocaNJWzKf",
        "outputId": "5aceee4b-501d-400d-92b0-a3a5e763ccb9"
      },
      "execution_count": 94,
      "outputs": [
        {
          "output_type": "display_data",
          "data": {
            "text/html": [
              "<html>\n",
              "<head><meta charset=\"utf-8\" /></head>\n",
              "<body>\n",
              "    <div>            <script src=\"https://cdnjs.cloudflare.com/ajax/libs/mathjax/2.7.5/MathJax.js?config=TeX-AMS-MML_SVG\"></script><script type=\"text/javascript\">if (window.MathJax) {MathJax.Hub.Config({SVG: {font: \"STIX-Web\"}});}</script>                <script type=\"text/javascript\">window.PlotlyConfig = {MathJaxConfig: 'local'};</script>\n",
              "        <script src=\"https://cdn.plot.ly/plotly-2.8.3.min.js\"></script>                <div id=\"e3abd8a2-856a-4348-b862-c560e4d717c3\" class=\"plotly-graph-div\" style=\"height:525px; width:100%;\"></div>            <script type=\"text/javascript\">                                    window.PLOTLYENV=window.PLOTLYENV || {};                                    if (document.getElementById(\"e3abd8a2-856a-4348-b862-c560e4d717c3\")) {                    Plotly.newPlot(                        \"e3abd8a2-856a-4348-b862-c560e4d717c3\",                        [{\"alignmentgroup\":\"True\",\"bingroup\":\"x\",\"hovertemplate\":\"DEATH_EVENT=1<br>AGE=%{x}<br>count=%{y}<extra></extra>\",\"legendgroup\":\"1\",\"marker\":{\"color\":\"#636efa\",\"pattern\":{\"shape\":\"\"}},\"name\":\"1\",\"offsetgroup\":\"1\",\"orientation\":\"v\",\"showlegend\":true,\"x\":[75.0,55.0,65.0,50.0,65.0,90.0,75.0,60.0,65.0,80.0,75.0,62.0,45.0,50.0,82.0,87.0,45.0,70.0,48.0,65.0,68.0,75.0,80.0,95.0,70.0,58.0,82.0,94.0,85.0,50.0,65.0,69.0,90.0,82.0,60.0,70.0,50.0,70.0,60.0,50.0,51.0,60.0,80.0,57.0,68.0,53.0,60.0,70.0,60.0,95.0,49.0,72.0,45.0,50.0,45.0,60.0,42.0,72.0,70.0,65.0,85.0,69.0,60.0,60.0,59.0,60.0,72.0,85.0,70.0,86.0,60.0,46.0,80.0,72.0,75.0,72.0,50.0,45.0,80.0,59.0,59.0,65.0,75.0,58.0,60.667,50.0,60.0,45.0,77.0,48.0,54.0,73.0,60.0,55.0,65.0,55.0],\"xaxis\":\"x\",\"yaxis\":\"y\",\"type\":\"histogram\"},{\"alignmentgroup\":\"True\",\"customdata\":[[0.0,582.0,0.0,20.0,1.0,265000.0,1.9,130.0,1.0,0.0,4.0,1.0],[0.0,7861.0,0.0,38.0,0.0,263358.03,1.1,136.0,1.0,0.0,6.0,1.0],[0.0,146.0,0.0,20.0,0.0,162000.0,1.3,129.0,1.0,1.0,7.0,1.0],[1.0,111.0,0.0,20.0,0.0,210000.0,1.9,137.0,1.0,0.0,7.0,1.0],[1.0,160.0,1.0,20.0,0.0,327000.0,2.7,116.0,0.0,0.0,8.0,1.0],[1.0,47.0,0.0,40.0,1.0,204000.0,2.1,132.0,1.0,1.0,8.0,1.0],[1.0,246.0,0.0,15.0,0.0,127000.0,1.2,137.0,1.0,0.0,10.0,1.0],[1.0,315.0,1.0,60.0,0.0,454000.0,1.1,131.0,1.0,1.0,10.0,1.0],[0.0,157.0,0.0,65.0,0.0,263358.03,1.5,138.0,0.0,0.0,10.0,1.0],[1.0,123.0,0.0,35.0,1.0,388000.0,9.4,133.0,1.0,1.0,10.0,1.0],[1.0,81.0,0.0,38.0,1.0,368000.0,4.0,131.0,1.0,1.0,10.0,1.0],[0.0,231.0,0.0,25.0,1.0,253000.0,0.9,140.0,1.0,1.0,10.0,1.0],[1.0,981.0,0.0,30.0,0.0,136000.0,1.1,137.0,1.0,0.0,11.0,1.0],[1.0,168.0,0.0,38.0,1.0,276000.0,1.1,137.0,1.0,0.0,11.0,1.0],[1.0,379.0,0.0,50.0,0.0,47000.0,1.3,136.0,1.0,0.0,13.0,1.0],[1.0,149.0,0.0,38.0,0.0,262000.0,0.9,140.0,1.0,0.0,14.0,1.0],[0.0,582.0,0.0,14.0,0.0,166000.0,0.8,127.0,1.0,0.0,14.0,1.0],[1.0,125.0,0.0,25.0,1.0,237000.0,1.0,140.0,0.0,0.0,15.0,1.0],[1.0,582.0,1.0,55.0,0.0,87000.0,1.9,121.0,0.0,0.0,15.0,1.0],[1.0,128.0,1.0,30.0,1.0,297000.0,1.6,136.0,0.0,0.0,20.0,1.0],[1.0,220.0,0.0,35.0,1.0,289000.0,0.9,140.0,1.0,1.0,20.0,1.0],[0.0,582.0,1.0,30.0,1.0,263358.03,1.83,134.0,0.0,0.0,23.0,1.0],[0.0,148.0,1.0,38.0,0.0,149000.0,1.9,144.0,1.0,1.0,23.0,1.0],[1.0,112.0,0.0,40.0,1.0,196000.0,1.0,138.0,0.0,0.0,24.0,1.0],[0.0,122.0,1.0,45.0,1.0,284000.0,1.3,136.0,1.0,1.0,26.0,1.0],[1.0,60.0,0.0,38.0,0.0,153000.0,5.8,134.0,1.0,0.0,26.0,1.0],[0.0,70.0,1.0,30.0,0.0,200000.0,1.2,132.0,1.0,1.0,26.0,1.0],[0.0,582.0,1.0,38.0,1.0,263358.03,1.83,134.0,1.0,0.0,27.0,1.0],[0.0,23.0,0.0,45.0,0.0,360000.0,3.0,132.0,1.0,0.0,28.0,1.0],[1.0,249.0,1.0,35.0,1.0,319000.0,1.0,128.0,0.0,0.0,28.0,1.0],[0.0,94.0,1.0,50.0,1.0,188000.0,1.0,140.0,1.0,0.0,29.0,1.0],[0.0,582.0,1.0,35.0,0.0,228000.0,3.5,134.0,1.0,0.0,30.0,1.0],[1.0,60.0,1.0,50.0,0.0,226000.0,1.0,134.0,1.0,0.0,30.0,1.0],[1.0,855.0,1.0,50.0,1.0,321000.0,1.0,145.0,0.0,0.0,30.0,1.0],[0.0,235.0,1.0,38.0,0.0,329000.0,3.0,142.0,0.0,0.0,30.0,1.0],[0.0,582.0,0.0,20.0,1.0,263358.03,1.83,134.0,1.0,1.0,31.0,1.0],[0.0,124.0,1.0,30.0,1.0,153000.0,1.2,136.0,0.0,1.0,32.0,1.0],[0.0,571.0,1.0,45.0,1.0,185000.0,1.2,139.0,1.0,1.0,33.0,1.0],[1.0,588.0,1.0,60.0,0.0,194000.0,1.1,142.0,0.0,0.0,33.0,1.0],[0.0,582.0,1.0,38.0,0.0,310000.0,1.9,135.0,1.0,1.0,35.0,1.0],[0.0,1380.0,0.0,25.0,1.0,271000.0,0.9,130.0,1.0,0.0,38.0,1.0],[0.0,582.0,1.0,38.0,1.0,451000.0,0.6,138.0,1.0,1.0,40.0,1.0],[1.0,553.0,0.0,20.0,1.0,140000.0,4.4,133.0,1.0,0.0,41.0,1.0],[1.0,129.0,0.0,30.0,0.0,395000.0,1.0,140.0,0.0,0.0,42.0,1.0],[1.0,577.0,0.0,25.0,1.0,166000.0,1.0,138.0,1.0,0.0,43.0,1.0],[1.0,91.0,0.0,20.0,1.0,418000.0,1.4,139.0,0.0,0.0,43.0,1.0],[0.0,3964.0,1.0,62.0,0.0,263358.03,6.8,146.0,0.0,0.0,43.0,1.0],[1.0,69.0,1.0,50.0,1.0,351000.0,1.0,134.0,0.0,0.0,44.0,1.0],[1.0,260.0,1.0,38.0,0.0,255000.0,2.2,132.0,0.0,1.0,45.0,1.0],[1.0,371.0,0.0,30.0,0.0,461000.0,2.0,132.0,1.0,0.0,50.0,1.0],[0.0,789.0,0.0,20.0,1.0,319000.0,1.1,136.0,1.0,1.0,55.0,1.0],[0.0,364.0,1.0,20.0,1.0,254000.0,1.3,136.0,1.0,1.0,59.0,1.0],[0.0,7702.0,1.0,25.0,1.0,390000.0,1.0,139.0,1.0,0.0,60.0,1.0],[0.0,318.0,0.0,40.0,1.0,216000.0,2.3,131.0,0.0,0.0,60.0,1.0],[0.0,582.0,0.0,35.0,0.0,385000.0,1.0,145.0,1.0,0.0,61.0,1.0],[0.0,68.0,0.0,20.0,0.0,119000.0,2.9,127.0,1.0,1.0,64.0,1.0],[1.0,250.0,1.0,15.0,0.0,213000.0,1.3,136.0,0.0,0.0,65.0,1.0],[1.0,110.0,0.0,25.0,0.0,274000.0,1.0,140.0,1.0,1.0,65.0,1.0],[0.0,161.0,0.0,25.0,0.0,244000.0,1.2,142.0,0.0,0.0,66.0,1.0],[0.0,113.0,1.0,25.0,0.0,497000.0,1.83,135.0,1.0,0.0,67.0,1.0],[0.0,5882.0,0.0,35.0,0.0,243000.0,1.0,132.0,1.0,1.0,72.0,1.0],[0.0,582.0,0.0,20.0,0.0,266000.0,1.2,134.0,1.0,1.0,73.0,1.0],[1.0,47.0,0.0,20.0,0.0,204000.0,0.7,139.0,1.0,1.0,73.0,1.0],[1.0,76.0,1.0,25.0,0.0,196000.0,2.5,132.0,0.0,0.0,77.0,1.0],[1.0,280.0,1.0,25.0,1.0,302000.0,1.0,141.0,0.0,0.0,78.0,1.0],[1.0,154.0,0.0,25.0,0.0,210000.0,1.7,135.0,1.0,0.0,82.0,1.0],[1.0,328.0,0.0,30.0,1.0,621000.0,1.7,138.0,0.0,1.0,88.0,1.0],[0.0,129.0,0.0,60.0,0.0,306000.0,1.2,132.0,1.0,1.0,90.0,1.0],[1.0,143.0,0.0,60.0,0.0,351000.0,1.3,137.0,0.0,0.0,90.0,1.0],[0.0,582.0,0.0,38.0,0.0,263358.03,1.83,134.0,0.0,0.0,95.0,1.0],[0.0,582.0,0.0,40.0,0.0,217000.0,3.7,134.0,1.0,0.0,96.0,1.0],[0.0,168.0,1.0,17.0,1.0,271000.0,2.1,124.0,0.0,0.0,100.0,1.0],[0.0,805.0,0.0,38.0,0.0,263358.03,1.1,134.0,1.0,0.0,109.0,1.0],[1.0,943.0,0.0,25.0,1.0,338000.0,1.7,139.0,1.0,1.0,111.0,1.0],[1.0,582.0,0.0,30.0,0.0,225000.0,1.83,134.0,1.0,0.0,113.0,1.0],[0.0,233.0,0.0,45.0,1.0,235000.0,2.5,135.0,0.0,0.0,115.0,1.0],[1.0,2334.0,1.0,35.0,0.0,75000.0,0.9,142.0,0.0,0.0,126.0,1.0],[0.0,2442.0,1.0,30.0,0.0,334000.0,1.1,139.0,1.0,0.0,129.0,1.0],[0.0,776.0,1.0,38.0,1.0,192000.0,1.3,135.0,0.0,0.0,130.0,1.0],[0.0,66.0,1.0,20.0,0.0,70000.0,2.4,134.0,1.0,0.0,135.0,1.0],[1.0,176.0,1.0,25.0,0.0,221000.0,1.0,136.0,1.0,1.0,150.0,1.0],[0.0,395.0,1.0,25.0,0.0,265000.0,1.2,136.0,1.0,1.0,154.0,1.0],[0.0,99.0,0.0,38.0,1.0,224000.0,2.5,134.0,1.0,0.0,162.0,1.0],[1.0,145.0,0.0,25.0,0.0,219000.0,1.2,137.0,1.0,1.0,170.0,1.0],[1.0,104.0,1.0,30.0,0.0,389000.0,1.5,136.0,1.0,0.0,171.0,1.0],[0.0,582.0,0.0,50.0,0.0,153000.0,0.6,134.0,0.0,0.0,172.0,1.0],[0.0,1896.0,1.0,25.0,0.0,365000.0,2.1,144.0,0.0,0.0,172.0,1.0],[0.0,582.0,0.0,20.0,1.0,126000.0,1.6,135.0,1.0,0.0,180.0,1.0],[1.0,418.0,0.0,45.0,0.0,223000.0,1.8,145.0,1.0,0.0,180.0,1.0],[1.0,131.0,1.0,30.0,1.0,244000.0,1.6,130.0,0.0,0.0,193.0,1.0],[1.0,427.0,0.0,70.0,1.0,151000.0,9.0,137.0,0.0,0.0,196.0,1.0],[0.0,582.0,0.0,20.0,0.0,263358.03,1.83,134.0,1.0,0.0,198.0,1.0],[0.0,166.0,0.0,30.0,0.0,62000.0,1.7,127.0,0.0,0.0,207.0,1.0],[0.0,2017.0,0.0,25.0,0.0,314000.0,1.1,138.0,1.0,0.0,214.0,1.0],[1.0,258.0,1.0,25.0,0.0,198000.0,1.4,129.0,1.0,0.0,235.0,1.0],[0.0,1199.0,0.0,20.0,0.0,263358.03,1.83,134.0,1.0,1.0,241.0,1.0]],\"hovertemplate\":\"DEATH_EVENT=%{customdata[11]}<br>AGE=%{x}<br>anaemia=%{customdata[0]}<br>creatinine_phosphokinase=%{customdata[1]}<br>diabetes=%{customdata[2]}<br>ejection_fraction=%{customdata[3]}<br>high_blood_pressure=%{customdata[4]}<br>platelets=%{customdata[5]}<br>serum_creatinine=%{customdata[6]}<br>serum_sodium=%{customdata[7]}<br>sex=%{customdata[8]}<br>smoking=%{customdata[9]}<br>time=%{customdata[10]}<extra></extra>\",\"legendgroup\":\"1\",\"marker\":{\"color\":\"#636efa\"},\"name\":\"1\",\"offsetgroup\":\"1\",\"scalegroup\":\"x\",\"showlegend\":false,\"x\":[75.0,55.0,65.0,50.0,65.0,90.0,75.0,60.0,65.0,80.0,75.0,62.0,45.0,50.0,82.0,87.0,45.0,70.0,48.0,65.0,68.0,75.0,80.0,95.0,70.0,58.0,82.0,94.0,85.0,50.0,65.0,69.0,90.0,82.0,60.0,70.0,50.0,70.0,60.0,50.0,51.0,60.0,80.0,57.0,68.0,53.0,60.0,70.0,60.0,95.0,49.0,72.0,45.0,50.0,45.0,60.0,42.0,72.0,70.0,65.0,85.0,69.0,60.0,60.0,59.0,60.0,72.0,85.0,70.0,86.0,60.0,46.0,80.0,72.0,75.0,72.0,50.0,45.0,80.0,59.0,59.0,65.0,75.0,58.0,60.667,50.0,60.0,45.0,77.0,48.0,54.0,73.0,60.0,55.0,65.0,55.0],\"xaxis\":\"x2\",\"yaxis\":\"y2\",\"type\":\"violin\"},{\"alignmentgroup\":\"True\",\"bingroup\":\"x\",\"hovertemplate\":\"DEATH_EVENT=0<br>AGE=%{x}<br>count=%{y}<extra></extra>\",\"legendgroup\":\"0\",\"marker\":{\"color\":\"#EF553B\",\"pattern\":{\"shape\":\"\"}},\"name\":\"0\",\"offsetgroup\":\"0\",\"orientation\":\"v\",\"showlegend\":true,\"x\":[49.0,65.0,53.0,50.0,60.0,72.0,70.0,60.0,55.0,45.0,41.0,58.0,65.0,70.0,42.0,75.0,55.0,70.0,67.0,79.0,51.0,55.0,65.0,44.0,57.0,70.0,60.0,42.0,58.0,58.0,63.0,70.0,60.0,63.0,65.0,75.0,80.0,42.0,60.0,55.0,45.0,63.0,45.0,55.0,50.0,60.0,58.0,60.0,85.0,65.0,60.0,66.0,60.0,60.0,43.0,58.0,61.0,53.0,53.0,60.0,46.0,63.0,81.0,75.0,65.0,68.0,62.0,50.0,46.0,50.0,61.0,50.0,52.0,64.0,60.0,62.0,50.0,50.0,65.0,60.0,52.0,50.0,85.0,59.0,66.0,45.0,63.0,53.0,65.0,70.0,51.0,52.0,70.0,50.0,65.0,60.0,69.0,49.0,63.0,55.0,40.0,60.667,40.0,80.0,64.0,50.0,73.0,45.0,65.0,50.0,60.0,63.0,45.0,70.0,60.0,78.0,50.0,40.0,85.0,60.0,49.0,70.0,50.0,78.0,65.0,73.0,70.0,68.0,55.0,65.0,42.0,47.0,58.0,75.0,58.0,55.0,65.0,72.0,70.0,40.0,53.0,53.0,77.0,75.0,70.0,65.0,55.0,70.0,65.0,40.0,73.0,54.0,61.0,64.0,40.0,53.0,50.0,55.0,50.0,70.0,53.0,52.0,65.0,58.0,45.0,53.0,55.0,62.0,68.0,61.0,50.0,56.0,45.0,40.0,44.0,51.0,67.0,42.0,60.0,45.0,70.0,70.0,50.0,55.0,70.0,70.0,42.0,65.0,50.0,55.0,60.0,45.0,65.0,90.0,45.0,60.0,52.0,63.0,62.0,55.0,45.0,45.0,50.0],\"xaxis\":\"x\",\"yaxis\":\"y\",\"type\":\"histogram\"},{\"alignmentgroup\":\"True\",\"customdata\":[[1.0,80.0,0.0,30.0,1.0,427000.0,1.0,138.0,0.0,0.0,12.0,0.0],[1.0,52.0,0.0,25.0,1.0,276000.0,1.3,137.0,0.0,0.0,16.0,0.0],[0.0,63.0,1.0,60.0,0.0,368000.0,0.8,135.0,1.0,0.0,22.0,0.0],[1.0,159.0,1.0,30.0,0.0,302000.0,1.2,138.0,0.0,0.0,29.0,0.0],[0.0,2656.0,1.0,30.0,0.0,305000.0,2.3,137.0,1.0,0.0,30.0,0.0],[0.0,127.0,1.0,50.0,1.0,218000.0,1.0,134.0,1.0,0.0,33.0,0.0],[1.0,75.0,0.0,35.0,0.0,223000.0,2.7,138.0,1.0,1.0,54.0,0.0],[1.0,607.0,0.0,40.0,0.0,216000.0,0.6,138.0,1.0,1.0,54.0,0.0],[0.0,109.0,0.0,35.0,0.0,254000.0,1.1,139.0,1.0,1.0,60.0,0.0],[0.0,582.0,0.0,80.0,0.0,263358.03,1.18,137.0,0.0,0.0,63.0,0.0],[0.0,148.0,0.0,40.0,0.0,374000.0,0.8,140.0,1.0,1.0,68.0,0.0],[0.0,582.0,1.0,35.0,0.0,122000.0,0.9,139.0,1.0,1.0,71.0,0.0],[0.0,224.0,1.0,50.0,0.0,149000.0,1.3,137.0,1.0,1.0,72.0,0.0],[0.0,92.0,0.0,60.0,1.0,317000.0,0.8,140.0,0.0,1.0,74.0,0.0],[0.0,102.0,1.0,40.0,0.0,237000.0,1.2,140.0,1.0,0.0,74.0,0.0],[1.0,203.0,1.0,38.0,1.0,283000.0,0.6,131.0,1.0,1.0,74.0,0.0],[0.0,336.0,0.0,45.0,1.0,324000.0,0.9,140.0,0.0,0.0,74.0,0.0],[0.0,69.0,0.0,40.0,0.0,293000.0,1.7,136.0,0.0,0.0,75.0,0.0],[0.0,582.0,0.0,50.0,0.0,263358.03,1.18,137.0,1.0,1.0,76.0,0.0],[1.0,55.0,0.0,50.0,1.0,172000.0,1.8,133.0,1.0,0.0,78.0,0.0],[0.0,78.0,0.0,50.0,0.0,406000.0,0.7,140.0,1.0,0.0,79.0,0.0],[0.0,47.0,0.0,35.0,1.0,173000.0,1.1,137.0,1.0,0.0,79.0,0.0],[1.0,68.0,1.0,60.0,1.0,304000.0,0.8,140.0,1.0,0.0,79.0,0.0],[0.0,84.0,1.0,40.0,1.0,235000.0,0.7,139.0,1.0,0.0,79.0,0.0],[1.0,115.0,0.0,25.0,1.0,181000.0,1.1,144.0,1.0,0.0,79.0,0.0],[0.0,66.0,1.0,45.0,0.0,249000.0,0.8,136.0,1.0,1.0,80.0,0.0],[0.0,897.0,1.0,45.0,0.0,297000.0,1.0,133.0,1.0,0.0,80.0,0.0],[0.0,582.0,0.0,60.0,0.0,263358.03,1.18,137.0,0.0,0.0,82.0,0.0],[0.0,144.0,1.0,38.0,1.0,327000.0,0.7,142.0,0.0,0.0,83.0,0.0],[1.0,133.0,0.0,60.0,1.0,219000.0,1.0,141.0,1.0,0.0,83.0,0.0],[1.0,514.0,1.0,25.0,1.0,254000.0,1.3,134.0,1.0,0.0,83.0,0.0],[1.0,59.0,0.0,60.0,0.0,255000.0,1.1,136.0,0.0,0.0,85.0,0.0],[1.0,156.0,1.0,25.0,1.0,318000.0,1.2,137.0,0.0,0.0,85.0,0.0],[1.0,61.0,1.0,40.0,0.0,221000.0,1.1,140.0,0.0,0.0,86.0,0.0],[1.0,305.0,0.0,25.0,0.0,298000.0,1.1,141.0,1.0,0.0,87.0,0.0],[0.0,582.0,0.0,45.0,1.0,263358.03,1.18,137.0,1.0,0.0,87.0,0.0],[0.0,898.0,0.0,25.0,0.0,149000.0,1.1,144.0,1.0,1.0,87.0,0.0],[0.0,5209.0,0.0,30.0,0.0,226000.0,1.0,140.0,1.0,1.0,87.0,0.0],[0.0,53.0,0.0,50.0,1.0,286000.0,2.3,143.0,0.0,0.0,87.0,0.0],[0.0,748.0,0.0,45.0,0.0,263000.0,1.3,137.0,1.0,0.0,88.0,0.0],[1.0,1876.0,1.0,35.0,0.0,226000.0,0.9,138.0,1.0,0.0,88.0,0.0],[0.0,936.0,0.0,38.0,0.0,304000.0,1.1,133.0,1.0,1.0,88.0,0.0],[0.0,292.0,1.0,35.0,0.0,850000.0,1.3,142.0,1.0,1.0,88.0,0.0],[0.0,60.0,0.0,35.0,0.0,228000.0,1.2,135.0,1.0,1.0,90.0,0.0],[0.0,369.0,1.0,25.0,0.0,252000.0,1.6,136.0,1.0,0.0,90.0,0.0],[1.0,754.0,1.0,40.0,1.0,328000.0,1.2,126.0,1.0,0.0,91.0,0.0],[1.0,400.0,0.0,40.0,0.0,164000.0,1.0,139.0,0.0,0.0,91.0,0.0],[1.0,96.0,1.0,60.0,1.0,271000.0,0.7,136.0,0.0,0.0,94.0,0.0],[1.0,102.0,0.0,60.0,0.0,507000.0,3.2,138.0,0.0,0.0,94.0,0.0],[1.0,113.0,1.0,60.0,1.0,203000.0,0.9,140.0,0.0,0.0,94.0,0.0],[1.0,737.0,0.0,60.0,1.0,210000.0,1.5,135.0,1.0,1.0,95.0,0.0],[1.0,68.0,1.0,38.0,1.0,162000.0,1.0,136.0,0.0,0.0,95.0,0.0],[0.0,96.0,1.0,38.0,0.0,228000.0,0.75,140.0,0.0,0.0,95.0,0.0],[1.0,582.0,0.0,30.0,1.0,127000.0,0.9,145.0,0.0,0.0,95.0,0.0],[1.0,358.0,0.0,50.0,0.0,237000.0,1.3,135.0,0.0,0.0,97.0,0.0],[1.0,200.0,1.0,60.0,0.0,300000.0,0.8,137.0,0.0,0.0,104.0,0.0],[0.0,248.0,0.0,30.0,1.0,267000.0,0.7,136.0,1.0,1.0,104.0,0.0],[1.0,270.0,1.0,35.0,0.0,227000.0,3.4,145.0,1.0,0.0,105.0,0.0],[1.0,1808.0,0.0,60.0,1.0,249000.0,0.7,138.0,1.0,1.0,106.0,0.0],[1.0,1082.0,1.0,45.0,0.0,250000.0,6.1,131.0,1.0,0.0,107.0,0.0],[0.0,719.0,0.0,40.0,1.0,263358.03,1.18,137.0,0.0,0.0,107.0,0.0],[0.0,193.0,0.0,60.0,1.0,295000.0,1.3,145.0,1.0,1.0,107.0,0.0],[0.0,4540.0,0.0,35.0,0.0,231000.0,1.18,137.0,1.0,1.0,107.0,0.0],[0.0,582.0,0.0,40.0,0.0,263358.03,1.18,137.0,1.0,0.0,107.0,0.0],[1.0,59.0,1.0,60.0,0.0,172000.0,0.9,137.0,0.0,0.0,107.0,0.0],[1.0,646.0,0.0,25.0,0.0,305000.0,2.1,130.0,1.0,0.0,108.0,0.0],[0.0,281.0,1.0,35.0,0.0,221000.0,1.0,136.0,0.0,0.0,108.0,0.0],[0.0,1548.0,0.0,30.0,1.0,211000.0,0.8,138.0,1.0,0.0,108.0,0.0],[1.0,291.0,0.0,35.0,0.0,348000.0,0.9,140.0,0.0,0.0,109.0,0.0],[0.0,482.0,1.0,30.0,0.0,329000.0,0.9,132.0,0.0,0.0,109.0,0.0],[1.0,84.0,0.0,40.0,1.0,229000.0,0.9,141.0,0.0,0.0,110.0,0.0],[0.0,185.0,0.0,30.0,0.0,266000.0,0.7,141.0,1.0,1.0,112.0,0.0],[0.0,132.0,0.0,30.0,0.0,218000.0,0.7,136.0,1.0,1.0,112.0,0.0],[0.0,1610.0,0.0,60.0,0.0,242000.0,1.0,137.0,1.0,0.0,113.0,0.0],[0.0,2261.0,0.0,35.0,1.0,228000.0,0.9,136.0,1.0,0.0,115.0,0.0],[0.0,30.0,1.0,60.0,1.0,244000.0,0.9,139.0,1.0,0.0,117.0,0.0],[0.0,115.0,0.0,45.0,1.0,184000.0,0.9,134.0,1.0,1.0,118.0,0.0],[0.0,1846.0,1.0,35.0,0.0,263358.03,1.18,137.0,1.0,1.0,119.0,0.0],[1.0,335.0,0.0,35.0,1.0,235000.0,0.8,136.0,0.0,0.0,120.0,0.0],[1.0,231.0,1.0,25.0,0.0,194000.0,1.7,140.0,1.0,0.0,120.0,0.0],[1.0,58.0,0.0,35.0,0.0,277000.0,1.4,136.0,0.0,0.0,120.0,0.0],[0.0,250.0,0.0,25.0,0.0,262000.0,1.0,136.0,1.0,1.0,120.0,0.0],[1.0,910.0,0.0,50.0,0.0,235000.0,1.3,134.0,1.0,0.0,121.0,0.0],[1.0,129.0,0.0,45.0,1.0,362000.0,1.1,139.0,1.0,1.0,121.0,0.0],[1.0,72.0,0.0,40.0,1.0,242000.0,1.2,134.0,1.0,0.0,121.0,0.0],[1.0,130.0,0.0,35.0,0.0,174000.0,0.8,139.0,1.0,1.0,121.0,0.0],[1.0,582.0,0.0,40.0,0.0,448000.0,0.9,137.0,1.0,1.0,123.0,0.0],[0.0,196.0,0.0,60.0,0.0,220000.0,0.7,133.0,1.0,1.0,134.0,0.0],[0.0,582.0,1.0,40.0,0.0,270000.0,1.0,138.0,0.0,0.0,140.0,0.0],[0.0,835.0,0.0,35.0,1.0,305000.0,0.8,133.0,0.0,0.0,145.0,0.0],[1.0,582.0,1.0,35.0,0.0,263358.03,1.5,136.0,1.0,1.0,145.0,0.0],[0.0,3966.0,0.0,40.0,0.0,325000.0,0.9,140.0,1.0,1.0,146.0,0.0],[1.0,171.0,0.0,60.0,1.0,176000.0,1.1,145.0,1.0,1.0,146.0,0.0],[1.0,115.0,0.0,20.0,0.0,189000.0,0.8,139.0,1.0,0.0,146.0,0.0],[0.0,198.0,1.0,35.0,1.0,281000.0,0.9,137.0,1.0,1.0,146.0,0.0],[1.0,95.0,0.0,60.0,0.0,337000.0,1.0,138.0,1.0,1.0,146.0,0.0],[0.0,1419.0,0.0,40.0,0.0,105000.0,1.0,135.0,1.0,1.0,147.0,0.0],[1.0,69.0,0.0,50.0,0.0,132000.0,1.0,140.0,0.0,0.0,147.0,0.0],[1.0,122.0,1.0,60.0,0.0,267000.0,1.2,145.0,1.0,0.0,147.0,0.0],[0.0,835.0,0.0,40.0,0.0,279000.0,0.7,140.0,1.0,1.0,147.0,0.0],[0.0,478.0,1.0,30.0,0.0,303000.0,0.9,136.0,1.0,0.0,148.0,0.0],[1.0,151.0,1.0,40.0,1.0,201000.0,1.0,136.0,0.0,0.0,172.0,0.0],[0.0,244.0,0.0,45.0,1.0,275000.0,0.9,140.0,0.0,0.0,174.0,0.0],[0.0,582.0,1.0,35.0,0.0,350000.0,2.1,134.0,1.0,0.0,174.0,0.0],[1.0,62.0,0.0,60.0,0.0,309000.0,1.5,135.0,0.0,0.0,174.0,0.0],[1.0,121.0,1.0,40.0,0.0,260000.0,0.7,130.0,1.0,0.0,175.0,0.0],[1.0,231.0,1.0,30.0,0.0,160000.0,1.18,142.0,1.0,1.0,180.0,0.0],[0.0,582.0,1.0,38.0,1.0,263358.03,1.18,137.0,0.0,0.0,185.0,0.0],[0.0,167.0,0.0,30.0,0.0,259000.0,0.8,138.0,0.0,0.0,186.0,0.0],[1.0,582.0,1.0,20.0,1.0,279000.0,1.0,134.0,0.0,0.0,186.0,0.0],[0.0,1211.0,1.0,35.0,0.0,263358.03,1.8,113.0,1.0,1.0,186.0,0.0],[1.0,1767.0,0.0,45.0,0.0,73000.0,0.7,137.0,1.0,0.0,186.0,0.0],[0.0,308.0,1.0,60.0,1.0,377000.0,1.0,136.0,1.0,0.0,186.0,0.0],[0.0,97.0,0.0,60.0,1.0,220000.0,0.9,138.0,1.0,0.0,186.0,0.0],[0.0,59.0,0.0,25.0,1.0,212000.0,3.5,136.0,1.0,1.0,187.0,0.0],[1.0,64.0,0.0,40.0,0.0,277000.0,0.7,137.0,1.0,1.0,187.0,0.0],[1.0,167.0,1.0,45.0,0.0,362000.0,1.0,136.0,0.0,0.0,187.0,0.0],[1.0,101.0,0.0,40.0,0.0,226000.0,0.8,141.0,0.0,0.0,187.0,0.0],[0.0,212.0,0.0,38.0,0.0,186000.0,0.9,136.0,1.0,0.0,187.0,0.0],[1.0,2281.0,1.0,40.0,0.0,283000.0,1.0,141.0,0.0,0.0,187.0,0.0],[0.0,972.0,1.0,35.0,1.0,268000.0,0.8,130.0,0.0,0.0,187.0,0.0],[0.0,212.0,1.0,17.0,1.0,389000.0,1.0,136.0,1.0,1.0,188.0,0.0],[0.0,582.0,0.0,62.0,1.0,147000.0,0.8,140.0,1.0,1.0,192.0,0.0],[0.0,224.0,0.0,50.0,0.0,481000.0,1.4,138.0,1.0,1.0,192.0,0.0],[1.0,135.0,0.0,35.0,1.0,290000.0,0.8,134.0,1.0,0.0,194.0,0.0],[0.0,582.0,0.0,35.0,1.0,203000.0,1.3,134.0,1.0,0.0,195.0,0.0],[0.0,1202.0,0.0,50.0,1.0,358000.0,0.9,141.0,0.0,0.0,196.0,0.0],[1.0,1021.0,1.0,35.0,0.0,271000.0,1.1,134.0,1.0,0.0,197.0,0.0],[0.0,582.0,1.0,35.0,1.0,371000.0,0.7,140.0,0.0,0.0,197.0,0.0],[0.0,118.0,0.0,50.0,0.0,194000.0,1.1,145.0,1.0,1.0,200.0,0.0],[1.0,86.0,0.0,35.0,0.0,365000.0,1.1,139.0,1.0,1.0,201.0,0.0],[0.0,582.0,0.0,25.0,0.0,130000.0,0.8,134.0,1.0,0.0,201.0,0.0],[0.0,582.0,1.0,25.0,0.0,504000.0,1.0,138.0,1.0,0.0,205.0,0.0],[0.0,675.0,1.0,60.0,0.0,265000.0,1.4,125.0,0.0,0.0,205.0,0.0],[1.0,57.0,0.0,25.0,0.0,189000.0,1.3,132.0,1.0,1.0,205.0,0.0],[1.0,2794.0,0.0,35.0,1.0,141000.0,1.0,140.0,1.0,0.0,206.0,0.0],[0.0,56.0,0.0,25.0,0.0,237000.0,5.0,130.0,0.0,0.0,207.0,0.0],[0.0,211.0,0.0,25.0,0.0,274000.0,1.2,134.0,0.0,0.0,207.0,0.0],[0.0,93.0,0.0,35.0,0.0,185000.0,1.1,134.0,1.0,1.0,208.0,0.0],[1.0,129.0,0.0,35.0,0.0,255000.0,0.9,137.0,1.0,0.0,209.0,0.0],[1.0,707.0,0.0,38.0,0.0,330000.0,1.4,137.0,1.0,1.0,209.0,0.0],[1.0,582.0,0.0,45.0,0.0,305000.0,1.1,137.0,1.0,1.0,209.0,0.0],[1.0,109.0,0.0,50.0,1.0,406000.0,1.1,137.0,1.0,0.0,209.0,0.0],[0.0,119.0,0.0,50.0,1.0,248000.0,1.1,148.0,1.0,0.0,209.0,0.0],[0.0,232.0,0.0,30.0,0.0,173000.0,1.2,132.0,1.0,0.0,210.0,0.0],[1.0,720.0,1.0,40.0,0.0,257000.0,1.0,136.0,0.0,0.0,210.0,0.0],[1.0,180.0,0.0,45.0,0.0,263358.03,1.18,137.0,1.0,1.0,211.0,0.0],[0.0,81.0,1.0,35.0,1.0,533000.0,1.3,139.0,0.0,0.0,212.0,0.0],[0.0,582.0,1.0,30.0,0.0,249000.0,1.3,136.0,1.0,1.0,212.0,0.0],[0.0,90.0,0.0,35.0,0.0,255000.0,1.1,136.0,1.0,1.0,212.0,0.0],[1.0,1185.0,0.0,40.0,1.0,220000.0,0.9,141.0,0.0,0.0,213.0,0.0],[0.0,582.0,1.0,38.0,0.0,264000.0,1.8,134.0,1.0,0.0,213.0,0.0],[1.0,80.0,1.0,38.0,0.0,282000.0,1.4,137.0,1.0,0.0,213.0,0.0],[0.0,143.0,0.0,25.0,0.0,246000.0,2.4,135.0,1.0,0.0,214.0,0.0],[0.0,624.0,0.0,35.0,0.0,301000.0,1.0,142.0,1.0,1.0,214.0,0.0],[0.0,207.0,1.0,40.0,0.0,223000.0,1.2,130.0,0.0,0.0,214.0,0.0],[0.0,2522.0,0.0,30.0,1.0,404000.0,0.5,139.0,0.0,0.0,214.0,0.0],[0.0,572.0,1.0,35.0,0.0,231000.0,0.8,143.0,0.0,0.0,215.0,0.0],[0.0,245.0,0.0,45.0,1.0,274000.0,1.0,133.0,1.0,0.0,215.0,0.0],[0.0,88.0,1.0,35.0,1.0,236000.0,1.2,132.0,0.0,0.0,215.0,0.0],[1.0,446.0,0.0,60.0,1.0,263358.03,1.0,139.0,1.0,0.0,215.0,0.0],[1.0,191.0,1.0,30.0,1.0,334000.0,1.0,142.0,1.0,1.0,216.0,0.0],[0.0,326.0,0.0,38.0,0.0,294000.0,1.7,139.0,0.0,0.0,220.0,0.0],[0.0,132.0,1.0,38.0,1.0,253000.0,1.0,139.0,1.0,0.0,230.0,0.0],[1.0,66.0,1.0,25.0,0.0,233000.0,0.8,135.0,1.0,0.0,230.0,0.0],[0.0,56.0,0.0,50.0,0.0,308000.0,0.7,135.0,1.0,1.0,231.0,0.0],[0.0,66.0,0.0,40.0,0.0,203000.0,1.0,138.0,1.0,0.0,233.0,0.0],[1.0,655.0,0.0,40.0,0.0,283000.0,0.7,133.0,0.0,0.0,233.0,0.0],[1.0,157.0,1.0,60.0,0.0,208000.0,1.0,140.0,0.0,0.0,237.0,0.0],[0.0,582.0,1.0,38.0,0.0,147000.0,1.2,141.0,1.0,0.0,237.0,0.0],[1.0,298.0,0.0,35.0,0.0,362000.0,0.9,140.0,1.0,1.0,240.0,0.0],[1.0,135.0,1.0,38.0,0.0,133000.0,1.7,140.0,1.0,0.0,244.0,0.0],[0.0,582.0,1.0,38.0,0.0,302000.0,0.9,140.0,0.0,0.0,244.0,0.0],[0.0,582.0,1.0,35.0,0.0,222000.0,1.0,132.0,1.0,0.0,244.0,0.0],[0.0,582.0,1.0,30.0,1.0,263358.03,1.6,130.0,1.0,1.0,244.0,0.0],[0.0,582.0,1.0,40.0,0.0,221000.0,0.9,134.0,0.0,0.0,244.0,0.0],[0.0,213.0,0.0,38.0,0.0,215000.0,1.2,133.0,0.0,0.0,245.0,0.0],[0.0,64.0,0.0,40.0,0.0,189000.0,0.7,140.0,1.0,0.0,245.0,0.0],[1.0,257.0,1.0,30.0,0.0,150000.0,1.0,137.0,1.0,1.0,245.0,0.0],[0.0,582.0,0.0,38.0,1.0,422000.0,0.8,137.0,0.0,0.0,245.0,0.0],[0.0,618.0,0.0,35.0,0.0,327000.0,1.1,142.0,0.0,0.0,245.0,0.0],[0.0,582.0,1.0,38.0,0.0,25100.0,1.1,140.0,1.0,0.0,246.0,0.0],[1.0,1051.0,1.0,30.0,0.0,232000.0,0.7,136.0,0.0,0.0,246.0,0.0],[0.0,84.0,1.0,38.0,0.0,451000.0,1.3,136.0,0.0,0.0,246.0,0.0],[0.0,2695.0,1.0,40.0,0.0,241000.0,1.0,137.0,1.0,0.0,247.0,0.0],[0.0,582.0,0.0,40.0,0.0,51000.0,2.7,136.0,1.0,1.0,250.0,0.0],[0.0,64.0,0.0,30.0,0.0,215000.0,3.8,128.0,1.0,1.0,250.0,0.0],[0.0,1688.0,0.0,38.0,0.0,263358.03,1.1,138.0,1.0,1.0,250.0,0.0],[1.0,54.0,0.0,40.0,0.0,279000.0,0.8,141.0,1.0,0.0,250.0,0.0],[1.0,170.0,1.0,40.0,0.0,336000.0,1.2,135.0,1.0,0.0,250.0,0.0],[0.0,253.0,0.0,35.0,0.0,279000.0,1.7,140.0,1.0,0.0,250.0,0.0],[0.0,582.0,1.0,55.0,0.0,543000.0,1.0,132.0,0.0,0.0,250.0,0.0],[0.0,892.0,1.0,35.0,0.0,263358.03,1.1,142.0,0.0,0.0,256.0,0.0],[1.0,337.0,0.0,38.0,0.0,390000.0,0.9,144.0,0.0,0.0,256.0,0.0],[0.0,615.0,1.0,55.0,0.0,222000.0,0.8,141.0,0.0,0.0,257.0,0.0],[0.0,320.0,0.0,35.0,0.0,133000.0,1.4,139.0,1.0,0.0,258.0,0.0],[0.0,190.0,1.0,38.0,0.0,382000.0,1.0,140.0,1.0,1.0,258.0,0.0],[1.0,103.0,1.0,35.0,0.0,179000.0,0.9,136.0,1.0,1.0,270.0,0.0],[0.0,61.0,1.0,38.0,1.0,155000.0,1.1,143.0,1.0,1.0,270.0,0.0],[0.0,1820.0,0.0,38.0,0.0,270000.0,1.2,139.0,0.0,0.0,271.0,0.0],[0.0,2060.0,1.0,60.0,0.0,742000.0,0.8,138.0,0.0,0.0,278.0,0.0],[0.0,2413.0,0.0,38.0,0.0,140000.0,1.4,140.0,1.0,1.0,280.0,0.0],[0.0,196.0,0.0,45.0,0.0,395000.0,1.6,136.0,1.0,1.0,285.0,0.0]],\"hovertemplate\":\"DEATH_EVENT=%{customdata[11]}<br>AGE=%{x}<br>anaemia=%{customdata[0]}<br>creatinine_phosphokinase=%{customdata[1]}<br>diabetes=%{customdata[2]}<br>ejection_fraction=%{customdata[3]}<br>high_blood_pressure=%{customdata[4]}<br>platelets=%{customdata[5]}<br>serum_creatinine=%{customdata[6]}<br>serum_sodium=%{customdata[7]}<br>sex=%{customdata[8]}<br>smoking=%{customdata[9]}<br>time=%{customdata[10]}<extra></extra>\",\"legendgroup\":\"0\",\"marker\":{\"color\":\"#EF553B\"},\"name\":\"0\",\"offsetgroup\":\"0\",\"scalegroup\":\"x\",\"showlegend\":false,\"x\":[49.0,65.0,53.0,50.0,60.0,72.0,70.0,60.0,55.0,45.0,41.0,58.0,65.0,70.0,42.0,75.0,55.0,70.0,67.0,79.0,51.0,55.0,65.0,44.0,57.0,70.0,60.0,42.0,58.0,58.0,63.0,70.0,60.0,63.0,65.0,75.0,80.0,42.0,60.0,55.0,45.0,63.0,45.0,55.0,50.0,60.0,58.0,60.0,85.0,65.0,60.0,66.0,60.0,60.0,43.0,58.0,61.0,53.0,53.0,60.0,46.0,63.0,81.0,75.0,65.0,68.0,62.0,50.0,46.0,50.0,61.0,50.0,52.0,64.0,60.0,62.0,50.0,50.0,65.0,60.0,52.0,50.0,85.0,59.0,66.0,45.0,63.0,53.0,65.0,70.0,51.0,52.0,70.0,50.0,65.0,60.0,69.0,49.0,63.0,55.0,40.0,60.667,40.0,80.0,64.0,50.0,73.0,45.0,65.0,50.0,60.0,63.0,45.0,70.0,60.0,78.0,50.0,40.0,85.0,60.0,49.0,70.0,50.0,78.0,65.0,73.0,70.0,68.0,55.0,65.0,42.0,47.0,58.0,75.0,58.0,55.0,65.0,72.0,70.0,40.0,53.0,53.0,77.0,75.0,70.0,65.0,55.0,70.0,65.0,40.0,73.0,54.0,61.0,64.0,40.0,53.0,50.0,55.0,50.0,70.0,53.0,52.0,65.0,58.0,45.0,53.0,55.0,62.0,68.0,61.0,50.0,56.0,45.0,40.0,44.0,51.0,67.0,42.0,60.0,45.0,70.0,70.0,50.0,55.0,70.0,70.0,42.0,65.0,50.0,55.0,60.0,45.0,65.0,90.0,45.0,60.0,52.0,63.0,62.0,55.0,45.0,45.0,50.0],\"xaxis\":\"x2\",\"yaxis\":\"y2\",\"type\":\"violin\"}],                        {\"template\":{\"data\":{\"bar\":[{\"error_x\":{\"color\":\"#2a3f5f\"},\"error_y\":{\"color\":\"#2a3f5f\"},\"marker\":{\"line\":{\"color\":\"#E5ECF6\",\"width\":0.5},\"pattern\":{\"fillmode\":\"overlay\",\"size\":10,\"solidity\":0.2}},\"type\":\"bar\"}],\"barpolar\":[{\"marker\":{\"line\":{\"color\":\"#E5ECF6\",\"width\":0.5},\"pattern\":{\"fillmode\":\"overlay\",\"size\":10,\"solidity\":0.2}},\"type\":\"barpolar\"}],\"carpet\":[{\"aaxis\":{\"endlinecolor\":\"#2a3f5f\",\"gridcolor\":\"white\",\"linecolor\":\"white\",\"minorgridcolor\":\"white\",\"startlinecolor\":\"#2a3f5f\"},\"baxis\":{\"endlinecolor\":\"#2a3f5f\",\"gridcolor\":\"white\",\"linecolor\":\"white\",\"minorgridcolor\":\"white\",\"startlinecolor\":\"#2a3f5f\"},\"type\":\"carpet\"}],\"choropleth\":[{\"colorbar\":{\"outlinewidth\":0,\"ticks\":\"\"},\"type\":\"choropleth\"}],\"contour\":[{\"colorbar\":{\"outlinewidth\":0,\"ticks\":\"\"},\"colorscale\":[[0.0,\"#0d0887\"],[0.1111111111111111,\"#46039f\"],[0.2222222222222222,\"#7201a8\"],[0.3333333333333333,\"#9c179e\"],[0.4444444444444444,\"#bd3786\"],[0.5555555555555556,\"#d8576b\"],[0.6666666666666666,\"#ed7953\"],[0.7777777777777778,\"#fb9f3a\"],[0.8888888888888888,\"#fdca26\"],[1.0,\"#f0f921\"]],\"type\":\"contour\"}],\"contourcarpet\":[{\"colorbar\":{\"outlinewidth\":0,\"ticks\":\"\"},\"type\":\"contourcarpet\"}],\"heatmap\":[{\"colorbar\":{\"outlinewidth\":0,\"ticks\":\"\"},\"colorscale\":[[0.0,\"#0d0887\"],[0.1111111111111111,\"#46039f\"],[0.2222222222222222,\"#7201a8\"],[0.3333333333333333,\"#9c179e\"],[0.4444444444444444,\"#bd3786\"],[0.5555555555555556,\"#d8576b\"],[0.6666666666666666,\"#ed7953\"],[0.7777777777777778,\"#fb9f3a\"],[0.8888888888888888,\"#fdca26\"],[1.0,\"#f0f921\"]],\"type\":\"heatmap\"}],\"heatmapgl\":[{\"colorbar\":{\"outlinewidth\":0,\"ticks\":\"\"},\"colorscale\":[[0.0,\"#0d0887\"],[0.1111111111111111,\"#46039f\"],[0.2222222222222222,\"#7201a8\"],[0.3333333333333333,\"#9c179e\"],[0.4444444444444444,\"#bd3786\"],[0.5555555555555556,\"#d8576b\"],[0.6666666666666666,\"#ed7953\"],[0.7777777777777778,\"#fb9f3a\"],[0.8888888888888888,\"#fdca26\"],[1.0,\"#f0f921\"]],\"type\":\"heatmapgl\"}],\"histogram\":[{\"marker\":{\"pattern\":{\"fillmode\":\"overlay\",\"size\":10,\"solidity\":0.2}},\"type\":\"histogram\"}],\"histogram2d\":[{\"colorbar\":{\"outlinewidth\":0,\"ticks\":\"\"},\"colorscale\":[[0.0,\"#0d0887\"],[0.1111111111111111,\"#46039f\"],[0.2222222222222222,\"#7201a8\"],[0.3333333333333333,\"#9c179e\"],[0.4444444444444444,\"#bd3786\"],[0.5555555555555556,\"#d8576b\"],[0.6666666666666666,\"#ed7953\"],[0.7777777777777778,\"#fb9f3a\"],[0.8888888888888888,\"#fdca26\"],[1.0,\"#f0f921\"]],\"type\":\"histogram2d\"}],\"histogram2dcontour\":[{\"colorbar\":{\"outlinewidth\":0,\"ticks\":\"\"},\"colorscale\":[[0.0,\"#0d0887\"],[0.1111111111111111,\"#46039f\"],[0.2222222222222222,\"#7201a8\"],[0.3333333333333333,\"#9c179e\"],[0.4444444444444444,\"#bd3786\"],[0.5555555555555556,\"#d8576b\"],[0.6666666666666666,\"#ed7953\"],[0.7777777777777778,\"#fb9f3a\"],[0.8888888888888888,\"#fdca26\"],[1.0,\"#f0f921\"]],\"type\":\"histogram2dcontour\"}],\"mesh3d\":[{\"colorbar\":{\"outlinewidth\":0,\"ticks\":\"\"},\"type\":\"mesh3d\"}],\"parcoords\":[{\"line\":{\"colorbar\":{\"outlinewidth\":0,\"ticks\":\"\"}},\"type\":\"parcoords\"}],\"pie\":[{\"automargin\":true,\"type\":\"pie\"}],\"scatter\":[{\"marker\":{\"colorbar\":{\"outlinewidth\":0,\"ticks\":\"\"}},\"type\":\"scatter\"}],\"scatter3d\":[{\"line\":{\"colorbar\":{\"outlinewidth\":0,\"ticks\":\"\"}},\"marker\":{\"colorbar\":{\"outlinewidth\":0,\"ticks\":\"\"}},\"type\":\"scatter3d\"}],\"scattercarpet\":[{\"marker\":{\"colorbar\":{\"outlinewidth\":0,\"ticks\":\"\"}},\"type\":\"scattercarpet\"}],\"scattergeo\":[{\"marker\":{\"colorbar\":{\"outlinewidth\":0,\"ticks\":\"\"}},\"type\":\"scattergeo\"}],\"scattergl\":[{\"marker\":{\"colorbar\":{\"outlinewidth\":0,\"ticks\":\"\"}},\"type\":\"scattergl\"}],\"scattermapbox\":[{\"marker\":{\"colorbar\":{\"outlinewidth\":0,\"ticks\":\"\"}},\"type\":\"scattermapbox\"}],\"scatterpolar\":[{\"marker\":{\"colorbar\":{\"outlinewidth\":0,\"ticks\":\"\"}},\"type\":\"scatterpolar\"}],\"scatterpolargl\":[{\"marker\":{\"colorbar\":{\"outlinewidth\":0,\"ticks\":\"\"}},\"type\":\"scatterpolargl\"}],\"scatterternary\":[{\"marker\":{\"colorbar\":{\"outlinewidth\":0,\"ticks\":\"\"}},\"type\":\"scatterternary\"}],\"surface\":[{\"colorbar\":{\"outlinewidth\":0,\"ticks\":\"\"},\"colorscale\":[[0.0,\"#0d0887\"],[0.1111111111111111,\"#46039f\"],[0.2222222222222222,\"#7201a8\"],[0.3333333333333333,\"#9c179e\"],[0.4444444444444444,\"#bd3786\"],[0.5555555555555556,\"#d8576b\"],[0.6666666666666666,\"#ed7953\"],[0.7777777777777778,\"#fb9f3a\"],[0.8888888888888888,\"#fdca26\"],[1.0,\"#f0f921\"]],\"type\":\"surface\"}],\"table\":[{\"cells\":{\"fill\":{\"color\":\"#EBF0F8\"},\"line\":{\"color\":\"white\"}},\"header\":{\"fill\":{\"color\":\"#C8D4E3\"},\"line\":{\"color\":\"white\"}},\"type\":\"table\"}]},\"layout\":{\"annotationdefaults\":{\"arrowcolor\":\"#2a3f5f\",\"arrowhead\":0,\"arrowwidth\":1},\"autotypenumbers\":\"strict\",\"coloraxis\":{\"colorbar\":{\"outlinewidth\":0,\"ticks\":\"\"}},\"colorscale\":{\"diverging\":[[0,\"#8e0152\"],[0.1,\"#c51b7d\"],[0.2,\"#de77ae\"],[0.3,\"#f1b6da\"],[0.4,\"#fde0ef\"],[0.5,\"#f7f7f7\"],[0.6,\"#e6f5d0\"],[0.7,\"#b8e186\"],[0.8,\"#7fbc41\"],[0.9,\"#4d9221\"],[1,\"#276419\"]],\"sequential\":[[0.0,\"#0d0887\"],[0.1111111111111111,\"#46039f\"],[0.2222222222222222,\"#7201a8\"],[0.3333333333333333,\"#9c179e\"],[0.4444444444444444,\"#bd3786\"],[0.5555555555555556,\"#d8576b\"],[0.6666666666666666,\"#ed7953\"],[0.7777777777777778,\"#fb9f3a\"],[0.8888888888888888,\"#fdca26\"],[1.0,\"#f0f921\"]],\"sequentialminus\":[[0.0,\"#0d0887\"],[0.1111111111111111,\"#46039f\"],[0.2222222222222222,\"#7201a8\"],[0.3333333333333333,\"#9c179e\"],[0.4444444444444444,\"#bd3786\"],[0.5555555555555556,\"#d8576b\"],[0.6666666666666666,\"#ed7953\"],[0.7777777777777778,\"#fb9f3a\"],[0.8888888888888888,\"#fdca26\"],[1.0,\"#f0f921\"]]},\"colorway\":[\"#636efa\",\"#EF553B\",\"#00cc96\",\"#ab63fa\",\"#FFA15A\",\"#19d3f3\",\"#FF6692\",\"#B6E880\",\"#FF97FF\",\"#FECB52\"],\"font\":{\"color\":\"#2a3f5f\"},\"geo\":{\"bgcolor\":\"white\",\"lakecolor\":\"white\",\"landcolor\":\"#E5ECF6\",\"showlakes\":true,\"showland\":true,\"subunitcolor\":\"white\"},\"hoverlabel\":{\"align\":\"left\"},\"hovermode\":\"closest\",\"mapbox\":{\"style\":\"light\"},\"paper_bgcolor\":\"white\",\"plot_bgcolor\":\"#E5ECF6\",\"polar\":{\"angularaxis\":{\"gridcolor\":\"white\",\"linecolor\":\"white\",\"ticks\":\"\"},\"bgcolor\":\"#E5ECF6\",\"radialaxis\":{\"gridcolor\":\"white\",\"linecolor\":\"white\",\"ticks\":\"\"}},\"scene\":{\"xaxis\":{\"backgroundcolor\":\"#E5ECF6\",\"gridcolor\":\"white\",\"gridwidth\":2,\"linecolor\":\"white\",\"showbackground\":true,\"ticks\":\"\",\"zerolinecolor\":\"white\"},\"yaxis\":{\"backgroundcolor\":\"#E5ECF6\",\"gridcolor\":\"white\",\"gridwidth\":2,\"linecolor\":\"white\",\"showbackground\":true,\"ticks\":\"\",\"zerolinecolor\":\"white\"},\"zaxis\":{\"backgroundcolor\":\"#E5ECF6\",\"gridcolor\":\"white\",\"gridwidth\":2,\"linecolor\":\"white\",\"showbackground\":true,\"ticks\":\"\",\"zerolinecolor\":\"white\"}},\"shapedefaults\":{\"line\":{\"color\":\"#2a3f5f\"}},\"ternary\":{\"aaxis\":{\"gridcolor\":\"white\",\"linecolor\":\"white\",\"ticks\":\"\"},\"baxis\":{\"gridcolor\":\"white\",\"linecolor\":\"white\",\"ticks\":\"\"},\"bgcolor\":\"#E5ECF6\",\"caxis\":{\"gridcolor\":\"white\",\"linecolor\":\"white\",\"ticks\":\"\"}},\"title\":{\"x\":0.05},\"xaxis\":{\"automargin\":true,\"gridcolor\":\"white\",\"linecolor\":\"white\",\"ticks\":\"\",\"title\":{\"standoff\":15},\"zerolinecolor\":\"white\",\"zerolinewidth\":2},\"yaxis\":{\"automargin\":true,\"gridcolor\":\"white\",\"linecolor\":\"white\",\"ticks\":\"\",\"title\":{\"standoff\":15},\"zerolinecolor\":\"white\",\"zerolinewidth\":2}}},\"xaxis\":{\"anchor\":\"y\",\"domain\":[0.0,1.0],\"title\":{\"text\":\"AGE\"}},\"yaxis\":{\"anchor\":\"x\",\"domain\":[0.0,0.7326],\"title\":{\"text\":\"count\"}},\"xaxis2\":{\"anchor\":\"y2\",\"domain\":[0.0,1.0],\"matches\":\"x\",\"showticklabels\":false,\"showgrid\":true},\"yaxis2\":{\"anchor\":\"x2\",\"domain\":[0.7426,1.0],\"matches\":\"y2\",\"showticklabels\":false,\"showline\":false,\"ticks\":\"\",\"showgrid\":false},\"legend\":{\"title\":{\"text\":\"DEATH_EVENT\"},\"tracegroupgap\":0},\"title\":{\"text\":\"Distribution of AGE Vs DEATH_EVENT\"},\"barmode\":\"relative\"},                        {\"responsive\": true}                    ).then(function(){\n",
              "                            \n",
              "var gd = document.getElementById('e3abd8a2-856a-4348-b862-c560e4d717c3');\n",
              "var x = new MutationObserver(function (mutations, observer) {{\n",
              "        var display = window.getComputedStyle(gd).display;\n",
              "        if (!display || display === 'none') {{\n",
              "            console.log([gd, 'removed!']);\n",
              "            Plotly.purge(gd);\n",
              "            observer.disconnect();\n",
              "        }}\n",
              "}});\n",
              "\n",
              "// Listen for the removal of the full notebook cells\n",
              "var notebookContainer = gd.closest('#notebook-container');\n",
              "if (notebookContainer) {{\n",
              "    x.observe(notebookContainer, {childList: true});\n",
              "}}\n",
              "\n",
              "// Listen for the clearing of the current output cell\n",
              "var outputEl = gd.closest('.output');\n",
              "if (outputEl) {{\n",
              "    x.observe(outputEl, {childList: true});\n",
              "}}\n",
              "\n",
              "                        })                };                            </script>        </div>\n",
              "</body>\n",
              "</html>"
            ]
          },
          "metadata": {}
        }
      ]
    },
    {
      "cell_type": "code",
      "source": [
        "train.sex.value_counts().plot.pie(explode=[0.1,0.1],autopct='%1.1f%%',shadow=True)"
      ],
      "metadata": {
        "colab": {
          "base_uri": "https://localhost:8080/",
          "height": 483
        },
        "id": "O8bSjK53W1qx",
        "outputId": "252470f7-1717-48b3-87ee-e80858a4ee34"
      },
      "execution_count": 95,
      "outputs": [
        {
          "output_type": "execute_result",
          "data": {
            "text/plain": [
              "<matplotlib.axes._subplots.AxesSubplot at 0x7f9012963a90>"
            ]
          },
          "metadata": {},
          "execution_count": 95
        },
        {
          "output_type": "display_data",
          "data": {
            "text/plain": [
              "<Figure size 576x576 with 1 Axes>"
            ],
            "image/png": "[encoded data removed]"
          },
          "metadata": {}
        }
      ]
    },
    {
      "cell_type": "code",
      "source": [
        "sns.countplot(x='sex',hue='DEATH_EVENT',data=train)\n",
        "plt.legend(['yes','no'])"
      ],
      "metadata": {
        "colab": {
          "base_uri": "https://localhost:8080/",
          "height": 519
        },
        "id": "YIsU_cgJW4Nd",
        "outputId": "2e2d6a10-c1b1-48de-bae1-4ec89c5772ba"
      },
      "execution_count": 96,
      "outputs": [
        {
          "output_type": "execute_result",
          "data": {
            "text/plain": [
              "<matplotlib.legend.Legend at 0x7f901279d730>"
            ]
          },
          "metadata": {},
          "execution_count": 96
        },
        {
          "output_type": "display_data",
          "data": {
            "text/plain": [
              "<Figure size 576x576 with 1 Axes>"
            ],
            "image/png": "[encoded data removed]"
          },
          "metadata": {}
        }
      ]
    },
    {
      "cell_type": "code",
      "source": [
        "import plotly.graph_objects as go\n",
        "from plotly.subplots import make_subplots\n",
        "\n",
        "d1 = train[(train[\"DEATH_EVENT\"]==0) & (train[\"sex\"]==1)]\n",
        "d2 = train[(train[\"DEATH_EVENT\"]==1) & (train[\"sex\"]==1)]\n",
        "d3 = train[(train[\"DEATH_EVENT\"]==0) & (train[\"sex\"]==0)]\n",
        "d4 = train[(train[\"DEATH_EVENT\"]==1) & (train[\"sex\"]==0)]\n",
        "\n",
        "label1 = [\"Male\",\"Female\"]\n",
        "label2 = ['Male - Survived','Male - Died', \"Female -  Survived\", \"Female - Died\"]\n",
        "\n",
        "values1 = [(len(d1)+len(d2)), (len(d3)+len(d4))]\n",
        "values2 = [len(d1),len(d2),len(d3),len(d4)]\n",
        "\n",
        "# Create subplots: use 'domain' type for Pie subplot\n",
        "fig = make_subplots(rows=1, cols=2, specs=[[{'type':'domain'}, {'type':'domain'}]])\n",
        "fig.add_trace(go.Pie(labels=label1, values=values1, name=\"GENDER\"),\n",
        "              1, 1)\n",
        "fig.add_trace(go.Pie(labels=label2, values=values2, name=\"GENDER VS DEATH_EVENT\"),\n",
        "              1, 2)\n",
        "\n",
        "# Use `hole` to create a donut-like pie chart\n",
        "fig.update_traces(hole=.4, hoverinfo=\"label+percent\")\n",
        "fig.update_layout(\n",
        "    title_text=\"GENDER DISTRIBUTION IN THE DATASET  \\\n",
        "                   GENDER VS DEATH_EVENT\",\n",
        "    # Add annotations in the center of the donut pies.\n",
        "    annotations=[dict(text='GENDER', x=0.19, y=0.5, font_size=10, showarrow=False),\n",
        "                 dict(text='GENDER VS DEATH_EVENT', x=0.84, y=0.5, font_size=9, showarrow=False)],\n",
        "    autosize=False,width=1200, height=500, paper_bgcolor=\"white\")\n",
        "\n",
        "fig.show()"
      ],
      "metadata": {
        "colab": {
          "base_uri": "https://localhost:8080/",
          "height": 517
        },
        "id": "tKuEFTDRW6KQ",
        "outputId": "42b69eff-fbd2-4719-ae4e-a04522701cc2"
      },
      "execution_count": 97,
      "outputs": [
        {
          "output_type": "display_data",
          "data": {
            "text/html": [
              "<html>\n",
              "<head><meta charset=\"utf-8\" /></head>\n",
              "<body>\n",
              "    <div>            <script src=\"https://cdnjs.cloudflare.com/ajax/libs/mathjax/2.7.5/MathJax.js?config=TeX-AMS-MML_SVG\"></script><script type=\"text/javascript\">if (window.MathJax) {MathJax.Hub.Config({SVG: {font: \"STIX-Web\"}});}</script>                <script type=\"text/javascript\">window.PlotlyConfig = {MathJaxConfig: 'local'};</script>\n",
              "        <script src=\"https://cdn.plot.ly/plotly-2.8.3.min.js\"></script>                <div id=\"1ba664dd-5baa-4713-ac69-4abbebb14326\" class=\"plotly-graph-div\" style=\"height:500px; width:1200px;\"></div>            <script type=\"text/javascript\">                                    window.PLOTLYENV=window.PLOTLYENV || {};                                    if (document.getElementById(\"1ba664dd-5baa-4713-ac69-4abbebb14326\")) {                    Plotly.newPlot(                        \"1ba664dd-5baa-4713-ac69-4abbebb14326\",                        [{\"labels\":[\"Male\",\"Female\"],\"name\":\"GENDER\",\"values\":[194,105],\"type\":\"pie\",\"domain\":{\"x\":[0.0,0.45],\"y\":[0.0,1.0]},\"hole\":0.4,\"hoverinfo\":\"label+percent\"},{\"labels\":[\"Male - Survived\",\"Male - Died\",\"Female -  Survived\",\"Female - Died\"],\"name\":\"GENDER VS DEATH_EVENT\",\"values\":[132,62,71,34],\"type\":\"pie\",\"domain\":{\"x\":[0.55,1.0],\"y\":[0.0,1.0]},\"hole\":0.4,\"hoverinfo\":\"label+percent\"}],                        {\"template\":{\"data\":{\"bar\":[{\"error_x\":{\"color\":\"#2a3f5f\"},\"error_y\":{\"color\":\"#2a3f5f\"},\"marker\":{\"line\":{\"color\":\"#E5ECF6\",\"width\":0.5},\"pattern\":{\"fillmode\":\"overlay\",\"size\":10,\"solidity\":0.2}},\"type\":\"bar\"}],\"barpolar\":[{\"marker\":{\"line\":{\"color\":\"#E5ECF6\",\"width\":0.5},\"pattern\":{\"fillmode\":\"overlay\",\"size\":10,\"solidity\":0.2}},\"type\":\"barpolar\"}],\"carpet\":[{\"aaxis\":{\"endlinecolor\":\"#2a3f5f\",\"gridcolor\":\"white\",\"linecolor\":\"white\",\"minorgridcolor\":\"white\",\"startlinecolor\":\"#2a3f5f\"},\"baxis\":{\"endlinecolor\":\"#2a3f5f\",\"gridcolor\":\"white\",\"linecolor\":\"white\",\"minorgridcolor\":\"white\",\"startlinecolor\":\"#2a3f5f\"},\"type\":\"carpet\"}],\"choropleth\":[{\"colorbar\":{\"outlinewidth\":0,\"ticks\":\"\"},\"type\":\"choropleth\"}],\"contour\":[{\"colorbar\":{\"outlinewidth\":0,\"ticks\":\"\"},\"colorscale\":[[0.0,\"#0d0887\"],[0.1111111111111111,\"#46039f\"],[0.2222222222222222,\"#7201a8\"],[0.3333333333333333,\"#9c179e\"],[0.4444444444444444,\"#bd3786\"],[0.5555555555555556,\"#d8576b\"],[0.6666666666666666,\"#ed7953\"],[0.7777777777777778,\"#fb9f3a\"],[0.8888888888888888,\"#fdca26\"],[1.0,\"#f0f921\"]],\"type\":\"contour\"}],\"contourcarpet\":[{\"colorbar\":{\"outlinewidth\":0,\"ticks\":\"\"},\"type\":\"contourcarpet\"}],\"heatmap\":[{\"colorbar\":{\"outlinewidth\":0,\"ticks\":\"\"},\"colorscale\":[[0.0,\"#0d0887\"],[0.1111111111111111,\"#46039f\"],[0.2222222222222222,\"#7201a8\"],[0.3333333333333333,\"#9c179e\"],[0.4444444444444444,\"#bd3786\"],[0.5555555555555556,\"#d8576b\"],[0.6666666666666666,\"#ed7953\"],[0.7777777777777778,\"#fb9f3a\"],[0.8888888888888888,\"#fdca26\"],[1.0,\"#f0f921\"]],\"type\":\"heatmap\"}],\"heatmapgl\":[{\"colorbar\":{\"outlinewidth\":0,\"ticks\":\"\"},\"colorscale\":[[0.0,\"#0d0887\"],[0.1111111111111111,\"#46039f\"],[0.2222222222222222,\"#7201a8\"],[0.3333333333333333,\"#9c179e\"],[0.4444444444444444,\"#bd3786\"],[0.5555555555555556,\"#d8576b\"],[0.6666666666666666,\"#ed7953\"],[0.7777777777777778,\"#fb9f3a\"],[0.8888888888888888,\"#fdca26\"],[1.0,\"#f0f921\"]],\"type\":\"heatmapgl\"}],\"histogram\":[{\"marker\":{\"pattern\":{\"fillmode\":\"overlay\",\"size\":10,\"solidity\":0.2}},\"type\":\"histogram\"}],\"histogram2d\":[{\"colorbar\":{\"outlinewidth\":0,\"ticks\":\"\"},\"colorscale\":[[0.0,\"#0d0887\"],[0.1111111111111111,\"#46039f\"],[0.2222222222222222,\"#7201a8\"],[0.3333333333333333,\"#9c179e\"],[0.4444444444444444,\"#bd3786\"],[0.5555555555555556,\"#d8576b\"],[0.6666666666666666,\"#ed7953\"],[0.7777777777777778,\"#fb9f3a\"],[0.8888888888888888,\"#fdca26\"],[1.0,\"#f0f921\"]],\"type\":\"histogram2d\"}],\"histogram2dcontour\":[{\"colorbar\":{\"outlinewidth\":0,\"ticks\":\"\"},\"colorscale\":[[0.0,\"#0d0887\"],[0.1111111111111111,\"#46039f\"],[0.2222222222222222,\"#7201a8\"],[0.3333333333333333,\"#9c179e\"],[0.4444444444444444,\"#bd3786\"],[0.5555555555555556,\"#d8576b\"],[0.6666666666666666,\"#ed7953\"],[0.7777777777777778,\"#fb9f3a\"],[0.8888888888888888,\"#fdca26\"],[1.0,\"#f0f921\"]],\"type\":\"histogram2dcontour\"}],\"mesh3d\":[{\"colorbar\":{\"outlinewidth\":0,\"ticks\":\"\"},\"type\":\"mesh3d\"}],\"parcoords\":[{\"line\":{\"colorbar\":{\"outlinewidth\":0,\"ticks\":\"\"}},\"type\":\"parcoords\"}],\"pie\":[{\"automargin\":true,\"type\":\"pie\"}],\"scatter\":[{\"marker\":{\"colorbar\":{\"outlinewidth\":0,\"ticks\":\"\"}},\"type\":\"scatter\"}],\"scatter3d\":[{\"line\":{\"colorbar\":{\"outlinewidth\":0,\"ticks\":\"\"}},\"marker\":{\"colorbar\":{\"outlinewidth\":0,\"ticks\":\"\"}},\"type\":\"scatter3d\"}],\"scattercarpet\":[{\"marker\":{\"colorbar\":{\"outlinewidth\":0,\"ticks\":\"\"}},\"type\":\"scattercarpet\"}],\"scattergeo\":[{\"marker\":{\"colorbar\":{\"outlinewidth\":0,\"ticks\":\"\"}},\"type\":\"scattergeo\"}],\"scattergl\":[{\"marker\":{\"colorbar\":{\"outlinewidth\":0,\"ticks\":\"\"}},\"type\":\"scattergl\"}],\"scattermapbox\":[{\"marker\":{\"colorbar\":{\"outlinewidth\":0,\"ticks\":\"\"}},\"type\":\"scattermapbox\"}],\"scatterpolar\":[{\"marker\":{\"colorbar\":{\"outlinewidth\":0,\"ticks\":\"\"}},\"type\":\"scatterpolar\"}],\"scatterpolargl\":[{\"marker\":{\"colorbar\":{\"outlinewidth\":0,\"ticks\":\"\"}},\"type\":\"scatterpolargl\"}],\"scatterternary\":[{\"marker\":{\"colorbar\":{\"outlinewidth\":0,\"ticks\":\"\"}},\"type\":\"scatterternary\"}],\"surface\":[{\"colorbar\":{\"outlinewidth\":0,\"ticks\":\"\"},\"colorscale\":[[0.0,\"#0d0887\"],[0.1111111111111111,\"#46039f\"],[0.2222222222222222,\"#7201a8\"],[0.3333333333333333,\"#9c179e\"],[0.4444444444444444,\"#bd3786\"],[0.5555555555555556,\"#d8576b\"],[0.6666666666666666,\"#ed7953\"],[0.7777777777777778,\"#fb9f3a\"],[0.8888888888888888,\"#fdca26\"],[1.0,\"#f0f921\"]],\"type\":\"surface\"}],\"table\":[{\"cells\":{\"fill\":{\"color\":\"#EBF0F8\"},\"line\":{\"color\":\"white\"}},\"header\":{\"fill\":{\"color\":\"#C8D4E3\"},\"line\":{\"color\":\"white\"}},\"type\":\"table\"}]},\"layout\":{\"annotationdefaults\":{\"arrowcolor\":\"#2a3f5f\",\"arrowhead\":0,\"arrowwidth\":1},\"autotypenumbers\":\"strict\",\"coloraxis\":{\"colorbar\":{\"outlinewidth\":0,\"ticks\":\"\"}},\"colorscale\":{\"diverging\":[[0,\"#8e0152\"],[0.1,\"#c51b7d\"],[0.2,\"#de77ae\"],[0.3,\"#f1b6da\"],[0.4,\"#fde0ef\"],[0.5,\"#f7f7f7\"],[0.6,\"#e6f5d0\"],[0.7,\"#b8e186\"],[0.8,\"#7fbc41\"],[0.9,\"#4d9221\"],[1,\"#276419\"]],\"sequential\":[[0.0,\"#0d0887\"],[0.1111111111111111,\"#46039f\"],[0.2222222222222222,\"#7201a8\"],[0.3333333333333333,\"#9c179e\"],[0.4444444444444444,\"#bd3786\"],[0.5555555555555556,\"#d8576b\"],[0.6666666666666666,\"#ed7953\"],[0.7777777777777778,\"#fb9f3a\"],[0.8888888888888888,\"#fdca26\"],[1.0,\"#f0f921\"]],\"sequentialminus\":[[0.0,\"#0d0887\"],[0.1111111111111111,\"#46039f\"],[0.2222222222222222,\"#7201a8\"],[0.3333333333333333,\"#9c179e\"],[0.4444444444444444,\"#bd3786\"],[0.5555555555555556,\"#d8576b\"],[0.6666666666666666,\"#ed7953\"],[0.7777777777777778,\"#fb9f3a\"],[0.8888888888888888,\"#fdca26\"],[1.0,\"#f0f921\"]]},\"colorway\":[\"#636efa\",\"#EF553B\",\"#00cc96\",\"#ab63fa\",\"#FFA15A\",\"#19d3f3\",\"#FF6692\",\"#B6E880\",\"#FF97FF\",\"#FECB52\"],\"font\":{\"color\":\"#2a3f5f\"},\"geo\":{\"bgcolor\":\"white\",\"lakecolor\":\"white\",\"landcolor\":\"#E5ECF6\",\"showlakes\":true,\"showland\":true,\"subunitcolor\":\"white\"},\"hoverlabel\":{\"align\":\"left\"},\"hovermode\":\"closest\",\"mapbox\":{\"style\":\"light\"},\"paper_bgcolor\":\"white\",\"plot_bgcolor\":\"#E5ECF6\",\"polar\":{\"angularaxis\":{\"gridcolor\":\"white\",\"linecolor\":\"white\",\"ticks\":\"\"},\"bgcolor\":\"#E5ECF6\",\"radialaxis\":{\"gridcolor\":\"white\",\"linecolor\":\"white\",\"ticks\":\"\"}},\"scene\":{\"xaxis\":{\"backgroundcolor\":\"#E5ECF6\",\"gridcolor\":\"white\",\"gridwidth\":2,\"linecolor\":\"white\",\"showbackground\":true,\"ticks\":\"\",\"zerolinecolor\":\"white\"},\"yaxis\":{\"backgroundcolor\":\"#E5ECF6\",\"gridcolor\":\"white\",\"gridwidth\":2,\"linecolor\":\"white\",\"showbackground\":true,\"ticks\":\"\",\"zerolinecolor\":\"white\"},\"zaxis\":{\"backgroundcolor\":\"#E5ECF6\",\"gridcolor\":\"white\",\"gridwidth\":2,\"linecolor\":\"white\",\"showbackground\":true,\"ticks\":\"\",\"zerolinecolor\":\"white\"}},\"shapedefaults\":{\"line\":{\"color\":\"#2a3f5f\"}},\"ternary\":{\"aaxis\":{\"gridcolor\":\"white\",\"linecolor\":\"white\",\"ticks\":\"\"},\"baxis\":{\"gridcolor\":\"white\",\"linecolor\":\"white\",\"ticks\":\"\"},\"bgcolor\":\"#E5ECF6\",\"caxis\":{\"gridcolor\":\"white\",\"linecolor\":\"white\",\"ticks\":\"\"}},\"title\":{\"x\":0.05},\"xaxis\":{\"automargin\":true,\"gridcolor\":\"white\",\"linecolor\":\"white\",\"ticks\":\"\",\"title\":{\"standoff\":15},\"zerolinecolor\":\"white\",\"zerolinewidth\":2},\"yaxis\":{\"automargin\":true,\"gridcolor\":\"white\",\"linecolor\":\"white\",\"ticks\":\"\",\"title\":{\"standoff\":15},\"zerolinecolor\":\"white\",\"zerolinewidth\":2}}},\"title\":{\"text\":\"GENDER DISTRIBUTION IN THE DATASET                     GENDER VS DEATH_EVENT\"},\"annotations\":[{\"showarrow\":false,\"text\":\"GENDER\",\"x\":0.19,\"y\":0.5,\"font\":{\"size\":10}},{\"showarrow\":false,\"text\":\"GENDER VS DEATH_EVENT\",\"x\":0.84,\"y\":0.5,\"font\":{\"size\":9}}],\"autosize\":false,\"width\":1200,\"height\":500,\"paper_bgcolor\":\"white\"},                        {\"responsive\": true}                    ).then(function(){\n",
              "                            \n",
              "var gd = document.getElementById('1ba664dd-5baa-4713-ac69-4abbebb14326');\n",
              "var x = new MutationObserver(function (mutations, observer) {{\n",
              "        var display = window.getComputedStyle(gd).display;\n",
              "        if (!display || display === 'none') {{\n",
              "            console.log([gd, 'removed!']);\n",
              "            Plotly.purge(gd);\n",
              "            observer.disconnect();\n",
              "        }}\n",
              "}});\n",
              "\n",
              "// Listen for the removal of the full notebook cells\n",
              "var notebookContainer = gd.closest('#notebook-container');\n",
              "if (notebookContainer) {{\n",
              "    x.observe(notebookContainer, {childList: true});\n",
              "}}\n",
              "\n",
              "// Listen for the clearing of the current output cell\n",
              "var outputEl = gd.closest('.output');\n",
              "if (outputEl) {{\n",
              "    x.observe(outputEl, {childList: true});\n",
              "}}\n",
              "\n",
              "                        })                };                            </script>        </div>\n",
              "</body>\n",
              "</html>"
            ]
          },
          "metadata": {}
        }
      ]
    },
    {
      "cell_type": "code",
      "source": [
        "sns.barplot(x='sex',y='smoking',hue='DEATH_EVENT',data=train);"
      ],
      "metadata": {
        "colab": {
          "base_uri": "https://localhost:8080/",
          "height": 503
        },
        "id": "zwbmPkUOXGam",
        "outputId": "d331f10a-fef1-415e-f825-1260fcbee0c3"
      },
      "execution_count": 98,
      "outputs": [
        {
          "output_type": "display_data",
          "data": {
            "text/plain": [
              "<Figure size 576x576 with 1 Axes>"
            ],
            "image/png": "[encoded data removed]"
          },
          "metadata": {}
        }
      ]
    },
    {
      "cell_type": "code",
      "source": [
        "sns.countplot(x='sex',hue='smoking',data=train)\n",
        "plt.legend(['yes','no']);"
      ],
      "metadata": {
        "colab": {
          "base_uri": "https://localhost:8080/",
          "height": 502
        },
        "id": "pwlnsu2sXI-3",
        "outputId": "3e9484ec-2d30-4c72-c16c-dbacfb1a84c8"
      },
      "execution_count": 99,
      "outputs": [
        {
          "output_type": "display_data",
          "data": {
            "text/plain": [
              "<Figure size 576x576 with 1 Axes>"
            ],
            "image/png": "[encoded data removed]"
          },
          "metadata": {}
        }
      ]
    },
    {
      "cell_type": "code",
      "source": [
        "sns.countplot(x='sex',hue='diabetes',data=train)\n",
        "plt.legend(['yes','no']);"
      ],
      "metadata": {
        "colab": {
          "base_uri": "https://localhost:8080/",
          "height": 502
        },
        "id": "3uEpZEWEXKws",
        "outputId": "9e09c305-72fe-439a-ab69-117aac09d075"
      },
      "execution_count": 100,
      "outputs": [
        {
          "output_type": "display_data",
          "data": {
            "text/plain": [
              "<Figure size 576x576 with 1 Axes>"
            ],
            "image/png": "[encoded data removed]"
          },
          "metadata": {}
        }
      ]
    },
    {
      "cell_type": "code",
      "source": [
        "train.diabetes.value_counts().plot.pie(explode=[0.1,0.1],autopct='%2.2f%%',shadow=True)"
      ],
      "metadata": {
        "colab": {
          "base_uri": "https://localhost:8080/",
          "height": 483
        },
        "id": "_uD6xBeGXMkr",
        "outputId": "2fad7376-0f5f-4b05-b900-2f224cd529ee"
      },
      "execution_count": 101,
      "outputs": [
        {
          "output_type": "execute_result",
          "data": {
            "text/plain": [
              "<matplotlib.axes._subplots.AxesSubplot at 0x7f900f60c280>"
            ]
          },
          "metadata": {},
          "execution_count": 101
        },
        {
          "output_type": "display_data",
          "data": {
            "text/plain": [
              "<Figure size 576x576 with 1 Axes>"
            ],
            "image/png": "[encoded data removed]"
          },
          "metadata": {}
        }
      ]
    },
    {
      "cell_type": "code",
      "source": [
        "sns.countplot(x='diabetes',hue='DEATH_EVENT',data=train)\n",
        "plt.legend(['yes','no']);"
      ],
      "metadata": {
        "colab": {
          "base_uri": "https://localhost:8080/",
          "height": 502
        },
        "id": "fXFlLAKHXPOM",
        "outputId": "6b9f7d40-f9c7-4133-8281-4b30148c2546"
      },
      "execution_count": 102,
      "outputs": [
        {
          "output_type": "display_data",
          "data": {
            "text/plain": [
              "<Figure size 576x576 with 1 Axes>"
            ],
            "image/png": "[encoded data removed]"
          },
          "metadata": {}
        }
      ]
    },
    {
      "cell_type": "code",
      "source": [
        "sns.boxplot(x = train.ejection_fraction, color = 'green')\n",
        "plt.show()"
      ],
      "metadata": {
        "colab": {
          "base_uri": "https://localhost:8080/",
          "height": 502
        },
        "id": "yFtI4iHMXQ9F",
        "outputId": "c1adc42f-d58c-4d26-d886-d1a0f1e8e05c"
      },
      "execution_count": 103,
      "outputs": [
        {
          "output_type": "display_data",
          "data": {
            "text/plain": [
              "<Figure size 576x576 with 1 Axes>"
            ],
            "image/png": "[encoded data removed]"
          },
          "metadata": {}
        }
      ]
    },
    {
      "cell_type": "code",
      "source": [
        "train[train['ejection_fraction']>=70]"
      ],
      "metadata": {
        "colab": {
          "base_uri": "https://localhost:8080/",
          "height": 112
        },
        "id": "Da8l1_U4XSxe",
        "outputId": "9b98f817-e4eb-4a88-e77c-9f134b88144f"
      },
      "execution_count": 104,
      "outputs": [
        {
          "output_type": "execute_result",
          "data": {
            "text/plain": [
              "      age  anaemia  creatinine_phosphokinase  diabetes  ejection_fraction  \\\n",
              "64   45.0        0                       582         0                 80   \n",
              "217  54.0        1                       427         0                 70   \n",
              "\n",
              "     high_blood_pressure  platelets  serum_creatinine  serum_sodium  sex  \\\n",
              "64                     0  263358.03              1.18           137    0   \n",
              "217                    1  151000.00              9.00           137    0   \n",
              "\n",
              "     smoking  time  DEATH_EVENT  \n",
              "64         0    63            0  \n",
              "217        0   196            1  "
            ],
            "text/html": [
              "\n",
              "  <div id=\"df-5e810339-7ae7-4622-9a29-f0e859105ba3\">\n",
              "    <div class=\"colab-df-container\">\n",
              "      <div>\n",
              "<style scoped>\n",
              "    .dataframe tbody tr th:only-of-type {\n",
              "        vertical-align: middle;\n",
              "    }\n",
              "\n",
              "    .dataframe tbody tr th {\n",
              "        vertical-align: top;\n",
              "    }\n",
              "\n",
              "    .dataframe thead th {\n",
              "        text-align: right;\n",
              "    }\n",
              "</style>\n",
              "<table border=\"1\" class=\"dataframe\">\n",
              "  <thead>\n",
              "    <tr style=\"text-align: right;\">\n",
              "      <th></th>\n",
              "      <th>age</th>\n",
              "      <th>anaemia</th>\n",
              "      <th>creatinine_phosphokinase</th>\n",
              "      <th>diabetes</th>\n",
              "      <th>ejection_fraction</th>\n",
              "      <th>high_blood_pressure</th>\n",
              "      <th>platelets</th>\n",
              "      <th>serum_creatinine</th>\n",
              "      <th>serum_sodium</th>\n",
              "      <th>sex</th>\n",
              "      <th>smoking</th>\n",
              "      <th>time</th>\n",
              "      <th>DEATH_EVENT</th>\n",
              "    </tr>\n",
              "  </thead>\n",
              "  <tbody>\n",
              "    <tr>\n",
              "      <th>64</th>\n",
              "      <td>45.0</td>\n",
              "      <td>0</td>\n",
              "      <td>582</td>\n",
              "      <td>0</td>\n",
              "      <td>80</td>\n",
              "      <td>0</td>\n",
              "      <td>263358.03</td>\n",
              "      <td>1.18</td>\n",
              "      <td>137</td>\n",
              "      <td>0</td>\n",
              "      <td>0</td>\n",
              "      <td>63</td>\n",
              "      <td>0</td>\n",
              "    </tr>\n",
              "    <tr>\n",
              "      <th>217</th>\n",
              "      <td>54.0</td>\n",
              "      <td>1</td>\n",
              "      <td>427</td>\n",
              "      <td>0</td>\n",
              "      <td>70</td>\n",
              "      <td>1</td>\n",
              "      <td>151000.00</td>\n",
              "      <td>9.00</td>\n",
              "      <td>137</td>\n",
              "      <td>0</td>\n",
              "      <td>0</td>\n",
              "      <td>196</td>\n",
              "      <td>1</td>\n",
              "    </tr>\n",
              "  </tbody>\n",
              "</table>\n",
              "</div>\n",
              "      <button class=\"colab-df-convert\" onclick=\"convertToInteractive('df-5e810339-7ae7-4622-9a29-f0e859105ba3')\"\n",
              "              title=\"Convert this dataframe to an interactive table.\"\n",
              "              style=\"display:none;\">\n",
              "        \n",
              "  <svg xmlns=\"http://www.w3.org/2000/svg\" height=\"24px\"viewBox=\"0 0 24 24\"\n",
              "       width=\"24px\">\n",
              "    <path d=\"M0 0h24v24H0V0z\" fill=\"none\"/>\n",
              "    <path d=\"M18.56 5.44l.94 2.06.94-2.06 2.06-.94-2.06-.94-.94-2.06-.94 2.06-2.06.94zm-11 1L8.5 8.5l.94-2.06 2.06-.94-2.06-.94L8.5 2.5l-.94 2.06-2.06.94zm10 10l.94 2.06.94-2.06 2.06-.94-2.06-.94-.94-2.06-.94 2.06-2.06.94z\"/><path d=\"M17.41 7.96l-1.37-1.37c-.4-.4-.92-.59-1.43-.59-.52 0-1.04.2-1.43.59L10.3 9.45l-7.72 7.72c-.78.78-.78 2.05 0 2.83L4 21.41c.39.39.9.59 1.41.59.51 0 1.02-.2 1.41-.59l7.78-7.78 2.81-2.81c.8-.78.8-2.07 0-2.86zM5.41 20L4 18.59l7.72-7.72 1.47 1.35L5.41 20z\"/>\n",
              "  </svg>\n",
              "      </button>\n",
              "      \n",
              "  <style>\n",
              "    .colab-df-container {\n",
              "      display:flex;\n",
              "      flex-wrap:wrap;\n",
              "      gap: 12px;\n",
              "    }\n",
              "\n",
              "    .colab-df-convert {\n",
              "      background-color: #E8F0FE;\n",
              "      border: none;\n",
              "      border-radius: 50%;\n",
              "      cursor: pointer;\n",
              "      display: none;\n",
              "      fill: #1967D2;\n",
              "      height: 32px;\n",
              "      padding: 0 0 0 0;\n",
              "      width: 32px;\n",
              "    }\n",
              "\n",
              "    .colab-df-convert:hover {\n",
              "      background-color: #E2EBFA;\n",
              "      box-shadow: 0px 1px 2px rgba(60, 64, 67, 0.3), 0px 1px 3px 1px rgba(60, 64, 67, 0.15);\n",
              "      fill: #174EA6;\n",
              "    }\n",
              "\n",
              "    [theme=dark] .colab-df-convert {\n",
              "      background-color: #3B4455;\n",
              "      fill: #D2E3FC;\n",
              "    }\n",
              "\n",
              "    [theme=dark] .colab-df-convert:hover {\n",
              "      background-color: #434B5C;\n",
              "      box-shadow: 0px 1px 3px 1px rgba(0, 0, 0, 0.15);\n",
              "      filter: drop-shadow(0px 1px 2px rgba(0, 0, 0, 0.3));\n",
              "      fill: #FFFFFF;\n",
              "    }\n",
              "  </style>\n",
              "\n",
              "      <script>\n",
              "        const buttonEl =\n",
              "          document.querySelector('#df-5e810339-7ae7-4622-9a29-f0e859105ba3 button.colab-df-convert');\n",
              "        buttonEl.style.display =\n",
              "          google.colab.kernel.accessAllowed ? 'block' : 'none';\n",
              "\n",
              "        async function convertToInteractive(key) {\n",
              "          const element = document.querySelector('#df-5e810339-7ae7-4622-9a29-f0e859105ba3');\n",
              "          const dataTable =\n",
              "            await google.colab.kernel.invokeFunction('convertToInteractive',\n",
              "                                                     [key], {});\n",
              "          if (!dataTable) return;\n",
              "\n",
              "          const docLinkHtml = 'Like what you see? Visit the ' +\n",
              "            '<a target=\"_blank\" href=https://colab.research.google.com/notebooks/data_table.ipynb>data table notebook</a>'\n",
              "            + ' to learn more about interactive tables.';\n",
              "          element.innerHTML = '';\n",
              "          dataTable['output_type'] = 'display_data';\n",
              "          await google.colab.output.renderOutput(dataTable, element);\n",
              "          const docLink = document.createElement('div');\n",
              "          docLink.innerHTML = docLinkHtml;\n",
              "          element.appendChild(docLink);\n",
              "        }\n",
              "      </script>\n",
              "    </div>\n",
              "  </div>\n",
              "  "
            ]
          },
          "metadata": {},
          "execution_count": 104
        }
      ]
    },
    {
      "cell_type": "code",
      "source": [
        "train = train[train['ejection_fraction']<70]"
      ],
      "metadata": {
        "id": "srwkkbhkXU7B"
      },
      "execution_count": 105,
      "outputs": []
    },
    {
      "cell_type": "code",
      "source": [
        "import plotly.graph_objects as go\n",
        "\n",
        "fig = go.Figure()\n",
        "fig.add_trace(go.Histogram(\n",
        "    x = train['ejection_fraction'],\n",
        "    xbins=dict( # bins used for histogram\n",
        "        start=14,\n",
        "        end=80,\n",
        "        size=2\n",
        "    ),\n",
        "    marker_color='#A7F432',\n",
        "    opacity=1\n",
        "))\n",
        "\n",
        "fig.update_layout(\n",
        "    title_text='EJECTION FRACTION DISTRIBUTION',\n",
        "    xaxis_title_text='EJECTION FRACTION',\n",
        "    yaxis_title_text='COUNT', \n",
        "    bargap=0.05, # gap between bars of adjacent location coordinates\n",
        "\n",
        "    template = 'plotly_dark'\n",
        ")\n",
        "\n",
        "fig.show()"
      ],
      "metadata": {
        "colab": {
          "base_uri": "https://localhost:8080/",
          "height": 542
        },
        "id": "i6fIVqiHXWzF",
        "outputId": "e69e2e07-15c3-4eb8-97fc-08e52369a48b"
      },
      "execution_count": 106,
      "outputs": [
        {
          "output_type": "display_data",
          "data": {
            "text/html": [
              "<html>\n",
              "<head><meta charset=\"utf-8\" /></head>\n",
              "<body>\n",
              "    <div>            <script src=\"https://cdnjs.cloudflare.com/ajax/libs/mathjax/2.7.5/MathJax.js?config=TeX-AMS-MML_SVG\"></script><script type=\"text/javascript\">if (window.MathJax) {MathJax.Hub.Config({SVG: {font: \"STIX-Web\"}});}</script>                <script type=\"text/javascript\">window.PlotlyConfig = {MathJaxConfig: 'local'};</script>\n",
              "        <script src=\"https://cdn.plot.ly/plotly-2.8.3.min.js\"></script>                <div id=\"ab143fe0-c99a-4f4f-a4ac-d6b4dabb5784\" class=\"plotly-graph-div\" style=\"height:525px; width:100%;\"></div>            <script type=\"text/javascript\">                                    window.PLOTLYENV=window.PLOTLYENV || {};                                    if (document.getElementById(\"ab143fe0-c99a-4f4f-a4ac-d6b4dabb5784\")) {                    Plotly.newPlot(                        \"ab143fe0-c99a-4f4f-a4ac-d6b4dabb5784\",                        [{\"marker\":{\"color\":\"#A7F432\"},\"opacity\":1,\"x\":[20,38,20,20,20,40,15,60,65,35,38,25,30,38,30,50,38,14,25,55,25,30,35,60,30,38,40,45,38,30,38,45,35,30,50,35,50,50,30,38,20,30,45,50,60,38,25,38,20,30,25,20,62,50,38,30,35,40,20,20,25,40,35,35,20,15,25,25,25,40,35,35,50,20,20,60,40,38,45,40,50,25,50,25,50,35,60,40,25,45,45,60,25,38,60,25,60,25,40,25,45,25,30,50,30,45,35,38,35,60,35,25,60,40,40,60,60,60,38,60,38,38,30,40,50,17,60,30,35,60,45,40,60,35,40,60,25,35,30,38,35,30,40,25,30,30,60,30,35,45,60,45,35,35,25,35,25,50,45,40,35,40,35,30,38,60,20,40,35,35,40,60,20,35,60,40,50,60,40,30,25,25,38,25,30,50,25,40,45,35,60,40,30,20,45,38,30,20,35,45,60,60,25,40,45,40,38,40,35,17,62,50,30,35,35,50,35,35,20,50,35,25,25,60,25,35,25,25,30,35,35,38,45,50,50,30,40,45,35,30,35,40,38,38,25,25,35,40,30,35,45,35,60,30,38,38,25,50,40,40,25,60,38,35,20,38,38,35,30,40,38,40,30,38,35,38,30,38,40,40,30,38,40,40,35,55,35,38,55,35,38,35,38,38,60,38,45],\"xbins\":{\"end\":80,\"size\":2,\"start\":14},\"type\":\"histogram\"}],                        {\"template\":{\"data\":{\"barpolar\":[{\"marker\":{\"line\":{\"color\":\"rgb(17,17,17)\",\"width\":0.5},\"pattern\":{\"fillmode\":\"overlay\",\"size\":10,\"solidity\":0.2}},\"type\":\"barpolar\"}],\"bar\":[{\"error_x\":{\"color\":\"#f2f5fa\"},\"error_y\":{\"color\":\"#f2f5fa\"},\"marker\":{\"line\":{\"color\":\"rgb(17,17,17)\",\"width\":0.5},\"pattern\":{\"fillmode\":\"overlay\",\"size\":10,\"solidity\":0.2}},\"type\":\"bar\"}],\"carpet\":[{\"aaxis\":{\"endlinecolor\":\"#A2B1C6\",\"gridcolor\":\"#506784\",\"linecolor\":\"#506784\",\"minorgridcolor\":\"#506784\",\"startlinecolor\":\"#A2B1C6\"},\"baxis\":{\"endlinecolor\":\"#A2B1C6\",\"gridcolor\":\"#506784\",\"linecolor\":\"#506784\",\"minorgridcolor\":\"#506784\",\"startlinecolor\":\"#A2B1C6\"},\"type\":\"carpet\"}],\"choropleth\":[{\"colorbar\":{\"outlinewidth\":0,\"ticks\":\"\"},\"type\":\"choropleth\"}],\"contourcarpet\":[{\"colorbar\":{\"outlinewidth\":0,\"ticks\":\"\"},\"type\":\"contourcarpet\"}],\"contour\":[{\"colorbar\":{\"outlinewidth\":0,\"ticks\":\"\"},\"colorscale\":[[0.0,\"#0d0887\"],[0.1111111111111111,\"#46039f\"],[0.2222222222222222,\"#7201a8\"],[0.3333333333333333,\"#9c179e\"],[0.4444444444444444,\"#bd3786\"],[0.5555555555555556,\"#d8576b\"],[0.6666666666666666,\"#ed7953\"],[0.7777777777777778,\"#fb9f3a\"],[0.8888888888888888,\"#fdca26\"],[1.0,\"#f0f921\"]],\"type\":\"contour\"}],\"heatmapgl\":[{\"colorbar\":{\"outlinewidth\":0,\"ticks\":\"\"},\"colorscale\":[[0.0,\"#0d0887\"],[0.1111111111111111,\"#46039f\"],[0.2222222222222222,\"#7201a8\"],[0.3333333333333333,\"#9c179e\"],[0.4444444444444444,\"#bd3786\"],[0.5555555555555556,\"#d8576b\"],[0.6666666666666666,\"#ed7953\"],[0.7777777777777778,\"#fb9f3a\"],[0.8888888888888888,\"#fdca26\"],[1.0,\"#f0f921\"]],\"type\":\"heatmapgl\"}],\"heatmap\":[{\"colorbar\":{\"outlinewidth\":0,\"ticks\":\"\"},\"colorscale\":[[0.0,\"#0d0887\"],[0.1111111111111111,\"#46039f\"],[0.2222222222222222,\"#7201a8\"],[0.3333333333333333,\"#9c179e\"],[0.4444444444444444,\"#bd3786\"],[0.5555555555555556,\"#d8576b\"],[0.6666666666666666,\"#ed7953\"],[0.7777777777777778,\"#fb9f3a\"],[0.8888888888888888,\"#fdca26\"],[1.0,\"#f0f921\"]],\"type\":\"heatmap\"}],\"histogram2dcontour\":[{\"colorbar\":{\"outlinewidth\":0,\"ticks\":\"\"},\"colorscale\":[[0.0,\"#0d0887\"],[0.1111111111111111,\"#46039f\"],[0.2222222222222222,\"#7201a8\"],[0.3333333333333333,\"#9c179e\"],[0.4444444444444444,\"#bd3786\"],[0.5555555555555556,\"#d8576b\"],[0.6666666666666666,\"#ed7953\"],[0.7777777777777778,\"#fb9f3a\"],[0.8888888888888888,\"#fdca26\"],[1.0,\"#f0f921\"]],\"type\":\"histogram2dcontour\"}],\"histogram2d\":[{\"colorbar\":{\"outlinewidth\":0,\"ticks\":\"\"},\"colorscale\":[[0.0,\"#0d0887\"],[0.1111111111111111,\"#46039f\"],[0.2222222222222222,\"#7201a8\"],[0.3333333333333333,\"#9c179e\"],[0.4444444444444444,\"#bd3786\"],[0.5555555555555556,\"#d8576b\"],[0.6666666666666666,\"#ed7953\"],[0.7777777777777778,\"#fb9f3a\"],[0.8888888888888888,\"#fdca26\"],[1.0,\"#f0f921\"]],\"type\":\"histogram2d\"}],\"histogram\":[{\"marker\":{\"pattern\":{\"fillmode\":\"overlay\",\"size\":10,\"solidity\":0.2}},\"type\":\"histogram\"}],\"mesh3d\":[{\"colorbar\":{\"outlinewidth\":0,\"ticks\":\"\"},\"type\":\"mesh3d\"}],\"parcoords\":[{\"line\":{\"colorbar\":{\"outlinewidth\":0,\"ticks\":\"\"}},\"type\":\"parcoords\"}],\"pie\":[{\"automargin\":true,\"type\":\"pie\"}],\"scatter3d\":[{\"line\":{\"colorbar\":{\"outlinewidth\":0,\"ticks\":\"\"}},\"marker\":{\"colorbar\":{\"outlinewidth\":0,\"ticks\":\"\"}},\"type\":\"scatter3d\"}],\"scattercarpet\":[{\"marker\":{\"colorbar\":{\"outlinewidth\":0,\"ticks\":\"\"}},\"type\":\"scattercarpet\"}],\"scattergeo\":[{\"marker\":{\"colorbar\":{\"outlinewidth\":0,\"ticks\":\"\"}},\"type\":\"scattergeo\"}],\"scattergl\":[{\"marker\":{\"line\":{\"color\":\"#283442\"}},\"type\":\"scattergl\"}],\"scattermapbox\":[{\"marker\":{\"colorbar\":{\"outlinewidth\":0,\"ticks\":\"\"}},\"type\":\"scattermapbox\"}],\"scatterpolargl\":[{\"marker\":{\"colorbar\":{\"outlinewidth\":0,\"ticks\":\"\"}},\"type\":\"scatterpolargl\"}],\"scatterpolar\":[{\"marker\":{\"colorbar\":{\"outlinewidth\":0,\"ticks\":\"\"}},\"type\":\"scatterpolar\"}],\"scatter\":[{\"marker\":{\"line\":{\"color\":\"#283442\"}},\"type\":\"scatter\"}],\"scatterternary\":[{\"marker\":{\"colorbar\":{\"outlinewidth\":0,\"ticks\":\"\"}},\"type\":\"scatterternary\"}],\"surface\":[{\"colorbar\":{\"outlinewidth\":0,\"ticks\":\"\"},\"colorscale\":[[0.0,\"#0d0887\"],[0.1111111111111111,\"#46039f\"],[0.2222222222222222,\"#7201a8\"],[0.3333333333333333,\"#9c179e\"],[0.4444444444444444,\"#bd3786\"],[0.5555555555555556,\"#d8576b\"],[0.6666666666666666,\"#ed7953\"],[0.7777777777777778,\"#fb9f3a\"],[0.8888888888888888,\"#fdca26\"],[1.0,\"#f0f921\"]],\"type\":\"surface\"}],\"table\":[{\"cells\":{\"fill\":{\"color\":\"#506784\"},\"line\":{\"color\":\"rgb(17,17,17)\"}},\"header\":{\"fill\":{\"color\":\"#2a3f5f\"},\"line\":{\"color\":\"rgb(17,17,17)\"}},\"type\":\"table\"}]},\"layout\":{\"annotationdefaults\":{\"arrowcolor\":\"#f2f5fa\",\"arrowhead\":0,\"arrowwidth\":1},\"autotypenumbers\":\"strict\",\"coloraxis\":{\"colorbar\":{\"outlinewidth\":0,\"ticks\":\"\"}},\"colorscale\":{\"diverging\":[[0,\"#8e0152\"],[0.1,\"#c51b7d\"],[0.2,\"#de77ae\"],[0.3,\"#f1b6da\"],[0.4,\"#fde0ef\"],[0.5,\"#f7f7f7\"],[0.6,\"#e6f5d0\"],[0.7,\"#b8e186\"],[0.8,\"#7fbc41\"],[0.9,\"#4d9221\"],[1,\"#276419\"]],\"sequential\":[[0.0,\"#0d0887\"],[0.1111111111111111,\"#46039f\"],[0.2222222222222222,\"#7201a8\"],[0.3333333333333333,\"#9c179e\"],[0.4444444444444444,\"#bd3786\"],[0.5555555555555556,\"#d8576b\"],[0.6666666666666666,\"#ed7953\"],[0.7777777777777778,\"#fb9f3a\"],[0.8888888888888888,\"#fdca26\"],[1.0,\"#f0f921\"]],\"sequentialminus\":[[0.0,\"#0d0887\"],[0.1111111111111111,\"#46039f\"],[0.2222222222222222,\"#7201a8\"],[0.3333333333333333,\"#9c179e\"],[0.4444444444444444,\"#bd3786\"],[0.5555555555555556,\"#d8576b\"],[0.6666666666666666,\"#ed7953\"],[0.7777777777777778,\"#fb9f3a\"],[0.8888888888888888,\"#fdca26\"],[1.0,\"#f0f921\"]]},\"colorway\":[\"#636efa\",\"#EF553B\",\"#00cc96\",\"#ab63fa\",\"#FFA15A\",\"#19d3f3\",\"#FF6692\",\"#B6E880\",\"#FF97FF\",\"#FECB52\"],\"font\":{\"color\":\"#f2f5fa\"},\"geo\":{\"bgcolor\":\"rgb(17,17,17)\",\"lakecolor\":\"rgb(17,17,17)\",\"landcolor\":\"rgb(17,17,17)\",\"showlakes\":true,\"showland\":true,\"subunitcolor\":\"#506784\"},\"hoverlabel\":{\"align\":\"left\"},\"hovermode\":\"closest\",\"mapbox\":{\"style\":\"dark\"},\"paper_bgcolor\":\"rgb(17,17,17)\",\"plot_bgcolor\":\"rgb(17,17,17)\",\"polar\":{\"angularaxis\":{\"gridcolor\":\"#506784\",\"linecolor\":\"#506784\",\"ticks\":\"\"},\"bgcolor\":\"rgb(17,17,17)\",\"radialaxis\":{\"gridcolor\":\"#506784\",\"linecolor\":\"#506784\",\"ticks\":\"\"}},\"scene\":{\"xaxis\":{\"backgroundcolor\":\"rgb(17,17,17)\",\"gridcolor\":\"#506784\",\"gridwidth\":2,\"linecolor\":\"#506784\",\"showbackground\":true,\"ticks\":\"\",\"zerolinecolor\":\"#C8D4E3\"},\"yaxis\":{\"backgroundcolor\":\"rgb(17,17,17)\",\"gridcolor\":\"#506784\",\"gridwidth\":2,\"linecolor\":\"#506784\",\"showbackground\":true,\"ticks\":\"\",\"zerolinecolor\":\"#C8D4E3\"},\"zaxis\":{\"backgroundcolor\":\"rgb(17,17,17)\",\"gridcolor\":\"#506784\",\"gridwidth\":2,\"linecolor\":\"#506784\",\"showbackground\":true,\"ticks\":\"\",\"zerolinecolor\":\"#C8D4E3\"}},\"shapedefaults\":{\"line\":{\"color\":\"#f2f5fa\"}},\"sliderdefaults\":{\"bgcolor\":\"#C8D4E3\",\"bordercolor\":\"rgb(17,17,17)\",\"borderwidth\":1,\"tickwidth\":0},\"ternary\":{\"aaxis\":{\"gridcolor\":\"#506784\",\"linecolor\":\"#506784\",\"ticks\":\"\"},\"baxis\":{\"gridcolor\":\"#506784\",\"linecolor\":\"#506784\",\"ticks\":\"\"},\"bgcolor\":\"rgb(17,17,17)\",\"caxis\":{\"gridcolor\":\"#506784\",\"linecolor\":\"#506784\",\"ticks\":\"\"}},\"title\":{\"x\":0.05},\"updatemenudefaults\":{\"bgcolor\":\"#506784\",\"borderwidth\":0},\"xaxis\":{\"automargin\":true,\"gridcolor\":\"#283442\",\"linecolor\":\"#506784\",\"ticks\":\"\",\"title\":{\"standoff\":15},\"zerolinecolor\":\"#283442\",\"zerolinewidth\":2},\"yaxis\":{\"automargin\":true,\"gridcolor\":\"#283442\",\"linecolor\":\"#506784\",\"ticks\":\"\",\"title\":{\"standoff\":15},\"zerolinecolor\":\"#283442\",\"zerolinewidth\":2}}},\"title\":{\"text\":\"EJECTION FRACTION DISTRIBUTION\"},\"xaxis\":{\"title\":{\"text\":\"EJECTION FRACTION\"}},\"yaxis\":{\"title\":{\"text\":\"COUNT\"}},\"bargap\":0.05},                        {\"responsive\": true}                    ).then(function(){\n",
              "                            \n",
              "var gd = document.getElementById('ab143fe0-c99a-4f4f-a4ac-d6b4dabb5784');\n",
              "var x = new MutationObserver(function (mutations, observer) {{\n",
              "        var display = window.getComputedStyle(gd).display;\n",
              "        if (!display || display === 'none') {{\n",
              "            console.log([gd, 'removed!']);\n",
              "            Plotly.purge(gd);\n",
              "            observer.disconnect();\n",
              "        }}\n",
              "}});\n",
              "\n",
              "// Listen for the removal of the full notebook cells\n",
              "var notebookContainer = gd.closest('#notebook-container');\n",
              "if (notebookContainer) {{\n",
              "    x.observe(notebookContainer, {childList: true});\n",
              "}}\n",
              "\n",
              "// Listen for the clearing of the current output cell\n",
              "var outputEl = gd.closest('.output');\n",
              "if (outputEl) {{\n",
              "    x.observe(outputEl, {childList: true});\n",
              "}}\n",
              "\n",
              "                        })                };                            </script>        </div>\n",
              "</body>\n",
              "</html>"
            ]
          },
          "metadata": {}
        }
      ]
    },
    {
      "cell_type": "code",
      "source": [
        "sns.boxplot(x=train.time, color = 'yellow')\n",
        "plt.show()"
      ],
      "metadata": {
        "colab": {
          "base_uri": "https://localhost:8080/",
          "height": 502
        },
        "id": "Iiyccv71XZcL",
        "outputId": "7cac5d6d-60f4-45b4-eb18-930529f84d8c"
      },
      "execution_count": 107,
      "outputs": [
        {
          "output_type": "display_data",
          "data": {
            "text/plain": [
              "<Figure size 576x576 with 1 Axes>"
            ],
            "image/png": "[encoded data removed]"
          },
          "metadata": {}
        }
      ]
    },
    {
      "cell_type": "code",
      "source": [
        "sns.boxplot(x=train.serum_creatinine, color = 'red')\n",
        "plt.show()"
      ],
      "metadata": {
        "colab": {
          "base_uri": "https://localhost:8080/",
          "height": 502
        },
        "id": "Pdgy2GBHXb91",
        "outputId": "7d1990c3-0d17-4aef-ea10-0d3109b506ec"
      },
      "execution_count": 108,
      "outputs": [
        {
          "output_type": "display_data",
          "data": {
            "text/plain": [
              "<Figure size 576x576 with 1 Axes>"
            ],
            "image/png": "[encoded data removed]"
          },
          "metadata": {}
        }
      ]
    },
    {
      "cell_type": "code",
      "source": [
        "train.corr().style.background_gradient(cmap='coolwarm').set_precision(2)"
      ],
      "metadata": {
        "colab": {
          "base_uri": "https://localhost:8080/",
          "height": 526
        },
        "id": "mnvODuDtXd6j",
        "outputId": "dc7e02c8-015e-49f9-89f3-8e137c01e46a"
      },
      "execution_count": 109,
      "outputs": [
        {
          "output_type": "stream",
          "name": "stderr",
          "text": [
            "<ipython-input-109-666c4ce31351>:1: FutureWarning:\n",
            "\n",
            "this method is deprecated in favour of `Styler.format(precision=..)`\n",
            "\n"
          ]
        },
        {
          "output_type": "execute_result",
          "data": {
            "text/plain": [
              "<pandas.io.formats.style.Styler at 0x7f900f49e910>"
            ],
            "text/html": [
              "<style type=\"text/css\">\n",
              "#T_fd346_row0_col0, #T_fd346_row1_col1, #T_fd346_row2_col2, #T_fd346_row3_col3, #T_fd346_row4_col4, #T_fd346_row5_col5, #T_fd346_row6_col6, #T_fd346_row7_col7, #T_fd346_row8_col8, #T_fd346_row9_col9, #T_fd346_row10_col10, #T_fd346_row11_col11, #T_fd346_row12_col12 {\n",
              "  background-color: #b40426;\n",
              "  color: #f1f1f1;\n",
              "}\n",
              "#T_fd346_row0_col1, #T_fd346_row3_col4, #T_fd346_row9_col0 {\n",
              "  background-color: #86a9fc;\n",
              "  color: #f1f1f1;\n",
              "}\n",
              "#T_fd346_row0_col2 {\n",
              "  background-color: #5673e0;\n",
              "  color: #f1f1f1;\n",
              "}\n",
              "#T_fd346_row0_col3 {\n",
              "  background-color: #4a63d3;\n",
              "  color: #f1f1f1;\n",
              "}\n",
              "#T_fd346_row0_col4, #T_fd346_row6_col4 {\n",
              "  background-color: #9abbff;\n",
              "  color: #000000;\n",
              "}\n",
              "#T_fd346_row0_col5, #T_fd346_row1_col4, #T_fd346_row11_col8 {\n",
              "  background-color: #8caffe;\n",
              "  color: #000000;\n",
              "}\n",
              "#T_fd346_row0_col6, #T_fd346_row8_col3, #T_fd346_row10_col1 {\n",
              "  background-color: #4f69d9;\n",
              "  color: #f1f1f1;\n",
              "}\n",
              "#T_fd346_row0_col7, #T_fd346_row10_col11 {\n",
              "  background-color: #aac7fd;\n",
              "  color: #000000;\n",
              "}\n",
              "#T_fd346_row0_col8, #T_fd346_row2_col6, #T_fd346_row5_col7, #T_fd346_row10_col6 {\n",
              "  background-color: #6687ed;\n",
              "  color: #f1f1f1;\n",
              "}\n",
              "#T_fd346_row0_col9, #T_fd346_row1_col5, #T_fd346_row3_col6, #T_fd346_row4_col6 {\n",
              "  background-color: #799cf8;\n",
              "  color: #f1f1f1;\n",
              "}\n",
              "#T_fd346_row0_col10, #T_fd346_row6_col0, #T_fd346_row12_col3, #T_fd346_row12_col9 {\n",
              "  background-color: #6788ee;\n",
              "  color: #f1f1f1;\n",
              "}\n",
              "#T_fd346_row0_col11, #T_fd346_row8_col5 {\n",
              "  background-color: #7b9ff9;\n",
              "  color: #f1f1f1;\n",
              "}\n",
              "#T_fd346_row0_col12 {\n",
              "  background-color: #e0dbd8;\n",
              "  color: #000000;\n",
              "}\n",
              "#T_fd346_row1_col0, #T_fd346_row4_col0, #T_fd346_row11_col4 {\n",
              "  background-color: #8fb1fe;\n",
              "  color: #000000;\n",
              "}\n",
              "#T_fd346_row1_col2, #T_fd346_row2_col1, #T_fd346_row3_col9, #T_fd346_row3_col10, #T_fd346_row7_col8, #T_fd346_row8_col7, #T_fd346_row9_col3, #T_fd346_row9_col6, #T_fd346_row11_col0, #T_fd346_row11_col5, #T_fd346_row11_col12, #T_fd346_row12_col4, #T_fd346_row12_col11 {\n",
              "  background-color: #3b4cc0;\n",
              "  color: #f1f1f1;\n",
              "}\n",
              "#T_fd346_row1_col3, #T_fd346_row11_col9 {\n",
              "  background-color: #6384eb;\n",
              "  color: #f1f1f1;\n",
              "}\n",
              "#T_fd346_row1_col6, #T_fd346_row9_col1 {\n",
              "  background-color: #536edd;\n",
              "  color: #f1f1f1;\n",
              "}\n",
              "#T_fd346_row1_col7, #T_fd346_row8_col1, #T_fd346_row10_col0 {\n",
              "  background-color: #7a9df8;\n",
              "  color: #f1f1f1;\n",
              "}\n",
              "#T_fd346_row1_col8, #T_fd346_row8_col2, #T_fd346_row12_col1 {\n",
              "  background-color: #7ea1fa;\n",
              "  color: #f1f1f1;\n",
              "}\n",
              "#T_fd346_row1_col9 {\n",
              "  background-color: #4c66d6;\n",
              "  color: #f1f1f1;\n",
              "}\n",
              "#T_fd346_row1_col10, #T_fd346_row4_col9, #T_fd346_row11_col1 {\n",
              "  background-color: #455cce;\n",
              "  color: #f1f1f1;\n",
              "}\n",
              "#T_fd346_row1_col11 {\n",
              "  background-color: #8db0fe;\n",
              "  color: #000000;\n",
              "}\n",
              "#T_fd346_row1_col12 {\n",
              "  background-color: #bcd2f7;\n",
              "  color: #000000;\n",
              "}\n",
              "#T_fd346_row2_col0, #T_fd346_row7_col3, #T_fd346_row8_col9 {\n",
              "  background-color: #5f7fe8;\n",
              "  color: #f1f1f1;\n",
              "}\n",
              "#T_fd346_row2_col3, #T_fd346_row2_col10, #T_fd346_row5_col3, #T_fd346_row7_col5, #T_fd346_row8_col10 {\n",
              "  background-color: #6485ec;\n",
              "  color: #f1f1f1;\n",
              "}\n",
              "#T_fd346_row2_col4, #T_fd346_row4_col5, #T_fd346_row5_col1 {\n",
              "  background-color: #7699f6;\n",
              "  color: #f1f1f1;\n",
              "}\n",
              "#T_fd346_row2_col5, #T_fd346_row11_col10 {\n",
              "  background-color: #5d7ce6;\n",
              "  color: #f1f1f1;\n",
              "}\n",
              "#T_fd346_row2_col7, #T_fd346_row6_col7, #T_fd346_row10_col2 {\n",
              "  background-color: #6e90f2;\n",
              "  color: #f1f1f1;\n",
              "}\n",
              "#T_fd346_row2_col8, #T_fd346_row6_col8, #T_fd346_row7_col11 {\n",
              "  background-color: #84a7fc;\n",
              "  color: #f1f1f1;\n",
              "}\n",
              "#T_fd346_row2_col9, #T_fd346_row9_col7, #T_fd346_row12_col2 {\n",
              "  background-color: #80a3fa;\n",
              "  color: #f1f1f1;\n",
              "}\n",
              "#T_fd346_row2_col11, #T_fd346_row7_col0, #T_fd346_row10_col12 {\n",
              "  background-color: #adc9fd;\n",
              "  color: #000000;\n",
              "}\n",
              "#T_fd346_row2_col12, #T_fd346_row12_col0 {\n",
              "  background-color: #bed2f6;\n",
              "  color: #000000;\n",
              "}\n",
              "#T_fd346_row3_col0, #T_fd346_row3_col8, #T_fd346_row5_col2 {\n",
              "  background-color: #5977e3;\n",
              "  color: #f1f1f1;\n",
              "}\n",
              "#T_fd346_row3_col1, #T_fd346_row3_col2, #T_fd346_row3_col7, #T_fd346_row7_col2, #T_fd346_row9_col8 {\n",
              "  background-color: #6a8bef;\n",
              "  color: #f1f1f1;\n",
              "}\n",
              "#T_fd346_row3_col5 {\n",
              "  background-color: #6c8ff1;\n",
              "  color: #f1f1f1;\n",
              "}\n",
              "#T_fd346_row3_col11 {\n",
              "  background-color: #b7cff9;\n",
              "  color: #000000;\n",
              "}\n",
              "#T_fd346_row3_col12, #T_fd346_row9_col12 {\n",
              "  background-color: #afcafc;\n",
              "  color: #000000;\n",
              "}\n",
              "#T_fd346_row4_col1 {\n",
              "  background-color: #779af7;\n",
              "  color: #f1f1f1;\n",
              "}\n",
              "#T_fd346_row4_col2, #T_fd346_row7_col10, #T_fd346_row9_col4, #T_fd346_row10_col5, #T_fd346_row12_col10 {\n",
              "  background-color: #6180e9;\n",
              "  color: #f1f1f1;\n",
              "}\n",
              "#T_fd346_row4_col3, #T_fd346_row6_col10, #T_fd346_row7_col4, #T_fd346_row11_col2 {\n",
              "  background-color: #6b8df0;\n",
              "  color: #f1f1f1;\n",
              "}\n",
              "#T_fd346_row4_col7, #T_fd346_row7_col6 {\n",
              "  background-color: #5a78e4;\n",
              "  color: #f1f1f1;\n",
              "}\n",
              "#T_fd346_row4_col8, #T_fd346_row6_col12 {\n",
              "  background-color: #a6c4fe;\n",
              "  color: #000000;\n",
              "}\n",
              "#T_fd346_row4_col10, #T_fd346_row5_col10, #T_fd346_row9_col5 {\n",
              "  background-color: #5470de;\n",
              "  color: #f1f1f1;\n",
              "}\n",
              "#T_fd346_row4_col11 {\n",
              "  background-color: #bad0f8;\n",
              "  color: #000000;\n",
              "}\n",
              "#T_fd346_row4_col12, #T_fd346_row5_col6, #T_fd346_row10_col7 {\n",
              "  background-color: #6f92f3;\n",
              "  color: #f1f1f1;\n",
              "}\n",
              "#T_fd346_row5_col0 {\n",
              "  background-color: #90b2fe;\n",
              "  color: #000000;\n",
              "}\n",
              "#T_fd346_row5_col4 {\n",
              "  background-color: #89acfd;\n",
              "  color: #000000;\n",
              "}\n",
              "#T_fd346_row5_col8 {\n",
              "  background-color: #7da0f9;\n",
              "  color: #f1f1f1;\n",
              "}\n",
              "#T_fd346_row5_col9 {\n",
              "  background-color: #4b64d5;\n",
              "  color: #f1f1f1;\n",
              "}\n",
              "#T_fd346_row5_col11, #T_fd346_row6_col5 {\n",
              "  background-color: #81a4fb;\n",
              "  color: #f1f1f1;\n",
              "}\n",
              "#T_fd346_row5_col12 {\n",
              "  background-color: #bfd3f6;\n",
              "  color: #000000;\n",
              "}\n",
              "#T_fd346_row6_col1, #T_fd346_row11_col6 {\n",
              "  background-color: #6282ea;\n",
              "  color: #f1f1f1;\n",
              "}\n",
              "#T_fd346_row6_col2, #T_fd346_row7_col1, #T_fd346_row7_col9 {\n",
              "  background-color: #7597f6;\n",
              "  color: #f1f1f1;\n",
              "}\n",
              "#T_fd346_row6_col3, #T_fd346_row8_col12 {\n",
              "  background-color: #82a6fb;\n",
              "  color: #f1f1f1;\n",
              "}\n",
              "#T_fd346_row6_col9 {\n",
              "  background-color: #4358cb;\n",
              "  color: #f1f1f1;\n",
              "}\n",
              "#T_fd346_row6_col11 {\n",
              "  background-color: #b2ccfb;\n",
              "  color: #000000;\n",
              "}\n",
              "#T_fd346_row7_col12 {\n",
              "  background-color: #e6d7cf;\n",
              "  color: #000000;\n",
              "}\n",
              "#T_fd346_row8_col0 {\n",
              "  background-color: #688aef;\n",
              "  color: #f1f1f1;\n",
              "}\n",
              "#T_fd346_row8_col4 {\n",
              "  background-color: #b3cdfb;\n",
              "  color: #000000;\n",
              "}\n",
              "#T_fd346_row8_col6 {\n",
              "  background-color: #7093f3;\n",
              "  color: #f1f1f1;\n",
              "}\n",
              "#T_fd346_row8_col11 {\n",
              "  background-color: #c3d5f4;\n",
              "  color: #000000;\n",
              "}\n",
              "#T_fd346_row9_col2, #T_fd346_row12_col5 {\n",
              "  background-color: #85a8fc;\n",
              "  color: #f1f1f1;\n",
              "}\n",
              "#T_fd346_row9_col10 {\n",
              "  background-color: #e1dad6;\n",
              "  color: #000000;\n",
              "}\n",
              "#T_fd346_row9_col11 {\n",
              "  background-color: #abc8fd;\n",
              "  color: #000000;\n",
              "}\n",
              "#T_fd346_row10_col3, #T_fd346_row12_col8 {\n",
              "  background-color: #3e51c5;\n",
              "  color: #f1f1f1;\n",
              "}\n",
              "#T_fd346_row10_col4, #T_fd346_row10_col8 {\n",
              "  background-color: #7396f5;\n",
              "  color: #f1f1f1;\n",
              "}\n",
              "#T_fd346_row10_col9 {\n",
              "  background-color: #e2dad5;\n",
              "  color: #000000;\n",
              "}\n",
              "#T_fd346_row11_col3 {\n",
              "  background-color: #7295f4;\n",
              "  color: #f1f1f1;\n",
              "}\n",
              "#T_fd346_row11_col7 {\n",
              "  background-color: #3f53c6;\n",
              "  color: #f1f1f1;\n",
              "}\n",
              "#T_fd346_row12_col6 {\n",
              "  background-color: #516ddb;\n",
              "  color: #f1f1f1;\n",
              "}\n",
              "#T_fd346_row12_col7 {\n",
              "  background-color: #c4d5f3;\n",
              "  color: #000000;\n",
              "}\n",
              "</style>\n",
              "<table id=\"T_fd346_\" class=\"dataframe\">\n",
              "  <thead>\n",
              "    <tr>\n",
              "      <th class=\"blank level0\" >&nbsp;</th>\n",
              "      <th class=\"col_heading level0 col0\" >age</th>\n",
              "      <th class=\"col_heading level0 col1\" >anaemia</th>\n",
              "      <th class=\"col_heading level0 col2\" >creatinine_phosphokinase</th>\n",
              "      <th class=\"col_heading level0 col3\" >diabetes</th>\n",
              "      <th class=\"col_heading level0 col4\" >ejection_fraction</th>\n",
              "      <th class=\"col_heading level0 col5\" >high_blood_pressure</th>\n",
              "      <th class=\"col_heading level0 col6\" >platelets</th>\n",
              "      <th class=\"col_heading level0 col7\" >serum_creatinine</th>\n",
              "      <th class=\"col_heading level0 col8\" >serum_sodium</th>\n",
              "      <th class=\"col_heading level0 col9\" >sex</th>\n",
              "      <th class=\"col_heading level0 col10\" >smoking</th>\n",
              "      <th class=\"col_heading level0 col11\" >time</th>\n",
              "      <th class=\"col_heading level0 col12\" >DEATH_EVENT</th>\n",
              "    </tr>\n",
              "  </thead>\n",
              "  <tbody>\n",
              "    <tr>\n",
              "      <th id=\"T_fd346_level0_row0\" class=\"row_heading level0 row0\" >age</th>\n",
              "      <td id=\"T_fd346_row0_col0\" class=\"data row0 col0\" >1.00</td>\n",
              "      <td id=\"T_fd346_row0_col1\" class=\"data row0 col1\" >0.09</td>\n",
              "      <td id=\"T_fd346_row0_col2\" class=\"data row0 col2\" >-0.08</td>\n",
              "      <td id=\"T_fd346_row0_col3\" class=\"data row0 col3\" >-0.11</td>\n",
              "      <td id=\"T_fd346_row0_col4\" class=\"data row0 col4\" >0.08</td>\n",
              "      <td id=\"T_fd346_row0_col5\" class=\"data row0 col5\" >0.09</td>\n",
              "      <td id=\"T_fd346_row0_col6\" class=\"data row0 col6\" >-0.05</td>\n",
              "      <td id=\"T_fd346_row0_col7\" class=\"data row0 col7\" >0.19</td>\n",
              "      <td id=\"T_fd346_row0_col8\" class=\"data row0 col8\" >-0.05</td>\n",
              "      <td id=\"T_fd346_row0_col9\" class=\"data row0 col9\" >0.06</td>\n",
              "      <td id=\"T_fd346_row0_col10\" class=\"data row0 col10\" >0.01</td>\n",
              "      <td id=\"T_fd346_row0_col11\" class=\"data row0 col11\" >-0.23</td>\n",
              "      <td id=\"T_fd346_row0_col12\" class=\"data row0 col12\" >0.26</td>\n",
              "    </tr>\n",
              "    <tr>\n",
              "      <th id=\"T_fd346_level0_row1\" class=\"row_heading level0 row1\" >anaemia</th>\n",
              "      <td id=\"T_fd346_row1_col0\" class=\"data row1 col0\" >0.09</td>\n",
              "      <td id=\"T_fd346_row1_col1\" class=\"data row1 col1\" >1.00</td>\n",
              "      <td id=\"T_fd346_row1_col2\" class=\"data row1 col2\" >-0.19</td>\n",
              "      <td id=\"T_fd346_row1_col3\" class=\"data row1 col3\" >-0.01</td>\n",
              "      <td id=\"T_fd346_row1_col4\" class=\"data row1 col4\" >0.03</td>\n",
              "      <td id=\"T_fd346_row1_col5\" class=\"data row1 col5\" >0.03</td>\n",
              "      <td id=\"T_fd346_row1_col6\" class=\"data row1 col6\" >-0.04</td>\n",
              "      <td id=\"T_fd346_row1_col7\" class=\"data row1 col7\" >0.03</td>\n",
              "      <td id=\"T_fd346_row1_col8\" class=\"data row1 col8\" >0.04</td>\n",
              "      <td id=\"T_fd346_row1_col9\" class=\"data row1 col9\" >-0.09</td>\n",
              "      <td id=\"T_fd346_row1_col10\" class=\"data row1 col10\" >-0.11</td>\n",
              "      <td id=\"T_fd346_row1_col11\" class=\"data row1 col11\" >-0.15</td>\n",
              "      <td id=\"T_fd346_row1_col12\" class=\"data row1 col12\" >0.06</td>\n",
              "    </tr>\n",
              "    <tr>\n",
              "      <th id=\"T_fd346_level0_row2\" class=\"row_heading level0 row2\" >creatinine_phosphokinase</th>\n",
              "      <td id=\"T_fd346_row2_col0\" class=\"data row2 col0\" >-0.08</td>\n",
              "      <td id=\"T_fd346_row2_col1\" class=\"data row2 col1\" >-0.19</td>\n",
              "      <td id=\"T_fd346_row2_col2\" class=\"data row2 col2\" >1.00</td>\n",
              "      <td id=\"T_fd346_row2_col3\" class=\"data row2 col3\" >-0.01</td>\n",
              "      <td id=\"T_fd346_row2_col4\" class=\"data row2 col4\" >-0.04</td>\n",
              "      <td id=\"T_fd346_row2_col5\" class=\"data row2 col5\" >-0.07</td>\n",
              "      <td id=\"T_fd346_row2_col6\" class=\"data row2 col6\" >0.02</td>\n",
              "      <td id=\"T_fd346_row2_col7\" class=\"data row2 col7\" >-0.01</td>\n",
              "      <td id=\"T_fd346_row2_col8\" class=\"data row2 col8\" >0.06</td>\n",
              "      <td id=\"T_fd346_row2_col9\" class=\"data row2 col9\" >0.08</td>\n",
              "      <td id=\"T_fd346_row2_col10\" class=\"data row2 col10\" >0.00</td>\n",
              "      <td id=\"T_fd346_row2_col11\" class=\"data row2 col11\" >-0.01</td>\n",
              "      <td id=\"T_fd346_row2_col12\" class=\"data row2 col12\" >0.06</td>\n",
              "    </tr>\n",
              "    <tr>\n",
              "      <th id=\"T_fd346_level0_row3\" class=\"row_heading level0 row3\" >diabetes</th>\n",
              "      <td id=\"T_fd346_row3_col0\" class=\"data row3 col0\" >-0.11</td>\n",
              "      <td id=\"T_fd346_row3_col1\" class=\"data row3 col1\" >-0.01</td>\n",
              "      <td id=\"T_fd346_row3_col2\" class=\"data row3 col2\" >-0.01</td>\n",
              "      <td id=\"T_fd346_row3_col3\" class=\"data row3 col3\" >1.00</td>\n",
              "      <td id=\"T_fd346_row3_col4\" class=\"data row3 col4\" >0.01</td>\n",
              "      <td id=\"T_fd346_row3_col5\" class=\"data row3 col5\" >-0.01</td>\n",
              "      <td id=\"T_fd346_row3_col6\" class=\"data row3 col6\" >0.09</td>\n",
              "      <td id=\"T_fd346_row3_col7\" class=\"data row3 col7\" >-0.03</td>\n",
              "      <td id=\"T_fd346_row3_col8\" class=\"data row3 col8\" >-0.09</td>\n",
              "      <td id=\"T_fd346_row3_col9\" class=\"data row3 col9\" >-0.17</td>\n",
              "      <td id=\"T_fd346_row3_col10\" class=\"data row3 col10\" >-0.15</td>\n",
              "      <td id=\"T_fd346_row3_col11\" class=\"data row3 col11\" >0.03</td>\n",
              "      <td id=\"T_fd346_row3_col12\" class=\"data row3 col12\" >0.00</td>\n",
              "    </tr>\n",
              "    <tr>\n",
              "      <th id=\"T_fd346_level0_row4\" class=\"row_heading level0 row4\" >ejection_fraction</th>\n",
              "      <td id=\"T_fd346_row4_col0\" class=\"data row4 col0\" >0.08</td>\n",
              "      <td id=\"T_fd346_row4_col1\" class=\"data row4 col1\" >0.03</td>\n",
              "      <td id=\"T_fd346_row4_col2\" class=\"data row4 col2\" >-0.04</td>\n",
              "      <td id=\"T_fd346_row4_col3\" class=\"data row4 col3\" >0.01</td>\n",
              "      <td id=\"T_fd346_row4_col4\" class=\"data row4 col4\" >1.00</td>\n",
              "      <td id=\"T_fd346_row4_col5\" class=\"data row4 col5\" >0.02</td>\n",
              "      <td id=\"T_fd346_row4_col6\" class=\"data row4 col6\" >0.09</td>\n",
              "      <td id=\"T_fd346_row4_col7\" class=\"data row4 col7\" >-0.09</td>\n",
              "      <td id=\"T_fd346_row4_col8\" class=\"data row4 col8\" >0.18</td>\n",
              "      <td id=\"T_fd346_row4_col9\" class=\"data row4 col9\" >-0.12</td>\n",
              "      <td id=\"T_fd346_row4_col10\" class=\"data row4 col10\" >-0.05</td>\n",
              "      <td id=\"T_fd346_row4_col11\" class=\"data row4 col11\" >0.05</td>\n",
              "      <td id=\"T_fd346_row4_col12\" class=\"data row4 col12\" >-0.28</td>\n",
              "    </tr>\n",
              "    <tr>\n",
              "      <th id=\"T_fd346_level0_row5\" class=\"row_heading level0 row5\" >high_blood_pressure</th>\n",
              "      <td id=\"T_fd346_row5_col0\" class=\"data row5 col0\" >0.09</td>\n",
              "      <td id=\"T_fd346_row5_col1\" class=\"data row5 col1\" >0.03</td>\n",
              "      <td id=\"T_fd346_row5_col2\" class=\"data row5 col2\" >-0.07</td>\n",
              "      <td id=\"T_fd346_row5_col3\" class=\"data row5 col3\" >-0.01</td>\n",
              "      <td id=\"T_fd346_row5_col4\" class=\"data row5 col4\" >0.02</td>\n",
              "      <td id=\"T_fd346_row5_col5\" class=\"data row5 col5\" >1.00</td>\n",
              "      <td id=\"T_fd346_row5_col6\" class=\"data row5 col6\" >0.06</td>\n",
              "      <td id=\"T_fd346_row5_col7\" class=\"data row5 col7\" >-0.04</td>\n",
              "      <td id=\"T_fd346_row5_col8\" class=\"data row5 col8\" >0.04</td>\n",
              "      <td id=\"T_fd346_row5_col9\" class=\"data row5 col9\" >-0.10</td>\n",
              "      <td id=\"T_fd346_row5_col10\" class=\"data row5 col10\" >-0.05</td>\n",
              "      <td id=\"T_fd346_row5_col11\" class=\"data row5 col11\" >-0.20</td>\n",
              "      <td id=\"T_fd346_row5_col12\" class=\"data row5 col12\" >0.07</td>\n",
              "    </tr>\n",
              "    <tr>\n",
              "      <th id=\"T_fd346_level0_row6\" class=\"row_heading level0 row6\" >platelets</th>\n",
              "      <td id=\"T_fd346_row6_col0\" class=\"data row6 col0\" >-0.05</td>\n",
              "      <td id=\"T_fd346_row6_col1\" class=\"data row6 col1\" >-0.04</td>\n",
              "      <td id=\"T_fd346_row6_col2\" class=\"data row6 col2\" >0.02</td>\n",
              "      <td id=\"T_fd346_row6_col3\" class=\"data row6 col3\" >0.09</td>\n",
              "      <td id=\"T_fd346_row6_col4\" class=\"data row6 col4\" >0.09</td>\n",
              "      <td id=\"T_fd346_row6_col5\" class=\"data row6 col5\" >0.06</td>\n",
              "      <td id=\"T_fd346_row6_col6\" class=\"data row6 col6\" >1.00</td>\n",
              "      <td id=\"T_fd346_row6_col7\" class=\"data row6 col7\" >-0.01</td>\n",
              "      <td id=\"T_fd346_row6_col8\" class=\"data row6 col8\" >0.06</td>\n",
              "      <td id=\"T_fd346_row6_col9\" class=\"data row6 col9\" >-0.13</td>\n",
              "      <td id=\"T_fd346_row6_col10\" class=\"data row6 col10\" >0.03</td>\n",
              "      <td id=\"T_fd346_row6_col11\" class=\"data row6 col11\" >0.01</td>\n",
              "      <td id=\"T_fd346_row6_col12\" class=\"data row6 col12\" >-0.04</td>\n",
              "    </tr>\n",
              "    <tr>\n",
              "      <th id=\"T_fd346_level0_row7\" class=\"row_heading level0 row7\" >serum_creatinine</th>\n",
              "      <td id=\"T_fd346_row7_col0\" class=\"data row7 col0\" >0.19</td>\n",
              "      <td id=\"T_fd346_row7_col1\" class=\"data row7 col1\" >0.03</td>\n",
              "      <td id=\"T_fd346_row7_col2\" class=\"data row7 col2\" >-0.01</td>\n",
              "      <td id=\"T_fd346_row7_col3\" class=\"data row7 col3\" >-0.03</td>\n",
              "      <td id=\"T_fd346_row7_col4\" class=\"data row7 col4\" >-0.09</td>\n",
              "      <td id=\"T_fd346_row7_col5\" class=\"data row7 col5\" >-0.04</td>\n",
              "      <td id=\"T_fd346_row7_col6\" class=\"data row7 col6\" >-0.01</td>\n",
              "      <td id=\"T_fd346_row7_col7\" class=\"data row7 col7\" >1.00</td>\n",
              "      <td id=\"T_fd346_row7_col8\" class=\"data row7 col8\" >-0.21</td>\n",
              "      <td id=\"T_fd346_row7_col9\" class=\"data row7 col9\" >0.04</td>\n",
              "      <td id=\"T_fd346_row7_col10\" class=\"data row7 col10\" >-0.01</td>\n",
              "      <td id=\"T_fd346_row7_col11\" class=\"data row7 col11\" >-0.19</td>\n",
              "      <td id=\"T_fd346_row7_col12\" class=\"data row7 col12\" >0.29</td>\n",
              "    </tr>\n",
              "    <tr>\n",
              "      <th id=\"T_fd346_level0_row8\" class=\"row_heading level0 row8\" >serum_sodium</th>\n",
              "      <td id=\"T_fd346_row8_col0\" class=\"data row8 col0\" >-0.05</td>\n",
              "      <td id=\"T_fd346_row8_col1\" class=\"data row8 col1\" >0.04</td>\n",
              "      <td id=\"T_fd346_row8_col2\" class=\"data row8 col2\" >0.06</td>\n",
              "      <td id=\"T_fd346_row8_col3\" class=\"data row8 col3\" >-0.09</td>\n",
              "      <td id=\"T_fd346_row8_col4\" class=\"data row8 col4\" >0.18</td>\n",
              "      <td id=\"T_fd346_row8_col5\" class=\"data row8 col5\" >0.04</td>\n",
              "      <td id=\"T_fd346_row8_col6\" class=\"data row8 col6\" >0.06</td>\n",
              "      <td id=\"T_fd346_row8_col7\" class=\"data row8 col7\" >-0.21</td>\n",
              "      <td id=\"T_fd346_row8_col8\" class=\"data row8 col8\" >1.00</td>\n",
              "      <td id=\"T_fd346_row8_col9\" class=\"data row8 col9\" >-0.03</td>\n",
              "      <td id=\"T_fd346_row8_col10\" class=\"data row8 col10\" >0.01</td>\n",
              "      <td id=\"T_fd346_row8_col11\" class=\"data row8 col11\" >0.09</td>\n",
              "      <td id=\"T_fd346_row8_col12\" class=\"data row8 col12\" >-0.20</td>\n",
              "    </tr>\n",
              "    <tr>\n",
              "      <th id=\"T_fd346_level0_row9\" class=\"row_heading level0 row9\" >sex</th>\n",
              "      <td id=\"T_fd346_row9_col0\" class=\"data row9 col0\" >0.06</td>\n",
              "      <td id=\"T_fd346_row9_col1\" class=\"data row9 col1\" >-0.09</td>\n",
              "      <td id=\"T_fd346_row9_col2\" class=\"data row9 col2\" >0.08</td>\n",
              "      <td id=\"T_fd346_row9_col3\" class=\"data row9 col3\" >-0.17</td>\n",
              "      <td id=\"T_fd346_row9_col4\" class=\"data row9 col4\" >-0.12</td>\n",
              "      <td id=\"T_fd346_row9_col5\" class=\"data row9 col5\" >-0.10</td>\n",
              "      <td id=\"T_fd346_row9_col6\" class=\"data row9 col6\" >-0.13</td>\n",
              "      <td id=\"T_fd346_row9_col7\" class=\"data row9 col7\" >0.04</td>\n",
              "      <td id=\"T_fd346_row9_col8\" class=\"data row9 col8\" >-0.03</td>\n",
              "      <td id=\"T_fd346_row9_col9\" class=\"data row9 col9\" >1.00</td>\n",
              "      <td id=\"T_fd346_row9_col10\" class=\"data row9 col10\" >0.44</td>\n",
              "      <td id=\"T_fd346_row9_col11\" class=\"data row9 col11\" >-0.02</td>\n",
              "      <td id=\"T_fd346_row9_col12\" class=\"data row9 col12\" >-0.00</td>\n",
              "    </tr>\n",
              "    <tr>\n",
              "      <th id=\"T_fd346_level0_row10\" class=\"row_heading level0 row10\" >smoking</th>\n",
              "      <td id=\"T_fd346_row10_col0\" class=\"data row10 col0\" >0.01</td>\n",
              "      <td id=\"T_fd346_row10_col1\" class=\"data row10 col1\" >-0.11</td>\n",
              "      <td id=\"T_fd346_row10_col2\" class=\"data row10 col2\" >0.00</td>\n",
              "      <td id=\"T_fd346_row10_col3\" class=\"data row10 col3\" >-0.15</td>\n",
              "      <td id=\"T_fd346_row10_col4\" class=\"data row10 col4\" >-0.05</td>\n",
              "      <td id=\"T_fd346_row10_col5\" class=\"data row10 col5\" >-0.05</td>\n",
              "      <td id=\"T_fd346_row10_col6\" class=\"data row10 col6\" >0.03</td>\n",
              "      <td id=\"T_fd346_row10_col7\" class=\"data row10 col7\" >-0.01</td>\n",
              "      <td id=\"T_fd346_row10_col8\" class=\"data row10 col8\" >0.01</td>\n",
              "      <td id=\"T_fd346_row10_col9\" class=\"data row10 col9\" >0.44</td>\n",
              "      <td id=\"T_fd346_row10_col10\" class=\"data row10 col10\" >1.00</td>\n",
              "      <td id=\"T_fd346_row10_col11\" class=\"data row10 col11\" >-0.02</td>\n",
              "      <td id=\"T_fd346_row10_col12\" class=\"data row10 col12\" >-0.01</td>\n",
              "    </tr>\n",
              "    <tr>\n",
              "      <th id=\"T_fd346_level0_row11\" class=\"row_heading level0 row11\" >time</th>\n",
              "      <td id=\"T_fd346_row11_col0\" class=\"data row11 col0\" >-0.23</td>\n",
              "      <td id=\"T_fd346_row11_col1\" class=\"data row11 col1\" >-0.15</td>\n",
              "      <td id=\"T_fd346_row11_col2\" class=\"data row11 col2\" >-0.01</td>\n",
              "      <td id=\"T_fd346_row11_col3\" class=\"data row11 col3\" >0.03</td>\n",
              "      <td id=\"T_fd346_row11_col4\" class=\"data row11 col4\" >0.05</td>\n",
              "      <td id=\"T_fd346_row11_col5\" class=\"data row11 col5\" >-0.20</td>\n",
              "      <td id=\"T_fd346_row11_col6\" class=\"data row11 col6\" >0.01</td>\n",
              "      <td id=\"T_fd346_row11_col7\" class=\"data row11 col7\" >-0.19</td>\n",
              "      <td id=\"T_fd346_row11_col8\" class=\"data row11 col8\" >0.09</td>\n",
              "      <td id=\"T_fd346_row11_col9\" class=\"data row11 col9\" >-0.02</td>\n",
              "      <td id=\"T_fd346_row11_col10\" class=\"data row11 col10\" >-0.02</td>\n",
              "      <td id=\"T_fd346_row11_col11\" class=\"data row11 col11\" >1.00</td>\n",
              "      <td id=\"T_fd346_row11_col12\" class=\"data row11 col12\" >-0.54</td>\n",
              "    </tr>\n",
              "    <tr>\n",
              "      <th id=\"T_fd346_level0_row12\" class=\"row_heading level0 row12\" >DEATH_EVENT</th>\n",
              "      <td id=\"T_fd346_row12_col0\" class=\"data row12 col0\" >0.26</td>\n",
              "      <td id=\"T_fd346_row12_col1\" class=\"data row12 col1\" >0.06</td>\n",
              "      <td id=\"T_fd346_row12_col2\" class=\"data row12 col2\" >0.06</td>\n",
              "      <td id=\"T_fd346_row12_col3\" class=\"data row12 col3\" >0.00</td>\n",
              "      <td id=\"T_fd346_row12_col4\" class=\"data row12 col4\" >-0.28</td>\n",
              "      <td id=\"T_fd346_row12_col5\" class=\"data row12 col5\" >0.07</td>\n",
              "      <td id=\"T_fd346_row12_col6\" class=\"data row12 col6\" >-0.04</td>\n",
              "      <td id=\"T_fd346_row12_col7\" class=\"data row12 col7\" >0.29</td>\n",
              "      <td id=\"T_fd346_row12_col8\" class=\"data row12 col8\" >-0.20</td>\n",
              "      <td id=\"T_fd346_row12_col9\" class=\"data row12 col9\" >-0.00</td>\n",
              "      <td id=\"T_fd346_row12_col10\" class=\"data row12 col10\" >-0.01</td>\n",
              "      <td id=\"T_fd346_row12_col11\" class=\"data row12 col11\" >-0.54</td>\n",
              "      <td id=\"T_fd346_row12_col12\" class=\"data row12 col12\" >1.00</td>\n",
              "    </tr>\n",
              "  </tbody>\n",
              "</table>\n"
            ]
          },
          "metadata": {},
          "execution_count": 109
        }
      ]
    },
    {
      "cell_type": "code",
      "source": [
        "# Feature Selection\n",
        "\n",
        "plt.rcParams['figure.figsize']=15,6 \n",
        "sns.set_style(\"darkgrid\")\n",
        "\n",
        "x = train.iloc[:, :-1]\n",
        "y = train.iloc[:,-1]\n",
        "\n",
        "from sklearn.ensemble import ExtraTreesClassifier\n",
        "\n",
        "model = ExtraTreesClassifier()\n",
        "model.fit(x,y)\n",
        "print(model.feature_importances_) \n",
        "feat_importances = pd.Series(model.feature_importances_, index=x.columns)\n",
        "feat_importances.nlargest(12).plot(kind='barh')\n",
        "plt.show()"
      ],
      "metadata": {
        "colab": {
          "base_uri": "https://localhost:8080/",
          "height": 412
        },
        "id": "DiG6pFWqXjRB",
        "outputId": "9f9cc3c1-c2c6-47b4-c28a-01b65e580895"
      },
      "execution_count": 110,
      "outputs": [
        {
          "output_type": "stream",
          "name": "stdout",
          "text": [
            "[0.09299263 0.02681385 0.0764439  0.03061924 0.13902999 0.02597153\n",
            " 0.06972017 0.11163383 0.08694591 0.02831185 0.02746202 0.28405509]\n"
          ]
        },
        {
          "output_type": "display_data",
          "data": {
            "text/plain": [
              "<Figure size 1080x432 with 1 Axes>"
            ],
            "image/png": "[encoded data removed]"
          },
          "metadata": {}
        }
      ]
    },
    {
      "cell_type": "code",
      "source": [
        "train=train.drop(['anaemia','creatinine_phosphokinase','diabetes','high_blood_pressure','platelets','sex','smoking','age'],axis=1)"
      ],
      "metadata": {
        "id": "ez_sSdVIXlfh"
      },
      "execution_count": 111,
      "outputs": []
    },
    {
      "cell_type": "code",
      "source": [
        "train"
      ],
      "metadata": {
        "colab": {
          "base_uri": "https://localhost:8080/",
          "height": 424
        },
        "id": "LmJgyGkqXotQ",
        "outputId": "0682082e-9f93-4f7d-df2e-17ffcd45d4a2"
      },
      "execution_count": 112,
      "outputs": [
        {
          "output_type": "execute_result",
          "data": {
            "text/plain": [
              "     ejection_fraction  serum_creatinine  serum_sodium  time  DEATH_EVENT\n",
              "0                   20               1.9           130     4            1\n",
              "1                   38               1.1           136     6            1\n",
              "2                   20               1.3           129     7            1\n",
              "3                   20               1.9           137     7            1\n",
              "4                   20               2.7           116     8            1\n",
              "..                 ...               ...           ...   ...          ...\n",
              "294                 38               1.1           143   270            0\n",
              "295                 38               1.2           139   271            0\n",
              "296                 60               0.8           138   278            0\n",
              "297                 38               1.4           140   280            0\n",
              "298                 45               1.6           136   285            0\n",
              "\n",
              "[297 rows x 5 columns]"
            ],
            "text/html": [
              "\n",
              "  <div id=\"df-00c506a1-eeae-4870-8b91-458ac152e366\">\n",
              "    <div class=\"colab-df-container\">\n",
              "      <div>\n",
              "<style scoped>\n",
              "    .dataframe tbody tr th:only-of-type {\n",
              "        vertical-align: middle;\n",
              "    }\n",
              "\n",
              "    .dataframe tbody tr th {\n",
              "        vertical-align: top;\n",
              "    }\n",
              "\n",
              "    .dataframe thead th {\n",
              "        text-align: right;\n",
              "    }\n",
              "</style>\n",
              "<table border=\"1\" class=\"dataframe\">\n",
              "  <thead>\n",
              "    <tr style=\"text-align: right;\">\n",
              "      <th></th>\n",
              "      <th>ejection_fraction</th>\n",
              "      <th>serum_creatinine</th>\n",
              "      <th>serum_sodium</th>\n",
              "      <th>time</th>\n",
              "      <th>DEATH_EVENT</th>\n",
              "    </tr>\n",
              "  </thead>\n",
              "  <tbody>\n",
              "    <tr>\n",
              "      <th>0</th>\n",
              "      <td>20</td>\n",
              "      <td>1.9</td>\n",
              "      <td>130</td>\n",
              "      <td>4</td>\n",
              "      <td>1</td>\n",
              "    </tr>\n",
              "    <tr>\n",
              "      <th>1</th>\n",
              "      <td>38</td>\n",
              "      <td>1.1</td>\n",
              "      <td>136</td>\n",
              "      <td>6</td>\n",
              "      <td>1</td>\n",
              "    </tr>\n",
              "    <tr>\n",
              "      <th>2</th>\n",
              "      <td>20</td>\n",
              "      <td>1.3</td>\n",
              "      <td>129</td>\n",
              "      <td>7</td>\n",
              "      <td>1</td>\n",
              "    </tr>\n",
              "    <tr>\n",
              "      <th>3</th>\n",
              "      <td>20</td>\n",
              "      <td>1.9</td>\n",
              "      <td>137</td>\n",
              "      <td>7</td>\n",
              "      <td>1</td>\n",
              "    </tr>\n",
              "    <tr>\n",
              "      <th>4</th>\n",
              "      <td>20</td>\n",
              "      <td>2.7</td>\n",
              "      <td>116</td>\n",
              "      <td>8</td>\n",
              "      <td>1</td>\n",
              "    </tr>\n",
              "    <tr>\n",
              "      <th>...</th>\n",
              "      <td>...</td>\n",
              "      <td>...</td>\n",
              "      <td>...</td>\n",
              "      <td>...</td>\n",
              "      <td>...</td>\n",
              "    </tr>\n",
              "    <tr>\n",
              "      <th>294</th>\n",
              "      <td>38</td>\n",
              "      <td>1.1</td>\n",
              "      <td>143</td>\n",
              "      <td>270</td>\n",
              "      <td>0</td>\n",
              "    </tr>\n",
              "    <tr>\n",
              "      <th>295</th>\n",
              "      <td>38</td>\n",
              "      <td>1.2</td>\n",
              "      <td>139</td>\n",
              "      <td>271</td>\n",
              "      <td>0</td>\n",
              "    </tr>\n",
              "    <tr>\n",
              "      <th>296</th>\n",
              "      <td>60</td>\n",
              "      <td>0.8</td>\n",
              "      <td>138</td>\n",
              "      <td>278</td>\n",
              "      <td>0</td>\n",
              "    </tr>\n",
              "    <tr>\n",
              "      <th>297</th>\n",
              "      <td>38</td>\n",
              "      <td>1.4</td>\n",
              "      <td>140</td>\n",
              "      <td>280</td>\n",
              "      <td>0</td>\n",
              "    </tr>\n",
              "    <tr>\n",
              "      <th>298</th>\n",
              "      <td>45</td>\n",
              "      <td>1.6</td>\n",
              "      <td>136</td>\n",
              "      <td>285</td>\n",
              "      <td>0</td>\n",
              "    </tr>\n",
              "  </tbody>\n",
              "</table>\n",
              "<p>297 rows × 5 columns</p>\n",
              "</div>\n",
              "      <button class=\"colab-df-convert\" onclick=\"convertToInteractive('df-00c506a1-eeae-4870-8b91-458ac152e366')\"\n",
              "              title=\"Convert this dataframe to an interactive table.\"\n",
              "              style=\"display:none;\">\n",
              "        \n",
              "  <svg xmlns=\"http://www.w3.org/2000/svg\" height=\"24px\"viewBox=\"0 0 24 24\"\n",
              "       width=\"24px\">\n",
              "    <path d=\"M0 0h24v24H0V0z\" fill=\"none\"/>\n",
              "    <path d=\"M18.56 5.44l.94 2.06.94-2.06 2.06-.94-2.06-.94-.94-2.06-.94 2.06-2.06.94zm-11 1L8.5 8.5l.94-2.06 2.06-.94-2.06-.94L8.5 2.5l-.94 2.06-2.06.94zm10 10l.94 2.06.94-2.06 2.06-.94-2.06-.94-.94-2.06-.94 2.06-2.06.94z\"/><path d=\"M17.41 7.96l-1.37-1.37c-.4-.4-.92-.59-1.43-.59-.52 0-1.04.2-1.43.59L10.3 9.45l-7.72 7.72c-.78.78-.78 2.05 0 2.83L4 21.41c.39.39.9.59 1.41.59.51 0 1.02-.2 1.41-.59l7.78-7.78 2.81-2.81c.8-.78.8-2.07 0-2.86zM5.41 20L4 18.59l7.72-7.72 1.47 1.35L5.41 20z\"/>\n",
              "  </svg>\n",
              "      </button>\n",
              "      \n",
              "  <style>\n",
              "    .colab-df-container {\n",
              "      display:flex;\n",
              "      flex-wrap:wrap;\n",
              "      gap: 12px;\n",
              "    }\n",
              "\n",
              "    .colab-df-convert {\n",
              "      background-color: #E8F0FE;\n",
              "      border: none;\n",
              "      border-radius: 50%;\n",
              "      cursor: pointer;\n",
              "      display: none;\n",
              "      fill: #1967D2;\n",
              "      height: 32px;\n",
              "      padding: 0 0 0 0;\n",
              "      width: 32px;\n",
              "    }\n",
              "\n",
              "    .colab-df-convert:hover {\n",
              "      background-color: #E2EBFA;\n",
              "      box-shadow: 0px 1px 2px rgba(60, 64, 67, 0.3), 0px 1px 3px 1px rgba(60, 64, 67, 0.15);\n",
              "      fill: #174EA6;\n",
              "    }\n",
              "\n",
              "    [theme=dark] .colab-df-convert {\n",
              "      background-color: #3B4455;\n",
              "      fill: #D2E3FC;\n",
              "    }\n",
              "\n",
              "    [theme=dark] .colab-df-convert:hover {\n",
              "      background-color: #434B5C;\n",
              "      box-shadow: 0px 1px 3px 1px rgba(0, 0, 0, 0.15);\n",
              "      filter: drop-shadow(0px 1px 2px rgba(0, 0, 0, 0.3));\n",
              "      fill: #FFFFFF;\n",
              "    }\n",
              "  </style>\n",
              "\n",
              "      <script>\n",
              "        const buttonEl =\n",
              "          document.querySelector('#df-00c506a1-eeae-4870-8b91-458ac152e366 button.colab-df-convert');\n",
              "        buttonEl.style.display =\n",
              "          google.colab.kernel.accessAllowed ? 'block' : 'none';\n",
              "\n",
              "        async function convertToInteractive(key) {\n",
              "          const element = document.querySelector('#df-00c506a1-eeae-4870-8b91-458ac152e366');\n",
              "          const dataTable =\n",
              "            await google.colab.kernel.invokeFunction('convertToInteractive',\n",
              "                                                     [key], {});\n",
              "          if (!dataTable) return;\n",
              "\n",
              "          const docLinkHtml = 'Like what you see? Visit the ' +\n",
              "            '<a target=\"_blank\" href=https://colab.research.google.com/notebooks/data_table.ipynb>data table notebook</a>'\n",
              "            + ' to learn more about interactive tables.';\n",
              "          element.innerHTML = '';\n",
              "          dataTable['output_type'] = 'display_data';\n",
              "          await google.colab.output.renderOutput(dataTable, element);\n",
              "          const docLink = document.createElement('div');\n",
              "          docLink.innerHTML = docLinkHtml;\n",
              "          element.appendChild(docLink);\n",
              "        }\n",
              "      </script>\n",
              "    </div>\n",
              "  </div>\n",
              "  "
            ]
          },
          "metadata": {},
          "execution_count": 112
        }
      ]
    },
    {
      "cell_type": "code",
      "source": [
        "train.corr().style.background_gradient(cmap='coolwarm').set_precision(3)"
      ],
      "metadata": {
        "colab": {
          "base_uri": "https://localhost:8080/",
          "height": 276
        },
        "id": "KPzkDKjjXqnn",
        "outputId": "3156e969-f266-4b31-f972-36be49c19f34"
      },
      "execution_count": 113,
      "outputs": [
        {
          "output_type": "stream",
          "name": "stderr",
          "text": [
            "<ipython-input-113-baa3b05b80f8>:1: FutureWarning:\n",
            "\n",
            "this method is deprecated in favour of `Styler.format(precision=..)`\n",
            "\n"
          ]
        },
        {
          "output_type": "execute_result",
          "data": {
            "text/plain": [
              "<pandas.io.formats.style.Styler at 0x7f900f4560a0>"
            ],
            "text/html": [
              "<style type=\"text/css\">\n",
              "#T_d0bc0_row0_col0, #T_d0bc0_row1_col1, #T_d0bc0_row2_col2, #T_d0bc0_row3_col3, #T_d0bc0_row4_col4 {\n",
              "  background-color: #b40426;\n",
              "  color: #f1f1f1;\n",
              "}\n",
              "#T_d0bc0_row0_col1 {\n",
              "  background-color: #5a78e4;\n",
              "  color: #f1f1f1;\n",
              "}\n",
              "#T_d0bc0_row0_col2 {\n",
              "  background-color: #a6c4fe;\n",
              "  color: #000000;\n",
              "}\n",
              "#T_d0bc0_row0_col3 {\n",
              "  background-color: #bad0f8;\n",
              "  color: #000000;\n",
              "}\n",
              "#T_d0bc0_row0_col4 {\n",
              "  background-color: #6f92f3;\n",
              "  color: #f1f1f1;\n",
              "}\n",
              "#T_d0bc0_row1_col0 {\n",
              "  background-color: #6b8df0;\n",
              "  color: #f1f1f1;\n",
              "}\n",
              "#T_d0bc0_row1_col2, #T_d0bc0_row2_col1, #T_d0bc0_row3_col4, #T_d0bc0_row4_col0, #T_d0bc0_row4_col3 {\n",
              "  background-color: #3b4cc0;\n",
              "  color: #f1f1f1;\n",
              "}\n",
              "#T_d0bc0_row1_col3 {\n",
              "  background-color: #84a7fc;\n",
              "  color: #f1f1f1;\n",
              "}\n",
              "#T_d0bc0_row1_col4 {\n",
              "  background-color: #e6d7cf;\n",
              "  color: #000000;\n",
              "}\n",
              "#T_d0bc0_row2_col0 {\n",
              "  background-color: #b3cdfb;\n",
              "  color: #000000;\n",
              "}\n",
              "#T_d0bc0_row2_col3 {\n",
              "  background-color: #c3d5f4;\n",
              "  color: #000000;\n",
              "}\n",
              "#T_d0bc0_row2_col4 {\n",
              "  background-color: #82a6fb;\n",
              "  color: #f1f1f1;\n",
              "}\n",
              "#T_d0bc0_row3_col0 {\n",
              "  background-color: #8fb1fe;\n",
              "  color: #000000;\n",
              "}\n",
              "#T_d0bc0_row3_col1 {\n",
              "  background-color: #3f53c6;\n",
              "  color: #f1f1f1;\n",
              "}\n",
              "#T_d0bc0_row3_col2 {\n",
              "  background-color: #8caffe;\n",
              "  color: #000000;\n",
              "}\n",
              "#T_d0bc0_row4_col1 {\n",
              "  background-color: #c4d5f3;\n",
              "  color: #000000;\n",
              "}\n",
              "#T_d0bc0_row4_col2 {\n",
              "  background-color: #3e51c5;\n",
              "  color: #f1f1f1;\n",
              "}\n",
              "</style>\n",
              "<table id=\"T_d0bc0_\" class=\"dataframe\">\n",
              "  <thead>\n",
              "    <tr>\n",
              "      <th class=\"blank level0\" >&nbsp;</th>\n",
              "      <th class=\"col_heading level0 col0\" >ejection_fraction</th>\n",
              "      <th class=\"col_heading level0 col1\" >serum_creatinine</th>\n",
              "      <th class=\"col_heading level0 col2\" >serum_sodium</th>\n",
              "      <th class=\"col_heading level0 col3\" >time</th>\n",
              "      <th class=\"col_heading level0 col4\" >DEATH_EVENT</th>\n",
              "    </tr>\n",
              "  </thead>\n",
              "  <tbody>\n",
              "    <tr>\n",
              "      <th id=\"T_d0bc0_level0_row0\" class=\"row_heading level0 row0\" >ejection_fraction</th>\n",
              "      <td id=\"T_d0bc0_row0_col0\" class=\"data row0 col0\" >1.000</td>\n",
              "      <td id=\"T_d0bc0_row0_col1\" class=\"data row0 col1\" >-0.087</td>\n",
              "      <td id=\"T_d0bc0_row0_col2\" class=\"data row0 col2\" >0.180</td>\n",
              "      <td id=\"T_d0bc0_row0_col3\" class=\"data row0 col3\" >0.046</td>\n",
              "      <td id=\"T_d0bc0_row0_col4\" class=\"data row0 col4\" >-0.285</td>\n",
              "    </tr>\n",
              "    <tr>\n",
              "      <th id=\"T_d0bc0_level0_row1\" class=\"row_heading level0 row1\" >serum_creatinine</th>\n",
              "      <td id=\"T_d0bc0_row1_col0\" class=\"data row1 col0\" >-0.087</td>\n",
              "      <td id=\"T_d0bc0_row1_col1\" class=\"data row1 col1\" >1.000</td>\n",
              "      <td id=\"T_d0bc0_row1_col2\" class=\"data row1 col2\" >-0.211</td>\n",
              "      <td id=\"T_d0bc0_row1_col3\" class=\"data row1 col3\" >-0.189</td>\n",
              "      <td id=\"T_d0bc0_row1_col4\" class=\"data row1 col4\" >0.286</td>\n",
              "    </tr>\n",
              "    <tr>\n",
              "      <th id=\"T_d0bc0_level0_row2\" class=\"row_heading level0 row2\" >serum_sodium</th>\n",
              "      <td id=\"T_d0bc0_row2_col0\" class=\"data row2 col0\" >0.180</td>\n",
              "      <td id=\"T_d0bc0_row2_col1\" class=\"data row2 col1\" >-0.211</td>\n",
              "      <td id=\"T_d0bc0_row2_col2\" class=\"data row2 col2\" >1.000</td>\n",
              "      <td id=\"T_d0bc0_row2_col3\" class=\"data row2 col3\" >0.088</td>\n",
              "      <td id=\"T_d0bc0_row2_col4\" class=\"data row2 col4\" >-0.196</td>\n",
              "    </tr>\n",
              "    <tr>\n",
              "      <th id=\"T_d0bc0_level0_row3\" class=\"row_heading level0 row3\" >time</th>\n",
              "      <td id=\"T_d0bc0_row3_col0\" class=\"data row3 col0\" >0.046</td>\n",
              "      <td id=\"T_d0bc0_row3_col1\" class=\"data row3 col1\" >-0.189</td>\n",
              "      <td id=\"T_d0bc0_row3_col2\" class=\"data row3 col2\" >0.088</td>\n",
              "      <td id=\"T_d0bc0_row3_col3\" class=\"data row3 col3\" >1.000</td>\n",
              "      <td id=\"T_d0bc0_row3_col4\" class=\"data row3 col4\" >-0.537</td>\n",
              "    </tr>\n",
              "    <tr>\n",
              "      <th id=\"T_d0bc0_level0_row4\" class=\"row_heading level0 row4\" >DEATH_EVENT</th>\n",
              "      <td id=\"T_d0bc0_row4_col0\" class=\"data row4 col0\" >-0.285</td>\n",
              "      <td id=\"T_d0bc0_row4_col1\" class=\"data row4 col1\" >0.286</td>\n",
              "      <td id=\"T_d0bc0_row4_col2\" class=\"data row4 col2\" >-0.196</td>\n",
              "      <td id=\"T_d0bc0_row4_col3\" class=\"data row4 col3\" >-0.537</td>\n",
              "      <td id=\"T_d0bc0_row4_col4\" class=\"data row4 col4\" >1.000</td>\n",
              "    </tr>\n",
              "  </tbody>\n",
              "</table>\n"
            ]
          },
          "metadata": {},
          "execution_count": 113
        }
      ]
    },
    {
      "cell_type": "code",
      "source": [
        "from sklearn.model_selection import train_test_split\n",
        "from sklearn import metrics\n",
        "from sklearn.metrics import accuracy_score"
      ],
      "metadata": {
        "id": "qVEvJrtzXsfV"
      },
      "execution_count": 114,
      "outputs": []
    },
    {
      "cell_type": "code",
      "source": [
        "x=train.drop('DEATH_EVENT',axis=1)\n",
        "y=train.DEATH_EVENT"
      ],
      "metadata": {
        "id": "gXbbGQXnXuRp"
      },
      "execution_count": 115,
      "outputs": []
    },
    {
      "cell_type": "code",
      "source": [
        "print(x.shape)\n",
        "print(y.shape)"
      ],
      "metadata": {
        "colab": {
          "base_uri": "https://localhost:8080/"
        },
        "id": "Ty7H-2eoXv0_",
        "outputId": "d63c4ebe-550b-4bfb-ad76-1980f63ce006"
      },
      "execution_count": 116,
      "outputs": [
        {
          "output_type": "stream",
          "name": "stdout",
          "text": [
            "(297, 4)\n",
            "(297,)\n"
          ]
        }
      ]
    },
    {
      "cell_type": "code",
      "source": [
        "x_train,x_test,y_train,y_test = train_test_split(x,y,test_size=0.3)"
      ],
      "metadata": {
        "id": "3fThTshVXxHd"
      },
      "execution_count": 117,
      "outputs": []
    },
    {
      "cell_type": "markdown",
      "source": [],
      "metadata": {
        "id": "fSgX1DB2bpIE"
      }
    },
    {
      "cell_type": "code",
      "source": [
        "print(x_train)\n",
        "print(y_test)"
      ],
      "metadata": {
        "colab": {
          "base_uri": "https://localhost:8080/"
        },
        "id": "S4TdxlPmXyyD",
        "outputId": "ec8b46ac-ce1d-4f98-a5c4-aa396ff45f4e"
      },
      "execution_count": 118,
      "outputs": [
        {
          "output_type": "stream",
          "name": "stdout",
          "text": [
            "     ejection_fraction  serum_creatinine  serum_sodium  time\n",
            "22                  35              0.90           140    20\n",
            "293                 35              0.90           136   270\n",
            "103                 30              1.00           140    87\n",
            "246                 25              1.10           138   214\n",
            "136                 60              0.90           137   107\n",
            "..                 ...               ...           ...   ...\n",
            "47                  38              0.60           138    40\n",
            "264                 38              1.20           141   237\n",
            "204                 40              0.70           137   187\n",
            "85                  50              0.70           140    79\n",
            "122                 38              0.75           140    95\n",
            "\n",
            "[207 rows x 4 columns]\n",
            "106    0\n",
            "260    0\n",
            "45     1\n",
            "26     1\n",
            "221    0\n",
            "      ..\n",
            "163    1\n",
            "184    1\n",
            "187    1\n",
            "286    0\n",
            "263    0\n",
            "Name: DEATH_EVENT, Length: 90, dtype: int64\n"
          ]
        }
      ]
    },
    {
      "cell_type": "code",
      "source": [
        "from sklearn.preprocessing import StandardScaler\n",
        "sc = StandardScaler()\n",
        "x_train = sc.fit_transform(x_train)\n",
        "x_test = sc.transform(x_test)"
      ],
      "metadata": {
        "id": "KS3fEHfybuT-"
      },
      "execution_count": 119,
      "outputs": []
    },
    {
      "cell_type": "code",
      "source": [
        "# Making Confusion Matrix and calculating accuracy score\n",
        "from sklearn.linear_model import LogisticRegression\n",
        "from sklearn.metrics import confusion_matrix, accuracy_score\n",
        "\n",
        "model = LogisticRegression()\n",
        "\n",
        "#Fit the model\n",
        "model.fit(x_train, y_train)\n",
        "y_pred = model.predict(x_test)\n",
        "\n",
        "mylist = []\n",
        "# Confusion Matrix\n",
        "cm = confusion_matrix(y_test, y_pred)\n",
        "# accuracy score\n",
        "acc_logreg = accuracy_score(y_test, y_pred)\n",
        "\n",
        "\n",
        "mylist.append(acc_logreg)\n",
        "print(cm)\n",
        "print(acc_logreg)\n",
        "\n",
        "\n",
        "#accuracy1=(cm[0,0]+cm[1,1])/total1\n",
        "print ('Accuracy : ', acc_logreg)\n",
        "\n",
        "sensitivity1 = cm[0,0]/(cm[0,0]+cm[0,1])\n",
        "print('Sensitivity : ', sensitivity1 )\n",
        "\n",
        "specificity1 = cm[1,1]/(cm[1,0]+cm[1,1])\n",
        "print('Specificity : ', specificity1)\n",
        "\n",
        "auc = metrics.roc_auc_score(y_test, y_pred)\n",
        "print('Area Under Curve : ', auc)"
      ],
      "metadata": {
        "colab": {
          "base_uri": "https://localhost:8080/"
        },
        "id": "LG-QKLMjb0gV",
        "outputId": "fb814a1c-7751-4e83-dda5-37349f6d2612"
      },
      "execution_count": 120,
      "outputs": [
        {
          "output_type": "stream",
          "name": "stdout",
          "text": [
            "[[57  4]\n",
            " [ 9 20]]\n",
            "0.8555555555555555\n",
            "Accuracy :  0.8555555555555555\n",
            "Sensitivity :  0.9344262295081968\n",
            "Specificity :  0.6896551724137931\n",
            "Area Under Curve :  0.8120407009609949\n"
          ]
        }
      ]
    },
    {
      "cell_type": "code",
      "source": [
        "# Finding the optimum number of neighbors \n",
        "\n",
        "from sklearn.neighbors import KNeighborsClassifier\n",
        "from sklearn.metrics import confusion_matrix, accuracy_score\n",
        "\n",
        "list1 = []\n",
        "for neighbors in range(3,10):\n",
        "    classifier = KNeighborsClassifier(n_neighbors=neighbors, metric='minkowski')\n",
        "    classifier.fit(x_train, y_train)\n",
        "    y_pred = classifier.predict(x_test)\n",
        "    list1.append(accuracy_score(y_test,y_pred))\n",
        "plt.plot(list(range(3,10)), list1)\n",
        "plt.show()"
      ],
      "metadata": {
        "colab": {
          "base_uri": "https://localhost:8080/",
          "height": 377
        },
        "id": "Cw6rp4EKb3PR",
        "outputId": "58db4dba-d62c-4533-ea54-827f8136d345"
      },
      "execution_count": 121,
      "outputs": [
        {
          "output_type": "display_data",
          "data": {
            "text/plain": [
              "<Figure size 1080x432 with 1 Axes>"
            ],
            "image/png": "[encoded data removed]"
          },
          "metadata": {}
        }
      ]
    },
    {
      "cell_type": "code",
      "source": [
        "# Training the K Nearest Neighbor Classifier on the Training set\n",
        "\n",
        "classifier = KNeighborsClassifier(n_neighbors=5)\n",
        "classifier.fit(x_train, y_train)"
      ],
      "metadata": {
        "colab": {
          "base_uri": "https://localhost:8080/"
        },
        "id": "_nJ0vE3Kb6yp",
        "outputId": "18eb88e9-eb8d-4f62-a14b-a6b6d04138ee"
      },
      "execution_count": 122,
      "outputs": [
        {
          "output_type": "execute_result",
          "data": {
            "text/plain": [
              "KNeighborsClassifier()"
            ]
          },
          "metadata": {},
          "execution_count": 122
        }
      ]
    },
    {
      "cell_type": "code",
      "source": [
        "# Predicting the Test set results\n",
        "\n",
        "y_pred = classifier.predict(x_test)\n",
        "print(y_pred)"
      ],
      "metadata": {
        "colab": {
          "base_uri": "https://localhost:8080/"
        },
        "id": "lhHuQYrHb9s3",
        "outputId": "602c2c18-f2a4-4710-b27c-4de26e9f8a0c"
      },
      "execution_count": 123,
      "outputs": [
        {
          "output_type": "stream",
          "name": "stdout",
          "text": [
            "[0 0 1 1 0 0 0 0 0 1 0 0 0 1 0 0 0 0 1 0 0 0 0 0 0 0 1 0 0 0 1 0 1 1 1 1 0\n",
            " 0 0 1 0 0 0 0 1 1 0 0 0 1 0 0 0 0 1 0 1 0 0 0 0 1 0 0 0 1 0 0 1 0 0 1 0 0\n",
            " 0 0 1 0 0 1 0 0 1 0 0 0 1 0 0 0]\n"
          ]
        }
      ]
    },
    {
      "cell_type": "code",
      "source": [
        "# Making the confusion matrix and calculating accuracy score\n",
        "\n",
        "from sklearn.metrics import confusion_matrix, accuracy_score\n",
        "cm = confusion_matrix(y_test, y_pred)\n",
        "acc_knn = accuracy_score(y_test, y_pred)\n",
        "mylist.append(acc_knn)\n",
        "print(cm)\n",
        "print(acc_knn)\n",
        "total1=sum(sum(cm))\n",
        "\n",
        "accuracy1=(cm[0,0]+cm[1,1])/total1\n",
        "print ('Accuracy : ', accuracy1)\n",
        "\n",
        "sensitivity1 = cm[0,0]/(cm[0,0]+cm[0,1])\n",
        "print('Sensitivity : ', sensitivity1 )\n",
        "\n",
        "specificity1 = cm[1,1]/(cm[1,0]+cm[1,1])\n",
        "print('Specificity : ', specificity1)\n",
        "\n",
        "auc = metrics.roc_auc_score(y_test, y_pred)\n",
        "print('Area Under Curve : ', auc)"
      ],
      "metadata": {
        "colab": {
          "base_uri": "https://localhost:8080/"
        },
        "id": "0v6W2CQGcACe",
        "outputId": "342697bb-346c-4c6f-bd2a-4d543541c853"
      },
      "execution_count": 124,
      "outputs": [
        {
          "output_type": "stream",
          "name": "stdout",
          "text": [
            "[[55  6]\n",
            " [10 19]]\n",
            "0.8222222222222222\n",
            "Accuracy :  0.8222222222222222\n",
            "Sensitivity :  0.9016393442622951\n",
            "Specificity :  0.6551724137931034\n",
            "Area Under Curve :  0.7784058790276992\n"
          ]
        }
      ]
    },
    {
      "cell_type": "code",
      "source": [
        "from sklearn.svm import SVC\n",
        "from sklearn.metrics import confusion_matrix, accuracy_score\n",
        "list1 = []\n",
        "for c in [0.5,0.6,0.7,0.8,0.9,1.0]:\n",
        "    classifier = SVC(C = c, random_state=0, kernel = 'rbf')\n",
        "    classifier.fit(x_train, y_train)\n",
        "    y_pred = classifier.predict(x_test)\n",
        "    list1.append(accuracy_score(y_test,y_pred))\n",
        "plt.plot([0.5,0.6,0.7,0.8,0.9,1.0], list1)\n",
        "plt.show()"
      ],
      "metadata": {
        "colab": {
          "base_uri": "https://localhost:8080/",
          "height": 377
        },
        "id": "dd_JCMJkcEWS",
        "outputId": "15fb3306-5892-45e0-f9a9-b7f07e8bb7b6"
      },
      "execution_count": 125,
      "outputs": [
        {
          "output_type": "display_data",
          "data": {
            "text/plain": [
              "<Figure size 1080x432 with 1 Axes>"
            ],
            "image/png": "[encoded data removed]"
          },
          "metadata": {}
        }
      ]
    },
    {
      "cell_type": "code",
      "source": [
        "# Training the Support Vector Classifier on the Training set\n",
        "\n",
        "from sklearn.svm import SVC\n",
        "classifier = SVC(C = 0.7, random_state=0, kernel = 'rbf')\n",
        "classifier.fit(x_train, y_train)"
      ],
      "metadata": {
        "colab": {
          "base_uri": "https://localhost:8080/"
        },
        "id": "T6vB85kAcGuk",
        "outputId": "dda0adde-efa7-45a9-f33e-9fc437ae6cae"
      },
      "execution_count": 126,
      "outputs": [
        {
          "output_type": "execute_result",
          "data": {
            "text/plain": [
              "SVC(C=0.7, random_state=0)"
            ]
          },
          "metadata": {},
          "execution_count": 126
        }
      ]
    },
    {
      "cell_type": "code",
      "source": [
        "# Predicting the test set results\n",
        "\n",
        "y_pred = classifier.predict(x_test)\n",
        "print(y_pred)"
      ],
      "metadata": {
        "colab": {
          "base_uri": "https://localhost:8080/"
        },
        "id": "fP_Rg1yxcLM0",
        "outputId": "7ce2a303-5951-4cf7-c84f-13917b9093cd"
      },
      "execution_count": 127,
      "outputs": [
        {
          "output_type": "stream",
          "name": "stdout",
          "text": [
            "[0 0 1 1 0 0 0 0 0 1 0 0 0 1 0 1 0 0 0 0 0 1 0 0 0 0 1 0 0 0 0 0 1 1 1 1 1\n",
            " 0 0 0 0 0 0 0 1 1 0 0 0 1 0 0 0 0 1 1 1 0 0 0 0 1 0 0 0 1 0 0 1 0 0 1 1 0\n",
            " 0 0 1 0 0 1 0 0 1 0 0 0 0 0 0 0]\n"
          ]
        }
      ]
    },
    {
      "cell_type": "code",
      "source": [
        "# Making the confusion matrix and calculating accuracy score\n",
        "\n",
        "from sklearn.metrics import confusion_matrix, accuracy_score\n",
        "cm = confusion_matrix(y_test, y_pred)\n",
        "acc_svc = accuracy_score(y_test, y_pred)\n",
        "print(cm)\n",
        "print(acc_svc)\n",
        "mylist.append(acc_svc)\n",
        "\n",
        "accuracy1=(cm[0,0]+cm[1,1])/total1\n",
        "print ('Accuracy : ', accuracy1)\n",
        "\n",
        "sensitivity1 = cm[0,0]/(cm[0,0]+cm[0,1])\n",
        "print('Sensitivity : ', sensitivity1 )\n",
        "\n",
        "specificity1 = cm[1,1]/(cm[1,0]+cm[1,1])\n",
        "print('Specificity : ', specificity1)\n",
        "\n",
        "auc = metrics.roc_auc_score(y_test, y_pred)\n",
        "print('Area Under Curve : ', auc)"
      ],
      "metadata": {
        "colab": {
          "base_uri": "https://localhost:8080/"
        },
        "id": "yvAmhbNxcNAo",
        "outputId": "77626cf9-dec3-4c41-9860-7c89f0df2473"
      },
      "execution_count": 128,
      "outputs": [
        {
          "output_type": "stream",
          "name": "stdout",
          "text": [
            "[[56  5]\n",
            " [ 8 21]]\n",
            "0.8555555555555555\n",
            "Accuracy :  0.8555555555555555\n",
            "Sensitivity :  0.9180327868852459\n",
            "Specificity :  0.7241379310344828\n",
            "Area Under Curve :  0.8210853589598643\n"
          ]
        }
      ]
    },
    {
      "cell_type": "code",
      "source": [
        "# Finding the optimum number of max_leaf_nodes\n",
        "\n",
        "from sklearn.tree import DecisionTreeClassifier\n",
        "from sklearn.metrics import confusion_matrix, accuracy_score\n",
        "list1 = []\n",
        "for leaves in range(2,15):\n",
        "    classifier = DecisionTreeClassifier(max_leaf_nodes = leaves, random_state=0, criterion='entropy')\n",
        "    classifier.fit(x_train, y_train)\n",
        "    y_pred = classifier.predict(x_test)\n",
        "    list1.append(accuracy_score(y_test,y_pred))\n",
        "#print(mylist)\n",
        "plt.plot(list(range(2,15)), list1)\n",
        "plt.show()"
      ],
      "metadata": {
        "colab": {
          "base_uri": "https://localhost:8080/",
          "height": 377
        },
        "id": "MJfw8y_ccOwK",
        "outputId": "04ad7d19-26ed-429d-e7a0-777d23f9f1bc"
      },
      "execution_count": 129,
      "outputs": [
        {
          "output_type": "display_data",
          "data": {
            "text/plain": [
              "<Figure size 1080x432 with 1 Axes>"
            ],
            "image/png": "[encoded data removed]"
          },
          "metadata": {}
        }
      ]
    },
    {
      "cell_type": "code",
      "source": [
        "# Training the Decision Tree Classifier on the Training set\n",
        "\n",
        "classifier = DecisionTreeClassifier(max_leaf_nodes = 10, random_state=0, criterion='entropy')\n",
        "classifier.fit(x_train, y_train)"
      ],
      "metadata": {
        "colab": {
          "base_uri": "https://localhost:8080/"
        },
        "id": "8nUoV6PgcSbd",
        "outputId": "7f25f784-fb55-4836-c892-89ce445f65a2"
      },
      "execution_count": 130,
      "outputs": [
        {
          "output_type": "execute_result",
          "data": {
            "text/plain": [
              "DecisionTreeClassifier(criterion='entropy', max_leaf_nodes=10, random_state=0)"
            ]
          },
          "metadata": {},
          "execution_count": 130
        }
      ]
    },
    {
      "cell_type": "code",
      "source": [
        "# Predicting the test set results\n",
        "\n",
        "y_pred = classifier.predict(x_test)\n",
        "print(y_pred)"
      ],
      "metadata": {
        "colab": {
          "base_uri": "https://localhost:8080/"
        },
        "id": "ZnGKlMcqcUY0",
        "outputId": "ee693478-96f8-40d0-b0ec-3dd5f1630871"
      },
      "execution_count": 131,
      "outputs": [
        {
          "output_type": "stream",
          "name": "stdout",
          "text": [
            "[0 0 1 1 0 0 0 0 0 1 0 0 0 1 0 1 0 0 0 0 0 1 1 0 0 0 1 0 0 0 0 0 1 1 1 1 1\n",
            " 0 0 0 0 0 0 0 1 1 0 0 0 1 0 0 0 0 1 1 1 0 0 0 0 1 1 0 0 1 0 0 1 0 0 0 1 1\n",
            " 0 0 1 0 0 1 0 0 1 0 0 0 0 1 0 0]\n"
          ]
        }
      ]
    },
    {
      "cell_type": "code",
      "source": [
        "# Making the confusion matrix and calculating accuracy score\n",
        "\n",
        "from sklearn.metrics import confusion_matrix, accuracy_score\n",
        "cm = confusion_matrix(y_test, y_pred)\n",
        "acc_decisiontree = accuracy_score(y_test, y_pred)\n",
        "print(cm)\n",
        "print(acc_decisiontree)\n",
        "mylist.append(acc_decisiontree)\n",
        "\n",
        "accuracy1=(cm[0,0]+cm[1,1])/total1\n",
        "print ('Accuracy : ', accuracy1)\n",
        "\n",
        "sensitivity1 = cm[0,0]/(cm[0,0]+cm[0,1])\n",
        "print('Sensitivity : ', sensitivity1 )\n",
        "\n",
        "specificity1 = cm[1,1]/(cm[1,0]+cm[1,1])\n",
        "print('Specificity : ', specificity1)\n",
        "\n",
        "auc = metrics.roc_auc_score(y_test, y_pred)\n",
        "print('Area Under Curve : ', auc)"
      ],
      "metadata": {
        "colab": {
          "base_uri": "https://localhost:8080/"
        },
        "id": "Yf3mKvBOcWQN",
        "outputId": "dbda1dce-b9a7-44af-a0f7-d02946250561"
      },
      "execution_count": 132,
      "outputs": [
        {
          "output_type": "stream",
          "name": "stdout",
          "text": [
            "[[56  5]\n",
            " [ 5 24]]\n",
            "0.8888888888888888\n",
            "Accuracy :  0.8888888888888888\n",
            "Sensitivity :  0.9180327868852459\n",
            "Specificity :  0.8275862068965517\n",
            "Area Under Curve :  0.8728094968908987\n"
          ]
        }
      ]
    },
    {
      "cell_type": "code",
      "source": [
        "#Finding the optimum number of n_estimators\n",
        "\n",
        "from sklearn.ensemble import RandomForestClassifier\n",
        "from sklearn.metrics import confusion_matrix, accuracy_score\n",
        "list1 = []\n",
        "for estimators in range(10,30):\n",
        "    classifier = RandomForestClassifier(n_estimators = estimators, random_state=0, criterion='entropy')\n",
        "    classifier.fit(x_train, y_train)\n",
        "    y_pred = classifier.predict(x_test)\n",
        "    list1.append(accuracy_score(y_test,y_pred))\n",
        "#print(mylist)\n",
        "plt.plot(list(range(10,30)), list1)\n",
        "plt.show()"
      ],
      "metadata": {
        "colab": {
          "base_uri": "https://localhost:8080/",
          "height": 378
        },
        "id": "2oEKHENHcYQn",
        "outputId": "8482762e-1577-4489-ec70-2c48b25bd977"
      },
      "execution_count": 133,
      "outputs": [
        {
          "output_type": "display_data",
          "data": {
            "text/plain": [
              "<Figure size 1080x432 with 1 Axes>"
            ],
            "image/png": "[encoded data removed]"
          },
          "metadata": {}
        }
      ]
    },
    {
      "cell_type": "code",
      "source": [
        "# Training the RandomForest Classifier on the Training set\n",
        "\n",
        "from sklearn.ensemble import RandomForestClassifier\n",
        "classifier = RandomForestClassifier(n_estimators = 15, criterion='entropy', random_state=0)\n",
        "classifier.fit(x_train,y_train)"
      ],
      "metadata": {
        "colab": {
          "base_uri": "https://localhost:8080/"
        },
        "id": "aQfhV3vscdMA",
        "outputId": "ce0b6817-8187-4946-f397-209e7749e1bb"
      },
      "execution_count": 134,
      "outputs": [
        {
          "output_type": "execute_result",
          "data": {
            "text/plain": [
              "RandomForestClassifier(criterion='entropy', n_estimators=15, random_state=0)"
            ]
          },
          "metadata": {},
          "execution_count": 134
        }
      ]
    },
    {
      "cell_type": "code",
      "source": [
        "# Predicting the test set results\n",
        "\n",
        "y_pred = classifier.predict(x_test)\n",
        "print(y_pred)"
      ],
      "metadata": {
        "colab": {
          "base_uri": "https://localhost:8080/"
        },
        "id": "3qtRLT-Fcfws",
        "outputId": "e2f95d47-0e16-4ea1-d0ca-7848328fcde9"
      },
      "execution_count": 135,
      "outputs": [
        {
          "output_type": "stream",
          "name": "stdout",
          "text": [
            "[0 0 1 1 0 0 0 0 0 1 1 0 0 1 0 1 0 0 0 0 0 0 0 0 0 0 1 0 0 0 1 0 1 1 1 1 1\n",
            " 0 0 0 0 0 0 1 1 1 0 0 0 1 0 0 0 1 0 1 1 0 0 0 0 1 1 0 0 0 1 0 0 0 0 1 0 1\n",
            " 0 0 1 0 0 1 0 0 1 0 0 0 0 0 0 0]\n"
          ]
        }
      ]
    },
    {
      "cell_type": "code",
      "source": [
        "# Making the confusion matrix and calculating the accuracy score\n",
        "\n",
        "from sklearn.metrics import confusion_matrix, accuracy_score\n",
        "cm = confusion_matrix(y_test, y_pred)\n",
        "acc_randomforest = accuracy_score(y_test, y_pred)\n",
        "mylist.append(acc_randomforest)\n",
        "print(cm)\n",
        "print(acc_randomforest)\n",
        "\n",
        "accuracy1=(cm[0,0]+cm[1,1])/total1\n",
        "print ('Accuracy : ', accuracy1)\n",
        "\n",
        "sensitivity1 = cm[0,0]/(cm[0,0]+cm[0,1])\n",
        "print('Sensitivity : ', sensitivity1 )\n",
        "\n",
        "specificity1 = cm[1,1]/(cm[1,0]+cm[1,1])\n",
        "print('Specificity : ', specificity1)\n",
        "\n",
        "auc = metrics.roc_auc_score(y_test, y_pred)\n",
        "print('Area Under Curve : ', auc)"
      ],
      "metadata": {
        "colab": {
          "base_uri": "https://localhost:8080/"
        },
        "id": "x_BIhTCPchU8",
        "outputId": "05d19efe-f163-4618-fcbf-3159cbb522a3"
      },
      "execution_count": 136,
      "outputs": [
        {
          "output_type": "stream",
          "name": "stdout",
          "text": [
            "[[56  5]\n",
            " [ 6 23]]\n",
            "0.8777777777777778\n",
            "Accuracy :  0.8777777777777778\n",
            "Sensitivity :  0.9180327868852459\n",
            "Specificity :  0.7931034482758621\n",
            "Area Under Curve :  0.8555681175805541\n"
          ]
        }
      ]
    },
    {
      "cell_type": "code",
      "source": [
        "np.random.seed(0)\n",
        "import tensorflow as tf\n",
        "\n",
        "# Initialising the ANN\n",
        "\n",
        "ann = tf.keras.models.Sequential()"
      ],
      "metadata": {
        "id": "vMBu0Z2kcjSW"
      },
      "execution_count": 137,
      "outputs": []
    },
    {
      "cell_type": "code",
      "source": [
        "# Adding the input layer and the first hidden layer\n",
        "\n",
        "ann.add(tf.keras.layers.Dense(units = 7, activation = 'relu'))"
      ],
      "metadata": {
        "id": "uQHJmr1BclIL"
      },
      "execution_count": 138,
      "outputs": []
    },
    {
      "cell_type": "code",
      "source": [
        "ann.add(tf.keras.layers.Dense(units = 7, activation = 'relu'))\n"
      ],
      "metadata": {
        "id": "3sIofcY3csZI"
      },
      "execution_count": 139,
      "outputs": []
    },
    {
      "cell_type": "code",
      "source": [
        "# Adding the third hidden layer\n",
        "\n",
        "ann.add(tf.keras.layers.Dense(units = 7, activation = 'relu'))"
      ],
      "metadata": {
        "id": "bCmgu-tkcs9g"
      },
      "execution_count": 140,
      "outputs": []
    },
    {
      "cell_type": "code",
      "source": [
        "# Adding the fourth hidden layer\n",
        "\n",
        "ann.add(tf.keras.layers.Dense(units = 7, activation = 'relu'))"
      ],
      "metadata": {
        "id": "RRusXk4ycu5M"
      },
      "execution_count": 141,
      "outputs": []
    },
    {
      "cell_type": "code",
      "source": [
        "# Adding the output layer\n",
        "\n",
        "ann.add(tf.keras.layers.Dense(units = 1, activation = 'sigmoid'))"
      ],
      "metadata": {
        "id": "m32RtpnRcwdZ"
      },
      "execution_count": 142,
      "outputs": []
    },
    {
      "cell_type": "code",
      "source": [
        "# Compiling the ANN\n",
        "\n",
        "ann.compile(optimizer = 'adam', loss = 'binary_crossentropy' , metrics = ['accuracy'] )"
      ],
      "metadata": {
        "id": "qGrXhbmecykT"
      },
      "execution_count": 143,
      "outputs": []
    },
    {
      "cell_type": "code",
      "source": [
        "# Training the ANN on the training set\n",
        "\n",
        "ann.fit(x_train, y_train, batch_size = 16, epochs = 100)"
      ],
      "metadata": {
        "colab": {
          "base_uri": "https://localhost:8080/"
        },
        "id": "yGvp0h22c0oy",
        "outputId": "8c98e477-9249-4b97-ad2e-943087398bc4"
      },
      "execution_count": 144,
      "outputs": [
        {
          "output_type": "stream",
          "name": "stdout",
          "text": [
            "Epoch 1/100\n",
            "13/13 [==============================] - 1s 3ms/step - loss: 0.6642 - accuracy: 0.6812\n",
            "Epoch 2/100\n",
            "13/13 [==============================] - 0s 4ms/step - loss: 0.6305 - accuracy: 0.6860\n",
            "Epoch 3/100\n",
            "13/13 [==============================] - 0s 2ms/step - loss: 0.6051 - accuracy: 0.6860\n",
            "Epoch 4/100\n",
            "13/13 [==============================] - 0s 5ms/step - loss: 0.5799 - accuracy: 0.6957\n",
            "Epoch 5/100\n",
            "13/13 [==============================] - 0s 4ms/step - loss: 0.5613 - accuracy: 0.6957\n",
            "Epoch 6/100\n",
            "13/13 [==============================] - 0s 4ms/step - loss: 0.5428 - accuracy: 0.7101\n",
            "Epoch 7/100\n",
            "13/13 [==============================] - 0s 3ms/step - loss: 0.5276 - accuracy: 0.7295\n",
            "Epoch 8/100\n",
            "13/13 [==============================] - 0s 5ms/step - loss: 0.5132 - accuracy: 0.7536\n",
            "Epoch 9/100\n",
            "13/13 [==============================] - 0s 3ms/step - loss: 0.5009 - accuracy: 0.7681\n",
            "Epoch 10/100\n",
            "13/13 [==============================] - 0s 4ms/step - loss: 0.4889 - accuracy: 0.7923\n",
            "Epoch 11/100\n",
            "13/13 [==============================] - 0s 3ms/step - loss: 0.4761 - accuracy: 0.7874\n",
            "Epoch 12/100\n",
            "13/13 [==============================] - 0s 3ms/step - loss: 0.4657 - accuracy: 0.7971\n",
            "Epoch 13/100\n",
            "13/13 [==============================] - 0s 4ms/step - loss: 0.4556 - accuracy: 0.7971\n",
            "Epoch 14/100\n",
            "13/13 [==============================] - 0s 4ms/step - loss: 0.4457 - accuracy: 0.7971\n",
            "Epoch 15/100\n",
            "13/13 [==============================] - 0s 4ms/step - loss: 0.4357 - accuracy: 0.8019\n",
            "Epoch 16/100\n",
            "13/13 [==============================] - 0s 5ms/step - loss: 0.4259 - accuracy: 0.7971\n",
            "Epoch 17/100\n",
            "13/13 [==============================] - 0s 3ms/step - loss: 0.4187 - accuracy: 0.8019\n",
            "Epoch 18/100\n",
            "13/13 [==============================] - 0s 3ms/step - loss: 0.4115 - accuracy: 0.8019\n",
            "Epoch 19/100\n",
            "13/13 [==============================] - 0s 3ms/step - loss: 0.4039 - accuracy: 0.8068\n",
            "Epoch 20/100\n",
            "13/13 [==============================] - 0s 4ms/step - loss: 0.3989 - accuracy: 0.8164\n",
            "Epoch 21/100\n",
            "13/13 [==============================] - 0s 3ms/step - loss: 0.3932 - accuracy: 0.8164\n",
            "Epoch 22/100\n",
            "13/13 [==============================] - 0s 3ms/step - loss: 0.3885 - accuracy: 0.8213\n",
            "Epoch 23/100\n",
            "13/13 [==============================] - 0s 3ms/step - loss: 0.3837 - accuracy: 0.8309\n",
            "Epoch 24/100\n",
            "13/13 [==============================] - 0s 3ms/step - loss: 0.3786 - accuracy: 0.8309\n",
            "Epoch 25/100\n",
            "13/13 [==============================] - 0s 3ms/step - loss: 0.3740 - accuracy: 0.8357\n",
            "Epoch 26/100\n",
            "13/13 [==============================] - 0s 3ms/step - loss: 0.3713 - accuracy: 0.8357\n",
            "Epoch 27/100\n",
            "13/13 [==============================] - 0s 3ms/step - loss: 0.3678 - accuracy: 0.8357\n",
            "Epoch 28/100\n",
            "13/13 [==============================] - 0s 3ms/step - loss: 0.3654 - accuracy: 0.8357\n",
            "Epoch 29/100\n",
            "13/13 [==============================] - 0s 3ms/step - loss: 0.3618 - accuracy: 0.8406\n",
            "Epoch 30/100\n",
            "13/13 [==============================] - 0s 4ms/step - loss: 0.3619 - accuracy: 0.8406\n",
            "Epoch 31/100\n",
            "13/13 [==============================] - 0s 3ms/step - loss: 0.3618 - accuracy: 0.8502\n",
            "Epoch 32/100\n",
            "13/13 [==============================] - 0s 3ms/step - loss: 0.3558 - accuracy: 0.8454\n",
            "Epoch 33/100\n",
            "13/13 [==============================] - 0s 3ms/step - loss: 0.3524 - accuracy: 0.8454\n",
            "Epoch 34/100\n",
            "13/13 [==============================] - 0s 3ms/step - loss: 0.3509 - accuracy: 0.8454\n",
            "Epoch 35/100\n",
            "13/13 [==============================] - 0s 3ms/step - loss: 0.3488 - accuracy: 0.8551\n",
            "Epoch 36/100\n",
            "13/13 [==============================] - 0s 4ms/step - loss: 0.3471 - accuracy: 0.8502\n",
            "Epoch 37/100\n",
            "13/13 [==============================] - 0s 3ms/step - loss: 0.3448 - accuracy: 0.8599\n",
            "Epoch 38/100\n",
            "13/13 [==============================] - 0s 3ms/step - loss: 0.3445 - accuracy: 0.8599\n",
            "Epoch 39/100\n",
            "13/13 [==============================] - 0s 4ms/step - loss: 0.3423 - accuracy: 0.8647\n",
            "Epoch 40/100\n",
            "13/13 [==============================] - 0s 5ms/step - loss: 0.3399 - accuracy: 0.8647\n",
            "Epoch 41/100\n",
            "13/13 [==============================] - 0s 4ms/step - loss: 0.3392 - accuracy: 0.8599\n",
            "Epoch 42/100\n",
            "13/13 [==============================] - 0s 5ms/step - loss: 0.3423 - accuracy: 0.8502\n",
            "Epoch 43/100\n",
            "13/13 [==============================] - 0s 3ms/step - loss: 0.3365 - accuracy: 0.8647\n",
            "Epoch 44/100\n",
            "13/13 [==============================] - 0s 4ms/step - loss: 0.3350 - accuracy: 0.8599\n",
            "Epoch 45/100\n",
            "13/13 [==============================] - 0s 3ms/step - loss: 0.3353 - accuracy: 0.8744\n",
            "Epoch 46/100\n",
            "13/13 [==============================] - 0s 3ms/step - loss: 0.3357 - accuracy: 0.8696\n",
            "Epoch 47/100\n",
            "13/13 [==============================] - 0s 4ms/step - loss: 0.3309 - accuracy: 0.8647\n",
            "Epoch 48/100\n",
            "13/13 [==============================] - 0s 3ms/step - loss: 0.3290 - accuracy: 0.8696\n",
            "Epoch 49/100\n",
            "13/13 [==============================] - 0s 3ms/step - loss: 0.3266 - accuracy: 0.8744\n",
            "Epoch 50/100\n",
            "13/13 [==============================] - 0s 4ms/step - loss: 0.3259 - accuracy: 0.8696\n",
            "Epoch 51/100\n",
            "13/13 [==============================] - 0s 3ms/step - loss: 0.3248 - accuracy: 0.8696\n",
            "Epoch 52/100\n",
            "13/13 [==============================] - 0s 5ms/step - loss: 0.3239 - accuracy: 0.8647\n",
            "Epoch 53/100\n",
            "13/13 [==============================] - 0s 5ms/step - loss: 0.3241 - accuracy: 0.8696\n",
            "Epoch 54/100\n",
            "13/13 [==============================] - 0s 4ms/step - loss: 0.3206 - accuracy: 0.8696\n",
            "Epoch 55/100\n",
            "13/13 [==============================] - 0s 3ms/step - loss: 0.3202 - accuracy: 0.8696\n",
            "Epoch 56/100\n",
            "13/13 [==============================] - 0s 3ms/step - loss: 0.3195 - accuracy: 0.8647\n",
            "Epoch 57/100\n",
            "13/13 [==============================] - 0s 3ms/step - loss: 0.3207 - accuracy: 0.8696\n",
            "Epoch 58/100\n",
            "13/13 [==============================] - 0s 4ms/step - loss: 0.3176 - accuracy: 0.8696\n",
            "Epoch 59/100\n",
            "13/13 [==============================] - 0s 4ms/step - loss: 0.3177 - accuracy: 0.8696\n",
            "Epoch 60/100\n",
            "13/13 [==============================] - 0s 4ms/step - loss: 0.3165 - accuracy: 0.8696\n",
            "Epoch 61/100\n",
            "13/13 [==============================] - 0s 4ms/step - loss: 0.3151 - accuracy: 0.8696\n",
            "Epoch 62/100\n",
            "13/13 [==============================] - 0s 3ms/step - loss: 0.3144 - accuracy: 0.8696\n",
            "Epoch 63/100\n",
            "13/13 [==============================] - 0s 4ms/step - loss: 0.3134 - accuracy: 0.8696\n",
            "Epoch 64/100\n",
            "13/13 [==============================] - 0s 4ms/step - loss: 0.3125 - accuracy: 0.8696\n",
            "Epoch 65/100\n",
            "13/13 [==============================] - 0s 3ms/step - loss: 0.3126 - accuracy: 0.8696\n",
            "Epoch 66/100\n",
            "13/13 [==============================] - 0s 4ms/step - loss: 0.3120 - accuracy: 0.8696\n",
            "Epoch 67/100\n",
            "13/13 [==============================] - 0s 5ms/step - loss: 0.3104 - accuracy: 0.8647\n",
            "Epoch 68/100\n",
            "13/13 [==============================] - 0s 3ms/step - loss: 0.3102 - accuracy: 0.8744\n",
            "Epoch 69/100\n",
            "13/13 [==============================] - 0s 4ms/step - loss: 0.3107 - accuracy: 0.8696\n",
            "Epoch 70/100\n",
            "13/13 [==============================] - 0s 3ms/step - loss: 0.3081 - accuracy: 0.8647\n",
            "Epoch 71/100\n",
            "13/13 [==============================] - 0s 3ms/step - loss: 0.3069 - accuracy: 0.8792\n",
            "Epoch 72/100\n",
            "13/13 [==============================] - 0s 2ms/step - loss: 0.3073 - accuracy: 0.8744\n",
            "Epoch 73/100\n",
            "13/13 [==============================] - 0s 3ms/step - loss: 0.3061 - accuracy: 0.8744\n",
            "Epoch 74/100\n",
            "13/13 [==============================] - 0s 3ms/step - loss: 0.3052 - accuracy: 0.8792\n",
            "Epoch 75/100\n",
            "13/13 [==============================] - 0s 3ms/step - loss: 0.3055 - accuracy: 0.8744\n",
            "Epoch 76/100\n",
            "13/13 [==============================] - 0s 3ms/step - loss: 0.3047 - accuracy: 0.8744\n",
            "Epoch 77/100\n",
            "13/13 [==============================] - 0s 3ms/step - loss: 0.3031 - accuracy: 0.8744\n",
            "Epoch 78/100\n",
            "13/13 [==============================] - 0s 3ms/step - loss: 0.3028 - accuracy: 0.8744\n",
            "Epoch 79/100\n",
            "13/13 [==============================] - 0s 2ms/step - loss: 0.3022 - accuracy: 0.8744\n",
            "Epoch 80/100\n",
            "13/13 [==============================] - 0s 2ms/step - loss: 0.3010 - accuracy: 0.8744\n",
            "Epoch 81/100\n",
            "13/13 [==============================] - 0s 3ms/step - loss: 0.2999 - accuracy: 0.8792\n",
            "Epoch 82/100\n",
            "13/13 [==============================] - 0s 2ms/step - loss: 0.2998 - accuracy: 0.8841\n",
            "Epoch 83/100\n",
            "13/13 [==============================] - 0s 2ms/step - loss: 0.2993 - accuracy: 0.8841\n",
            "Epoch 84/100\n",
            "13/13 [==============================] - 0s 2ms/step - loss: 0.2986 - accuracy: 0.8841\n",
            "Epoch 85/100\n",
            "13/13 [==============================] - 0s 2ms/step - loss: 0.2976 - accuracy: 0.8792\n",
            "Epoch 86/100\n",
            "13/13 [==============================] - 0s 3ms/step - loss: 0.2973 - accuracy: 0.8744\n",
            "Epoch 87/100\n",
            "13/13 [==============================] - 0s 2ms/step - loss: 0.2971 - accuracy: 0.8792\n",
            "Epoch 88/100\n",
            "13/13 [==============================] - 0s 5ms/step - loss: 0.2957 - accuracy: 0.8792\n",
            "Epoch 89/100\n",
            "13/13 [==============================] - 0s 2ms/step - loss: 0.2951 - accuracy: 0.8841\n",
            "Epoch 90/100\n",
            "13/13 [==============================] - 0s 2ms/step - loss: 0.2954 - accuracy: 0.8792\n",
            "Epoch 91/100\n",
            "13/13 [==============================] - 0s 2ms/step - loss: 0.2944 - accuracy: 0.8792\n",
            "Epoch 92/100\n",
            "13/13 [==============================] - 0s 2ms/step - loss: 0.2929 - accuracy: 0.8792\n",
            "Epoch 93/100\n",
            "13/13 [==============================] - 0s 3ms/step - loss: 0.2945 - accuracy: 0.8744\n",
            "Epoch 94/100\n",
            "13/13 [==============================] - 0s 2ms/step - loss: 0.2922 - accuracy: 0.8744\n",
            "Epoch 95/100\n",
            "13/13 [==============================] - 0s 2ms/step - loss: 0.2914 - accuracy: 0.8792\n",
            "Epoch 96/100\n",
            "13/13 [==============================] - 0s 2ms/step - loss: 0.2922 - accuracy: 0.8792\n",
            "Epoch 97/100\n",
            "13/13 [==============================] - 0s 2ms/step - loss: 0.2904 - accuracy: 0.8792\n",
            "Epoch 98/100\n",
            "13/13 [==============================] - 0s 2ms/step - loss: 0.2902 - accuracy: 0.8744\n",
            "Epoch 99/100\n",
            "13/13 [==============================] - 0s 2ms/step - loss: 0.2920 - accuracy: 0.8744\n",
            "Epoch 100/100\n",
            "13/13 [==============================] - 0s 2ms/step - loss: 0.2919 - accuracy: 0.8647\n"
          ]
        },
        {
          "output_type": "execute_result",
          "data": {
            "text/plain": [
              "<keras.callbacks.History at 0x7f900f256670>"
            ]
          },
          "metadata": {},
          "execution_count": 144
        }
      ]
    },
    {
      "cell_type": "code",
      "source": [
        "# Predicting the test set results\n",
        "\n",
        "y_pred = ann.predict(x_test)\n",
        "y_pred = (y_pred > 0.5)\n",
        "np.set_printoptions()"
      ],
      "metadata": {
        "colab": {
          "base_uri": "https://localhost:8080/"
        },
        "id": "rGJGY6X7c2Sh",
        "outputId": "6e758c97-d952-4ef1-8221-7e12da8dbfc4"
      },
      "execution_count": 145,
      "outputs": [
        {
          "output_type": "stream",
          "name": "stdout",
          "text": [
            "3/3 [==============================] - 0s 5ms/step\n"
          ]
        }
      ]
    },
    {
      "cell_type": "code",
      "source": [
        "# Making the confusion matrix, calculating accuracy_score \n",
        "\n",
        "from sklearn.metrics import confusion_matrix, accuracy_score\n",
        "\n",
        "# confusion matrix\n",
        "cm = confusion_matrix(y_test,y_pred)\n",
        "print(\"Confusion Matrix\")\n",
        "print(cm)\n",
        "print()\n",
        "\n",
        "# accuracy\n",
        "ac_ann = accuracy_score(y_test,y_pred)\n",
        "print(\"Accuracy\")\n",
        "print(ac_ann)\n",
        "mylist.append(ac_ann)\n",
        "\n",
        "\n",
        "accuracy1=(cm[0,0]+cm[1,1])/total1\n",
        "print ('Accuracy : ', accuracy1)\n",
        "\n",
        "sensitivity1 = cm[0,0]/(cm[0,0]+cm[0,1])\n",
        "print('Sensitivity : ', sensitivity1 )\n",
        "\n",
        "specificity1 = cm[1,1]/(cm[1,0]+cm[1,1])\n",
        "print('Specificity : ', specificity1)\n",
        "\n",
        "auc = metrics.roc_auc_score(y_test, y_pred)\n",
        "print('Area Under Curve : ', auc)\n"
      ],
      "metadata": {
        "colab": {
          "base_uri": "https://localhost:8080/"
        },
        "id": "wcVPdcxVc5SN",
        "outputId": "b56beca9-2905-4c4b-8af7-14cf95227a7b"
      },
      "execution_count": 146,
      "outputs": [
        {
          "output_type": "stream",
          "name": "stdout",
          "text": [
            "Confusion Matrix\n",
            "[[54  7]\n",
            " [10 19]]\n",
            "\n",
            "Accuracy\n",
            "0.8111111111111111\n",
            "Accuracy :  0.8111111111111111\n",
            "Sensitivity :  0.8852459016393442\n",
            "Specificity :  0.6551724137931034\n",
            "Area Under Curve :  0.7702091577162238\n"
          ]
        }
      ]
    },
    {
      "cell_type": "code",
      "source": [
        "from xgboost import XGBClassifier\n",
        "from sklearn.metrics import confusion_matrix, accuracy_score\n",
        "list1 = []\n",
        "for estimators in range(10,30,1):\n",
        "    classifier = XGBClassifier(n_estimators = estimators, max_depth=12, subsample=0.7)\n",
        "    classifier.fit(x_train, y_train)\n",
        "    y_pred = classifier.predict(x_test)\n",
        "    list1.append(accuracy_score(y_test,y_pred))\n",
        "#print(mylist)\n",
        "plt.plot(list(range(10,30,1)), list1)\n",
        "plt.show()"
      ],
      "metadata": {
        "colab": {
          "base_uri": "https://localhost:8080/",
          "height": 377
        },
        "id": "uE1_zN7kc68Y",
        "outputId": "881bc775-9f5b-4c36-ddb5-c54f77017b10"
      },
      "execution_count": 147,
      "outputs": [
        {
          "output_type": "display_data",
          "data": {
            "text/plain": [
              "<Figure size 1080x432 with 1 Axes>"
            ],
            "image/png": "[encoded data removed]"
          },
          "metadata": {}
        }
      ]
    },
    {
      "cell_type": "code",
      "source": [
        "from xgboost import XGBClassifier\n",
        "classifier = XGBClassifier(n_estimators = 10, max_depth=12, subsample=0.7)\n",
        "classifier.fit(x_train,y_train)"
      ],
      "metadata": {
        "colab": {
          "base_uri": "https://localhost:8080/"
        },
        "id": "492ZYATSc9qy",
        "outputId": "0c9cfa19-6064-4727-90b8-cf40fab5a6aa"
      },
      "execution_count": 148,
      "outputs": [
        {
          "output_type": "execute_result",
          "data": {
            "text/plain": [
              "XGBClassifier(max_depth=12, n_estimators=10, subsample=0.7)"
            ]
          },
          "metadata": {},
          "execution_count": 148
        }
      ]
    },
    {
      "cell_type": "code",
      "source": [
        "y_pred = classifier.predict(x_test)\n",
        "print(y_pred)"
      ],
      "metadata": {
        "colab": {
          "base_uri": "https://localhost:8080/"
        },
        "id": "wCZRvsjRc_pm",
        "outputId": "b4d36135-abe2-4db1-ca79-e575bb18b1de"
      },
      "execution_count": 149,
      "outputs": [
        {
          "output_type": "stream",
          "name": "stdout",
          "text": [
            "[0 0 1 1 0 0 0 0 0 1 0 0 0 1 0 1 0 0 0 0 0 1 1 0 0 0 1 0 0 0 0 0 1 1 1 1 1\n",
            " 0 0 0 0 0 0 0 1 1 0 0 0 1 0 0 0 0 1 1 1 0 0 0 0 1 1 0 0 1 0 0 0 0 0 0 1 1\n",
            " 0 0 1 0 0 1 0 0 1 0 0 0 0 1 0 0]\n"
          ]
        }
      ]
    },
    {
      "cell_type": "code",
      "source": [
        "# Making the confusion matrix and calculating the accuracy score\n",
        "\n",
        "from sklearn.metrics import confusion_matrix, accuracy_score\n",
        "cm = confusion_matrix(y_test, y_pred)\n",
        "ac_xgboost = accuracy_score(y_test, y_pred)\n",
        "mylist.append(ac_xgboost)\n",
        "print(cm)\n",
        "print(ac_xgboost)\n",
        "\n",
        "accuracy1=(cm[0,0]+cm[1,1])/total1\n",
        "print ('Accuracy : ', accuracy1)\n",
        "\n",
        "sensitivity1 = cm[0,0]/(cm[0,0]+cm[0,1])\n",
        "print('Sensitivity : ', sensitivity1 )\n",
        "\n",
        "specificity1 = cm[1,1]/(cm[1,0]+cm[1,1])\n",
        "print('Specificity : ', specificity1)\n",
        "\n",
        "auc = metrics.roc_auc_score(y_test, y_pred)\n",
        "print('Area Under Curve : ', auc)"
      ],
      "metadata": {
        "colab": {
          "base_uri": "https://localhost:8080/"
        },
        "id": "IzykAYqqdBHl",
        "outputId": "0cd96b53-9f00-4775-f1a7-c94bdbab1fa1"
      },
      "execution_count": 150,
      "outputs": [
        {
          "output_type": "stream",
          "name": "stdout",
          "text": [
            "[[57  4]\n",
            " [ 5 24]]\n",
            "0.9\n",
            "Accuracy :  0.9\n",
            "Sensitivity :  0.9344262295081968\n",
            "Specificity :  0.8275862068965517\n",
            "Area Under Curve :  0.8810062182023741\n"
          ]
        }
      ]
    },
    {
      "cell_type": "code",
      "source": [
        "models = pd.DataFrame({\n",
        "    'Model': ['Support Vector Machines', 'KNN', 'Logistic Regression', \n",
        "              'Random Forest', 'ANN',   \n",
        "              'Decision Tree','xgboost'],\n",
        "    'Score': [acc_svc, acc_knn, acc_logreg, \n",
        "              acc_randomforest, ac_ann, acc_decisiontree,ac_xgboost\n",
        "              ]})\n",
        "models.sort_values(by='Score', ascending=False)"
      ],
      "metadata": {
        "colab": {
          "base_uri": "https://localhost:8080/",
          "height": 269
        },
        "id": "HBCVcWV6dEj-",
        "outputId": "c73519cd-d6c6-4b4a-b976-5bad5a753ff4"
      },
      "execution_count": 151,
      "outputs": [
        {
          "output_type": "execute_result",
          "data": {
            "text/plain": [
              "                     Model     Score\n",
              "6                  xgboost  0.900000\n",
              "5            Decision Tree  0.888889\n",
              "3            Random Forest  0.877778\n",
              "0  Support Vector Machines  0.855556\n",
              "2      Logistic Regression  0.855556\n",
              "1                      KNN  0.822222\n",
              "4                      ANN  0.811111"
            ],
            "text/html": [
              "\n",
              "  <div id=\"df-0786a98d-6612-4515-acc2-c8546b020385\">\n",
              "    <div class=\"colab-df-container\">\n",
              "      <div>\n",
              "<style scoped>\n",
              "    .dataframe tbody tr th:only-of-type {\n",
              "        vertical-align: middle;\n",
              "    }\n",
              "\n",
              "    .dataframe tbody tr th {\n",
              "        vertical-align: top;\n",
              "    }\n",
              "\n",
              "    .dataframe thead th {\n",
              "        text-align: right;\n",
              "    }\n",
              "</style>\n",
              "<table border=\"1\" class=\"dataframe\">\n",
              "  <thead>\n",
              "    <tr style=\"text-align: right;\">\n",
              "      <th></th>\n",
              "      <th>Model</th>\n",
              "      <th>Score</th>\n",
              "    </tr>\n",
              "  </thead>\n",
              "  <tbody>\n",
              "    <tr>\n",
              "      <th>6</th>\n",
              "      <td>xgboost</td>\n",
              "      <td>0.900000</td>\n",
              "    </tr>\n",
              "    <tr>\n",
              "      <th>5</th>\n",
              "      <td>Decision Tree</td>\n",
              "      <td>0.888889</td>\n",
              "    </tr>\n",
              "    <tr>\n",
              "      <th>3</th>\n",
              "      <td>Random Forest</td>\n",
              "      <td>0.877778</td>\n",
              "    </tr>\n",
              "    <tr>\n",
              "      <th>0</th>\n",
              "      <td>Support Vector Machines</td>\n",
              "      <td>0.855556</td>\n",
              "    </tr>\n",
              "    <tr>\n",
              "      <th>2</th>\n",
              "      <td>Logistic Regression</td>\n",
              "      <td>0.855556</td>\n",
              "    </tr>\n",
              "    <tr>\n",
              "      <th>1</th>\n",
              "      <td>KNN</td>\n",
              "      <td>0.822222</td>\n",
              "    </tr>\n",
              "    <tr>\n",
              "      <th>4</th>\n",
              "      <td>ANN</td>\n",
              "      <td>0.811111</td>\n",
              "    </tr>\n",
              "  </tbody>\n",
              "</table>\n",
              "</div>\n",
              "      <button class=\"colab-df-convert\" onclick=\"convertToInteractive('df-0786a98d-6612-4515-acc2-c8546b020385')\"\n",
              "              title=\"Convert this dataframe to an interactive table.\"\n",
              "              style=\"display:none;\">\n",
              "        \n",
              "  <svg xmlns=\"http://www.w3.org/2000/svg\" height=\"24px\"viewBox=\"0 0 24 24\"\n",
              "       width=\"24px\">\n",
              "    <path d=\"M0 0h24v24H0V0z\" fill=\"none\"/>\n",
              "    <path d=\"M18.56 5.44l.94 2.06.94-2.06 2.06-.94-2.06-.94-.94-2.06-.94 2.06-2.06.94zm-11 1L8.5 8.5l.94-2.06 2.06-.94-2.06-.94L8.5 2.5l-.94 2.06-2.06.94zm10 10l.94 2.06.94-2.06 2.06-.94-2.06-.94-.94-2.06-.94 2.06-2.06.94z\"/><path d=\"M17.41 7.96l-1.37-1.37c-.4-.4-.92-.59-1.43-.59-.52 0-1.04.2-1.43.59L10.3 9.45l-7.72 7.72c-.78.78-.78 2.05 0 2.83L4 21.41c.39.39.9.59 1.41.59.51 0 1.02-.2 1.41-.59l7.78-7.78 2.81-2.81c.8-.78.8-2.07 0-2.86zM5.41 20L4 18.59l7.72-7.72 1.47 1.35L5.41 20z\"/>\n",
              "  </svg>\n",
              "      </button>\n",
              "      \n",
              "  <style>\n",
              "    .colab-df-container {\n",
              "      display:flex;\n",
              "      flex-wrap:wrap;\n",
              "      gap: 12px;\n",
              "    }\n",
              "\n",
              "    .colab-df-convert {\n",
              "      background-color: #E8F0FE;\n",
              "      border: none;\n",
              "      border-radius: 50%;\n",
              "      cursor: pointer;\n",
              "      display: none;\n",
              "      fill: #1967D2;\n",
              "      height: 32px;\n",
              "      padding: 0 0 0 0;\n",
              "      width: 32px;\n",
              "    }\n",
              "\n",
              "    .colab-df-convert:hover {\n",
              "      background-color: #E2EBFA;\n",
              "      box-shadow: 0px 1px 2px rgba(60, 64, 67, 0.3), 0px 1px 3px 1px rgba(60, 64, 67, 0.15);\n",
              "      fill: #174EA6;\n",
              "    }\n",
              "\n",
              "    [theme=dark] .colab-df-convert {\n",
              "      background-color: #3B4455;\n",
              "      fill: #D2E3FC;\n",
              "    }\n",
              "\n",
              "    [theme=dark] .colab-df-convert:hover {\n",
              "      background-color: #434B5C;\n",
              "      box-shadow: 0px 1px 3px 1px rgba(0, 0, 0, 0.15);\n",
              "      filter: drop-shadow(0px 1px 2px rgba(0, 0, 0, 0.3));\n",
              "      fill: #FFFFFF;\n",
              "    }\n",
              "  </style>\n",
              "\n",
              "      <script>\n",
              "        const buttonEl =\n",
              "          document.querySelector('#df-0786a98d-6612-4515-acc2-c8546b020385 button.colab-df-convert');\n",
              "        buttonEl.style.display =\n",
              "          google.colab.kernel.accessAllowed ? 'block' : 'none';\n",
              "\n",
              "        async function convertToInteractive(key) {\n",
              "          const element = document.querySelector('#df-0786a98d-6612-4515-acc2-c8546b020385');\n",
              "          const dataTable =\n",
              "            await google.colab.kernel.invokeFunction('convertToInteractive',\n",
              "                                                     [key], {});\n",
              "          if (!dataTable) return;\n",
              "\n",
              "          const docLinkHtml = 'Like what you see? Visit the ' +\n",
              "            '<a target=\"_blank\" href=https://colab.research.google.com/notebooks/data_table.ipynb>data table notebook</a>'\n",
              "            + ' to learn more about interactive tables.';\n",
              "          element.innerHTML = '';\n",
              "          dataTable['output_type'] = 'display_data';\n",
              "          await google.colab.output.renderOutput(dataTable, element);\n",
              "          const docLink = document.createElement('div');\n",
              "          docLink.innerHTML = docLinkHtml;\n",
              "          element.appendChild(docLink);\n",
              "        }\n",
              "      </script>\n",
              "    </div>\n",
              "  </div>\n",
              "  "
            ]
          },
          "metadata": {},
          "execution_count": 151
        }
      ]
    },
    {
      "cell_type": "code",
      "source": [
        "plt.rcParams['figure.figsize']=15,6 \n",
        "sns.set_style(\"darkgrid\")\n",
        "ax = sns.barplot(x=models.Model, y=models.Score, palette = \"rocket\", saturation =1.5)\n",
        "plt.xlabel(\"Classifier Models\", fontsize = 20 )\n",
        "plt.ylabel(\"% of Accuracy\", fontsize = 20)\n",
        "plt.title(\"Accuracy of different Classifier Models\", fontsize = 20)\n",
        "plt.xticks(fontsize = 12, horizontalalignment = 'center', rotation = 8)\n",
        "plt.yticks(fontsize = 13)\n",
        "for p in ax.patches:\n",
        "    width, height = p.get_width(), p.get_height()\n",
        "    x, y = p.get_xy() \n",
        "    ax.annotate(f'{height:.2%}', (x + width/2, y + height*1.02), ha='center', fontsize = 'x-large')\n",
        "plt.show()"
      ],
      "metadata": {
        "colab": {
          "base_uri": "https://localhost:8080/",
          "height": 444
        },
        "id": "z-_Oj-4adQjx",
        "outputId": "eaf8c6ef-cc44-4107-e517-10026ce39fbb"
      },
      "execution_count": 152,
      "outputs": [
        {
          "output_type": "display_data",
          "data": {
            "text/plain": [
              "<Figure size 1080x432 with 1 Axes>"
            ],
            "image/png": "[encoded data removed]"
          },
          "metadata": {}
        }
      ]
    },
    {
      "cell_type": "code",
      "source": [],
      "metadata": {
        "id": "MVk2AxbvdVJP"
      },
      "execution_count": 152,
      "outputs": []
    }
  ]
}